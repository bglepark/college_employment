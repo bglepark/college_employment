{
 "cells": [
  {
   "cell_type": "code",
   "execution_count": 6,
   "id": "1c469508",
   "metadata": {},
   "outputs": [],
   "source": [
    "import pandas as pd\n",
    "import warnings\n",
    "warnings.filterwarnings('ignore')"
   ]
  },
  {
   "cell_type": "code",
   "execution_count": 7,
   "id": "1b7deeab",
   "metadata": {},
   "outputs": [
    {
     "data": {
      "text/html": [
       "<div>\n",
       "<style scoped>\n",
       "    .dataframe tbody tr th:only-of-type {\n",
       "        vertical-align: middle;\n",
       "    }\n",
       "\n",
       "    .dataframe tbody tr th {\n",
       "        vertical-align: top;\n",
       "    }\n",
       "\n",
       "    .dataframe thead th {\n",
       "        text-align: right;\n",
       "    }\n",
       "</style>\n",
       "<table border=\"1\" class=\"dataframe\">\n",
       "  <thead>\n",
       "    <tr style=\"text-align: right;\">\n",
       "      <th></th>\n",
       "      <th>pid</th>\n",
       "      <th>G181A021</th>\n",
       "    </tr>\n",
       "  </thead>\n",
       "  <tbody>\n",
       "    <tr>\n",
       "      <th>0</th>\n",
       "      <td>100013</td>\n",
       "      <td>2.0</td>\n",
       "    </tr>\n",
       "    <tr>\n",
       "      <th>1</th>\n",
       "      <td>100018</td>\n",
       "      <td>NaN</td>\n",
       "    </tr>\n",
       "    <tr>\n",
       "      <th>2</th>\n",
       "      <td>100019</td>\n",
       "      <td>5.0</td>\n",
       "    </tr>\n",
       "    <tr>\n",
       "      <th>3</th>\n",
       "      <td>100034</td>\n",
       "      <td>1.0</td>\n",
       "    </tr>\n",
       "    <tr>\n",
       "      <th>4</th>\n",
       "      <td>100036</td>\n",
       "      <td>1.0</td>\n",
       "    </tr>\n",
       "  </tbody>\n",
       "</table>\n",
       "</div>"
      ],
      "text/plain": [
       "      pid  G181A021\n",
       "0  100013       2.0\n",
       "1  100018       NaN\n",
       "2  100019       5.0\n",
       "3  100034       1.0\n",
       "4  100036       1.0"
      ]
     },
     "execution_count": 7,
     "metadata": {},
     "output_type": "execute_result"
    }
   ],
   "source": [
    "df = pd.read_csv('../datasets/GP_취업여부 변수 재설정_3개년.csv')\n",
    "df.head()"
   ]
  },
  {
   "cell_type": "code",
   "execution_count": 9,
   "id": "0a5ba224",
   "metadata": {},
   "outputs": [
    {
     "data": {
      "text/plain": [
       "1.0    31041\n",
       "2.0     6345\n",
       "5.0     1088\n",
       "4.0      598\n",
       "3.0      507\n",
       "6.0      112\n",
       "Name: G181A021, dtype: int64"
      ]
     },
     "execution_count": 9,
     "metadata": {},
     "output_type": "execute_result"
    }
   ],
   "source": [
    "df['G181A021'].value_counts()"
   ]
  },
  {
   "cell_type": "code",
   "execution_count": 10,
   "id": "5d48993a",
   "metadata": {},
   "outputs": [
    {
     "data": {
      "text/plain": [
       "pid             0\n",
       "G181A021    14752\n",
       "dtype: int64"
      ]
     },
     "execution_count": 10,
     "metadata": {},
     "output_type": "execute_result"
    }
   ],
   "source": [
    "df.isnull().sum()"
   ]
  },
  {
   "cell_type": "code",
   "execution_count": 11,
   "id": "8f504fca",
   "metadata": {},
   "outputs": [],
   "source": [
    "df['G181A021'] = df['G181A021'].fillna(0)"
   ]
  },
  {
   "cell_type": "code",
   "execution_count": 13,
   "id": "4ada1633",
   "metadata": {},
   "outputs": [
    {
     "data": {
      "text/plain": [
       "1.0    31041\n",
       "0.0    14752\n",
       "2.0     6345\n",
       "5.0     1088\n",
       "4.0      598\n",
       "3.0      507\n",
       "6.0      112\n",
       "Name: G181A021, dtype: int64"
      ]
     },
     "execution_count": 13,
     "metadata": {},
     "output_type": "execute_result"
    }
   ],
   "source": [
    "df['G181A021'].value_counts()"
   ]
  },
  {
   "cell_type": "code",
   "execution_count": 15,
   "id": "690d42af",
   "metadata": {},
   "outputs": [],
   "source": [
    "df['G181A021'].loc[df['G181A021']!=0] = 1"
   ]
  },
  {
   "cell_type": "code",
   "execution_count": 17,
   "id": "453bddbc",
   "metadata": {},
   "outputs": [
    {
     "data": {
      "text/plain": [
       "1.0    39691\n",
       "0.0    14752\n",
       "Name: G181A021, dtype: int64"
      ]
     },
     "execution_count": 17,
     "metadata": {},
     "output_type": "execute_result"
    }
   ],
   "source": [
    "df['G181A021'].value_counts()"
   ]
  },
  {
   "cell_type": "code",
   "execution_count": 18,
   "id": "d4663b66",
   "metadata": {},
   "outputs": [],
   "source": [
    "df.drop(columns=['pid'] , inplace=True)\n"
   ]
  },
  {
   "cell_type": "code",
   "execution_count": 20,
   "id": "b93b979a",
   "metadata": {},
   "outputs": [],
   "source": [
    "df.rename(columns={'G181A021':'취업여부'} , inplace=True)"
   ]
  },
  {
   "cell_type": "code",
   "execution_count": 22,
   "id": "c72efae4",
   "metadata": {},
   "outputs": [],
   "source": [
    "df.to_csv('3개년 종속변수 재설정.csv' , encoding='utf-8-sig' , index=False)"
   ]
  },
  {
   "cell_type": "code",
   "execution_count": null,
   "id": "2449f0aa",
   "metadata": {},
   "outputs": [],
   "source": []
  }
 ],
 "metadata": {
  "kernelspec": {
   "display_name": "Python 3",
   "language": "python",
   "name": "python3"
  },
  "language_info": {
   "codemirror_mode": {
    "name": "ipython",
    "version": 3
   },
   "file_extension": ".py",
   "mimetype": "text/x-python",
   "name": "python",
   "nbconvert_exporter": "python",
   "pygments_lexer": "ipython3",
   "version": "3.8.8"
  }
 },
 "nbformat": 4,
 "nbformat_minor": 5
}
