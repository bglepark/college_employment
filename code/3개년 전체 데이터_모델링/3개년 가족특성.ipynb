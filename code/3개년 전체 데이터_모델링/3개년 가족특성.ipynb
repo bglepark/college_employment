{
 "cells": [
  {
   "cell_type": "code",
   "execution_count": 1,
   "id": "d0c81b8d",
   "metadata": {},
   "outputs": [],
   "source": [
    "import pandas as pd\n",
    "import warnings\n",
    "warnings.filterwarnings('ignore')"
   ]
  },
  {
   "cell_type": "code",
   "execution_count": 2,
   "id": "15a55884",
   "metadata": {},
   "outputs": [
    {
     "data": {
      "text/html": [
       "<div>\n",
       "<style scoped>\n",
       "    .dataframe tbody tr th:only-of-type {\n",
       "        vertical-align: middle;\n",
       "    }\n",
       "\n",
       "    .dataframe tbody tr th {\n",
       "        vertical-align: top;\n",
       "    }\n",
       "\n",
       "    .dataframe thead th {\n",
       "        text-align: right;\n",
       "    }\n",
       "</style>\n",
       "<table border=\"1\" class=\"dataframe\">\n",
       "  <thead>\n",
       "    <tr style=\"text-align: right;\">\n",
       "      <th></th>\n",
       "      <th>연도</th>\n",
       "      <th>본분교</th>\n",
       "      <th>국공사립</th>\n",
       "      <th>학위과정유형</th>\n",
       "      <th>주야간</th>\n",
       "      <th>전공계열</th>\n",
       "      <th>전공_소분류_코드</th>\n",
       "      <th>전공_세분류_코드</th>\n",
       "      <th>학교유형</th>\n",
       "      <th>학교소재지역</th>\n",
       "      <th>...</th>\n",
       "      <th>G181G019</th>\n",
       "      <th>G181G033</th>\n",
       "      <th>G181G038</th>\n",
       "      <th>G181P001</th>\n",
       "      <th>G181P004</th>\n",
       "      <th>G181P026</th>\n",
       "      <th>G181P029</th>\n",
       "      <th>G181P035</th>\n",
       "      <th>G181P036</th>\n",
       "      <th>G181P042</th>\n",
       "    </tr>\n",
       "  </thead>\n",
       "  <tbody>\n",
       "    <tr>\n",
       "      <th>0</th>\n",
       "      <td>2018</td>\n",
       "      <td>1</td>\n",
       "      <td>3</td>\n",
       "      <td>3</td>\n",
       "      <td>2</td>\n",
       "      <td>1</td>\n",
       "      <td>C010101</td>\n",
       "      <td>C01010100027</td>\n",
       "      <td>1</td>\n",
       "      <td>1</td>\n",
       "      <td>...</td>\n",
       "      <td>NaN</td>\n",
       "      <td>NaN</td>\n",
       "      <td>NaN</td>\n",
       "      <td>1</td>\n",
       "      <td>NaN</td>\n",
       "      <td>4</td>\n",
       "      <td>4</td>\n",
       "      <td>5</td>\n",
       "      <td>3</td>\n",
       "      <td>NaN</td>\n",
       "    </tr>\n",
       "    <tr>\n",
       "      <th>1</th>\n",
       "      <td>2018</td>\n",
       "      <td>1</td>\n",
       "      <td>3</td>\n",
       "      <td>3</td>\n",
       "      <td>1</td>\n",
       "      <td>1</td>\n",
       "      <td>C010101</td>\n",
       "      <td>C01010100013</td>\n",
       "      <td>1</td>\n",
       "      <td>1</td>\n",
       "      <td>...</td>\n",
       "      <td>NaN</td>\n",
       "      <td>NaN</td>\n",
       "      <td>NaN</td>\n",
       "      <td>1</td>\n",
       "      <td>NaN</td>\n",
       "      <td>4</td>\n",
       "      <td>4</td>\n",
       "      <td>4</td>\n",
       "      <td>3</td>\n",
       "      <td>NaN</td>\n",
       "    </tr>\n",
       "    <tr>\n",
       "      <th>2</th>\n",
       "      <td>2018</td>\n",
       "      <td>1</td>\n",
       "      <td>3</td>\n",
       "      <td>3</td>\n",
       "      <td>1</td>\n",
       "      <td>1</td>\n",
       "      <td>C010101</td>\n",
       "      <td>C01010100013</td>\n",
       "      <td>1</td>\n",
       "      <td>1</td>\n",
       "      <td>...</td>\n",
       "      <td>1.0</td>\n",
       "      <td>NaN</td>\n",
       "      <td>NaN</td>\n",
       "      <td>1</td>\n",
       "      <td>NaN</td>\n",
       "      <td>6</td>\n",
       "      <td>6</td>\n",
       "      <td>6</td>\n",
       "      <td>5</td>\n",
       "      <td>40.0</td>\n",
       "    </tr>\n",
       "    <tr>\n",
       "      <th>3</th>\n",
       "      <td>2018</td>\n",
       "      <td>1</td>\n",
       "      <td>3</td>\n",
       "      <td>3</td>\n",
       "      <td>1</td>\n",
       "      <td>1</td>\n",
       "      <td>C010101</td>\n",
       "      <td>C01010100005</td>\n",
       "      <td>1</td>\n",
       "      <td>8</td>\n",
       "      <td>...</td>\n",
       "      <td>NaN</td>\n",
       "      <td>NaN</td>\n",
       "      <td>NaN</td>\n",
       "      <td>1</td>\n",
       "      <td>NaN</td>\n",
       "      <td>6</td>\n",
       "      <td>6</td>\n",
       "      <td>6</td>\n",
       "      <td>5</td>\n",
       "      <td>NaN</td>\n",
       "    </tr>\n",
       "    <tr>\n",
       "      <th>4</th>\n",
       "      <td>2018</td>\n",
       "      <td>1</td>\n",
       "      <td>3</td>\n",
       "      <td>3</td>\n",
       "      <td>1</td>\n",
       "      <td>1</td>\n",
       "      <td>C010101</td>\n",
       "      <td>C01010100005</td>\n",
       "      <td>1</td>\n",
       "      <td>8</td>\n",
       "      <td>...</td>\n",
       "      <td>NaN</td>\n",
       "      <td>NaN</td>\n",
       "      <td>NaN</td>\n",
       "      <td>1</td>\n",
       "      <td>NaN</td>\n",
       "      <td>4</td>\n",
       "      <td>4</td>\n",
       "      <td>6</td>\n",
       "      <td>4</td>\n",
       "      <td>NaN</td>\n",
       "    </tr>\n",
       "  </tbody>\n",
       "</table>\n",
       "<p>5 rows × 44 columns</p>\n",
       "</div>"
      ],
      "text/plain": [
       "     연도  본분교  국공사립  학위과정유형  주야간  전공계열 전공_소분류_코드     전공_세분류_코드  학교유형  학교소재지역  \\\n",
       "0  2018    1     3       3    2     1   C010101  C01010100027     1       1   \n",
       "1  2018    1     3       3    1     1   C010101  C01010100013     1       1   \n",
       "2  2018    1     3       3    1     1   C010101  C01010100013     1       1   \n",
       "3  2018    1     3       3    1     1   C010101  C01010100005     1       8   \n",
       "4  2018    1     3       3    1     1   C010101  C01010100005     1       8   \n",
       "\n",
       "   ...  G181G019  G181G033  G181G038  G181P001  G181P004  G181P026  G181P029  \\\n",
       "0  ...       NaN       NaN       NaN         1       NaN         4         4   \n",
       "1  ...       NaN       NaN       NaN         1       NaN         4         4   \n",
       "2  ...       1.0       NaN       NaN         1       NaN         6         6   \n",
       "3  ...       NaN       NaN       NaN         1       NaN         6         6   \n",
       "4  ...       NaN       NaN       NaN         1       NaN         4         4   \n",
       "\n",
       "   G181P035  G181P036  G181P042  \n",
       "0         5         3       NaN  \n",
       "1         4         3       NaN  \n",
       "2         6         5      40.0  \n",
       "3         6         5       NaN  \n",
       "4         6         4       NaN  \n",
       "\n",
       "[5 rows x 44 columns]"
      ]
     },
     "execution_count": 2,
     "metadata": {},
     "output_type": "execute_result"
    }
   ],
   "source": [
    "df = pd.read_csv('./datasets/GP_data_2016_2018_기본변수+타겟+졸업대학+가족.csv')\n",
    "df.head()"
   ]
  },
  {
   "cell_type": "code",
   "execution_count": 10,
   "id": "d75038b2",
   "metadata": {},
   "outputs": [
    {
     "data": {
      "text/html": [
       "<div>\n",
       "<style scoped>\n",
       "    .dataframe tbody tr th:only-of-type {\n",
       "        vertical-align: middle;\n",
       "    }\n",
       "\n",
       "    .dataframe tbody tr th {\n",
       "        vertical-align: top;\n",
       "    }\n",
       "\n",
       "    .dataframe thead th {\n",
       "        text-align: right;\n",
       "    }\n",
       "</style>\n",
       "<table border=\"1\" class=\"dataframe\">\n",
       "  <thead>\n",
       "    <tr style=\"text-align: right;\">\n",
       "      <th></th>\n",
       "      <th>G181P001</th>\n",
       "      <th>G181P004</th>\n",
       "      <th>G181P026</th>\n",
       "      <th>G181P029</th>\n",
       "      <th>G181P035</th>\n",
       "      <th>G181P036</th>\n",
       "      <th>G181P042</th>\n",
       "    </tr>\n",
       "  </thead>\n",
       "  <tbody>\n",
       "    <tr>\n",
       "      <th>0</th>\n",
       "      <td>1</td>\n",
       "      <td>NaN</td>\n",
       "      <td>4</td>\n",
       "      <td>4</td>\n",
       "      <td>5</td>\n",
       "      <td>3</td>\n",
       "      <td>NaN</td>\n",
       "    </tr>\n",
       "    <tr>\n",
       "      <th>1</th>\n",
       "      <td>1</td>\n",
       "      <td>NaN</td>\n",
       "      <td>4</td>\n",
       "      <td>4</td>\n",
       "      <td>4</td>\n",
       "      <td>3</td>\n",
       "      <td>NaN</td>\n",
       "    </tr>\n",
       "    <tr>\n",
       "      <th>2</th>\n",
       "      <td>1</td>\n",
       "      <td>NaN</td>\n",
       "      <td>6</td>\n",
       "      <td>6</td>\n",
       "      <td>6</td>\n",
       "      <td>5</td>\n",
       "      <td>40.0</td>\n",
       "    </tr>\n",
       "    <tr>\n",
       "      <th>3</th>\n",
       "      <td>1</td>\n",
       "      <td>NaN</td>\n",
       "      <td>6</td>\n",
       "      <td>6</td>\n",
       "      <td>6</td>\n",
       "      <td>5</td>\n",
       "      <td>NaN</td>\n",
       "    </tr>\n",
       "    <tr>\n",
       "      <th>4</th>\n",
       "      <td>1</td>\n",
       "      <td>NaN</td>\n",
       "      <td>4</td>\n",
       "      <td>4</td>\n",
       "      <td>6</td>\n",
       "      <td>4</td>\n",
       "      <td>NaN</td>\n",
       "    </tr>\n",
       "  </tbody>\n",
       "</table>\n",
       "</div>"
      ],
      "text/plain": [
       "   G181P001  G181P004  G181P026  G181P029  G181P035  G181P036  G181P042\n",
       "0         1       NaN         4         4         5         3       NaN\n",
       "1         1       NaN         4         4         4         3       NaN\n",
       "2         1       NaN         6         6         6         5      40.0\n",
       "3         1       NaN         6         6         6         5       NaN\n",
       "4         1       NaN         4         4         6         4       NaN"
      ]
     },
     "execution_count": 10,
     "metadata": {},
     "output_type": "execute_result"
    }
   ],
   "source": [
    "# G181P001\n",
    "# G181P004\n",
    "# G181P026\n",
    "# G181P029\n",
    "# G181P035\n",
    "# G181P036\n",
    "# G181P042\n",
    "\n",
    "family_df = df[['G181P001',\n",
    "'G181P004',\n",
    "'G181P026',\n",
    "'G181P029',\n",
    "'G181P035',\n",
    "'G181P036',\n",
    "'G181P042']]\n",
    "\n",
    "family_df.head()\n"
   ]
  },
  {
   "cell_type": "markdown",
   "id": "4b8cd72f",
   "metadata": {},
   "source": [
    "# 혼인여부 및 배우자 학력"
   ]
  },
  {
   "cell_type": "code",
   "execution_count": 7,
   "id": "e5776a26",
   "metadata": {},
   "outputs": [
    {
     "name": "stdout",
     "output_type": "stream",
     "text": [
      "1    51736\n",
      "2     2536\n",
      "3      112\n",
      "4       59\n",
      "Name: G181P001, dtype: int64\n",
      "0\n",
      "1    51907\n",
      "2     2536\n",
      "Name: G181P001, dtype: int64\n",
      "0\n"
     ]
    }
   ],
   "source": [
    "# 혼인여부 확인\n",
    "print(family_df['G181P001'].value_counts())\n",
    "print(family_df['G181P001'].isnull().sum())\n",
    "\n",
    "# 결측값 없다\n",
    "\n",
    "# 이혼과 사별은 미혼으로 변경\n",
    "family_df['G181P001'] = family_df['G181P001'].replace(3, 1).replace(4,1)\n",
    "print(family_df['G181P001'].value_counts())\n",
    "print(family_df['G181P001'].isnull().sum())"
   ]
  },
  {
   "cell_type": "code",
   "execution_count": 11,
   "id": "222100e3",
   "metadata": {},
   "outputs": [
    {
     "name": "stdout",
     "output_type": "stream",
     "text": [
      "6.0    1305\n",
      "4.0     523\n",
      "5.0     459\n",
      "7.0     176\n",
      "3.0      59\n",
      "2.0      13\n",
      "1.0       1\n",
      "Name: G181P004, dtype: int64\n",
      "51907\n",
      "G181P001  G181P004\n",
      "2         6.0         1305\n",
      "          4.0          523\n",
      "          5.0          459\n",
      "          7.0          176\n",
      "          3.0           59\n",
      "          2.0           13\n",
      "          1.0            1\n",
      "dtype: int64\n",
      "0.0    51907\n",
      "6.0     1305\n",
      "4.0      523\n",
      "5.0      459\n",
      "7.0      176\n",
      "3.0       59\n",
      "2.0       13\n",
      "1.0        1\n",
      "Name: G181P004, dtype: int64\n",
      "0\n"
     ]
    }
   ],
   "source": [
    "# 배우자 학력 확인\n",
    "\n",
    "print(family_df['G181P004'].value_counts())\n",
    "print(family_df['G181P004'].isnull().sum())\n",
    "\n",
    "print(family_df[['G181P001', 'G181P004']].value_counts())\n",
    "\n",
    "# 배우자 학력 결측치를 0으로 변경 -> 0인 값은 미혼으로 판단\n",
    "\n",
    "family_df['G181P004'] = family_df['G181P004'].fillna(0)\n",
    "print(family_df['G181P004'].value_counts())\n",
    "print(family_df['G181P004'].isnull().sum())"
   ]
  },
  {
   "cell_type": "code",
   "execution_count": 12,
   "id": "d5b20c05",
   "metadata": {},
   "outputs": [],
   "source": [
    "family_df.rename(columns={'G181P004' : '혼인여부 및 배우자 학력'} , inplace=True)"
   ]
  },
  {
   "cell_type": "code",
   "execution_count": 15,
   "id": "7302089a",
   "metadata": {},
   "outputs": [
    {
     "data": {
      "text/plain": [
       "Index(['혼인여부 및 배우자 학력', 'G181P026', 'G181P029', 'G181P035', 'G181P036',\n",
       "       'G181P042'],\n",
       "      dtype='object')"
      ]
     },
     "execution_count": 15,
     "metadata": {},
     "output_type": "execute_result"
    }
   ],
   "source": [
    "family_df.drop(columns=['G181P001'] , inplace=True)\n",
    "family_df.columns"
   ]
  },
  {
   "cell_type": "markdown",
   "id": "8584e61c",
   "metadata": {},
   "source": [
    "# 아버지 및 어머니 학력"
   ]
  },
  {
   "cell_type": "code",
   "execution_count": 18,
   "id": "cf1491dc",
   "metadata": {},
   "outputs": [
    {
     "name": "stdout",
     "output_type": "stream",
     "text": [
      "4    21538\n",
      "6    18953\n",
      "7     4745\n",
      "5     3942\n",
      "3     2907\n",
      "2     2050\n",
      "1      308\n",
      "Name: G181P026, dtype: int64\n",
      "0\n"
     ]
    }
   ],
   "source": [
    "print(family_df['G181P026'].value_counts())\n",
    "print(family_df['G181P026'].isnull().sum())\n",
    "\n",
    "family_df.rename(columns={'G181P026' : '아버지 학력'} , inplace=True)"
   ]
  },
  {
   "cell_type": "code",
   "execution_count": 20,
   "id": "a560904f",
   "metadata": {},
   "outputs": [
    {
     "name": "stdout",
     "output_type": "stream",
     "text": [
      "4    29094\n",
      "6    13655\n",
      "5     3864\n",
      "3     3211\n",
      "2     2109\n",
      "7     2101\n",
      "1      409\n",
      "Name: G181P029, dtype: int64\n",
      "0\n"
     ]
    }
   ],
   "source": [
    "print(family_df['G181P029'].value_counts())\n",
    "print(family_df['G181P029'].isnull().sum())\n",
    "\n",
    "family_df.rename(columns={'G181P029' : '어머니 학력'} , inplace=True)"
   ]
  },
  {
   "cell_type": "markdown",
   "id": "f55bea34",
   "metadata": {},
   "source": [
    "# 부모님 소득"
   ]
  },
  {
   "cell_type": "code",
   "execution_count": 23,
   "id": "b8e5d29e",
   "metadata": {},
   "outputs": [
    {
     "name": "stdout",
     "output_type": "stream",
     "text": [
      " 5     10367\n",
      " 4     10034\n",
      " 6      8731\n",
      " 3      8393\n",
      " 2      4636\n",
      " 7      4300\n",
      " 8      3346\n",
      " 9      1729\n",
      " 1      1528\n",
      "-1       830\n",
      " 10      549\n",
      "Name: G181P035, dtype: int64\n",
      "0\n",
      "5    10367\n",
      "4    10034\n",
      "6     8731\n",
      "3     8393\n",
      "2     4636\n",
      "7     4300\n",
      "8     3346\n",
      "0     3108\n",
      "1     1528\n",
      "Name: G181P035, dtype: int64\n"
     ]
    }
   ],
   "source": [
    "print(family_df['G181P035'].value_counts())\n",
    "print(family_df['G181P035'].isnull().sum())\n",
    "\n",
    "family_df['G181P035'] = family_df['G181P035'].replace(-1,0).replace(10,0).replace(9,0)\n",
    "print(family_df['G181P035'].value_counts())"
   ]
  },
  {
   "cell_type": "code",
   "execution_count": 24,
   "id": "c6f69055",
   "metadata": {},
   "outputs": [],
   "source": [
    "family_df.rename(columns={'G181P035':'부모님 소득'} , inplace=True)"
   ]
  },
  {
   "cell_type": "markdown",
   "id": "c3d3676d",
   "metadata": {},
   "source": [
    "# 부모님 자산"
   ]
  },
  {
   "cell_type": "code",
   "execution_count": 26,
   "id": "36c43ded",
   "metadata": {},
   "outputs": [
    {
     "name": "stdout",
     "output_type": "stream",
     "text": [
      " 3    14845\n",
      " 4    12109\n",
      " 2     9203\n",
      " 1     7003\n",
      " 5     6705\n",
      " 6     3148\n",
      "-1      921\n",
      " 7      509\n",
      "Name: G181P036, dtype: int64\n",
      "0\n"
     ]
    }
   ],
   "source": [
    "print(family_df['G181P036'].value_counts())\n",
    "print(family_df['G181P036'].isnull().sum())"
   ]
  },
  {
   "cell_type": "code",
   "execution_count": 27,
   "id": "03ccfcf3",
   "metadata": {},
   "outputs": [],
   "source": [
    "family_df['G181P036'] = family_df['G181P036'].replace(-1,0).replace(7,0)"
   ]
  },
  {
   "cell_type": "code",
   "execution_count": 28,
   "id": "137685a4",
   "metadata": {},
   "outputs": [
    {
     "name": "stdout",
     "output_type": "stream",
     "text": [
      "3    14845\n",
      "4    12109\n",
      "2     9203\n",
      "1     7003\n",
      "5     6705\n",
      "6     3148\n",
      "0     1430\n",
      "Name: G181P036, dtype: int64\n"
     ]
    }
   ],
   "source": [
    "print(family_df['G181P036'].value_counts())"
   ]
  },
  {
   "cell_type": "code",
   "execution_count": 29,
   "id": "8a02f729",
   "metadata": {},
   "outputs": [],
   "source": [
    "family_df.rename(columns={'G181P036':'부모님 자산'} , inplace=True)"
   ]
  },
  {
   "cell_type": "markdown",
   "id": "d331203c",
   "metadata": {},
   "source": [
    "# 가정의 경제적 지원"
   ]
  },
  {
   "cell_type": "code",
   "execution_count": 32,
   "id": "c66d6436",
   "metadata": {},
   "outputs": [
    {
     "name": "stdout",
     "output_type": "stream",
     "text": [
      "30.0      2810\n",
      "50.0      2224\n",
      "20.0      1571\n",
      "40.0      1179\n",
      "100.0      722\n",
      "          ... \n",
      "1500.0       1\n",
      "600.0        1\n",
      "69.0         1\n",
      "105.0        1\n",
      "29.0         1\n",
      "Name: G181P042, Length: 100, dtype: int64\n",
      "42855\n",
      "0\n",
      "0.0\n"
     ]
    }
   ],
   "source": [
    "print(family_df['G181P042'].value_counts())\n",
    "print(family_df['G181P042'].isnull().sum())\n",
    "family_df['G181P042'] = family_df['G181P042'].fillna(0)\n",
    "\n",
    "print(family_df['G181P042'].isnull().sum())\n",
    "print(min(family_df['G181P042']))"
   ]
  },
  {
   "cell_type": "code",
   "execution_count": 33,
   "id": "408cc0d9",
   "metadata": {},
   "outputs": [],
   "source": [
    "family_df.rename(columns={'G181P042':'가정의 경제적 지원'} , inplace=True)"
   ]
  },
  {
   "cell_type": "code",
   "execution_count": 34,
   "id": "e70dbc47",
   "metadata": {},
   "outputs": [
    {
     "name": "stdout",
     "output_type": "stream",
     "text": [
      "<class 'pandas.core.frame.DataFrame'>\n",
      "RangeIndex: 54443 entries, 0 to 54442\n",
      "Data columns (total 6 columns):\n",
      " #   Column         Non-Null Count  Dtype  \n",
      "---  ------         --------------  -----  \n",
      " 0   혼인여부 및 배우자 학력  54443 non-null  float64\n",
      " 1   아버지 학력         54443 non-null  int64  \n",
      " 2   어머니 학력         54443 non-null  int64  \n",
      " 3   부모님 소득         54443 non-null  int64  \n",
      " 4   부모님 자산         54443 non-null  int64  \n",
      " 5   가정의 경제적 지원     54443 non-null  float64\n",
      "dtypes: float64(2), int64(4)\n",
      "memory usage: 2.5 MB\n"
     ]
    }
   ],
   "source": [
    "family_df.info()"
   ]
  },
  {
   "cell_type": "code",
   "execution_count": 35,
   "id": "c3f9bfc3",
   "metadata": {},
   "outputs": [
    {
     "data": {
      "text/html": [
       "<div>\n",
       "<style scoped>\n",
       "    .dataframe tbody tr th:only-of-type {\n",
       "        vertical-align: middle;\n",
       "    }\n",
       "\n",
       "    .dataframe tbody tr th {\n",
       "        vertical-align: top;\n",
       "    }\n",
       "\n",
       "    .dataframe thead th {\n",
       "        text-align: right;\n",
       "    }\n",
       "</style>\n",
       "<table border=\"1\" class=\"dataframe\">\n",
       "  <thead>\n",
       "    <tr style=\"text-align: right;\">\n",
       "      <th></th>\n",
       "      <th>혼인여부 및 배우자 학력</th>\n",
       "      <th>아버지 학력</th>\n",
       "      <th>어머니 학력</th>\n",
       "      <th>부모님 소득</th>\n",
       "      <th>부모님 자산</th>\n",
       "      <th>가정의 경제적 지원</th>\n",
       "    </tr>\n",
       "  </thead>\n",
       "  <tbody>\n",
       "    <tr>\n",
       "      <th>count</th>\n",
       "      <td>54443.000000</td>\n",
       "      <td>54443.000000</td>\n",
       "      <td>54443.000000</td>\n",
       "      <td>54443.000000</td>\n",
       "      <td>54443.000000</td>\n",
       "      <td>54443.000000</td>\n",
       "    </tr>\n",
       "    <tr>\n",
       "      <th>mean</th>\n",
       "      <td>0.250776</td>\n",
       "      <td>4.884448</td>\n",
       "      <td>4.529379</td>\n",
       "      <td>4.356924</td>\n",
       "      <td>3.137098</td>\n",
       "      <td>9.806476</td>\n",
       "    </tr>\n",
       "    <tr>\n",
       "      <th>std</th>\n",
       "      <td>1.154842</td>\n",
       "      <td>1.312257</td>\n",
       "      <td>1.192840</td>\n",
       "      <td>2.014824</td>\n",
       "      <td>1.461723</td>\n",
       "      <td>29.301280</td>\n",
       "    </tr>\n",
       "    <tr>\n",
       "      <th>min</th>\n",
       "      <td>0.000000</td>\n",
       "      <td>1.000000</td>\n",
       "      <td>1.000000</td>\n",
       "      <td>0.000000</td>\n",
       "      <td>0.000000</td>\n",
       "      <td>0.000000</td>\n",
       "    </tr>\n",
       "    <tr>\n",
       "      <th>25%</th>\n",
       "      <td>0.000000</td>\n",
       "      <td>4.000000</td>\n",
       "      <td>4.000000</td>\n",
       "      <td>3.000000</td>\n",
       "      <td>2.000000</td>\n",
       "      <td>0.000000</td>\n",
       "    </tr>\n",
       "    <tr>\n",
       "      <th>50%</th>\n",
       "      <td>0.000000</td>\n",
       "      <td>5.000000</td>\n",
       "      <td>4.000000</td>\n",
       "      <td>4.000000</td>\n",
       "      <td>3.000000</td>\n",
       "      <td>0.000000</td>\n",
       "    </tr>\n",
       "    <tr>\n",
       "      <th>75%</th>\n",
       "      <td>0.000000</td>\n",
       "      <td>6.000000</td>\n",
       "      <td>6.000000</td>\n",
       "      <td>6.000000</td>\n",
       "      <td>4.000000</td>\n",
       "      <td>0.000000</td>\n",
       "    </tr>\n",
       "    <tr>\n",
       "      <th>max</th>\n",
       "      <td>7.000000</td>\n",
       "      <td>7.000000</td>\n",
       "      <td>7.000000</td>\n",
       "      <td>8.000000</td>\n",
       "      <td>6.000000</td>\n",
       "      <td>3000.000000</td>\n",
       "    </tr>\n",
       "  </tbody>\n",
       "</table>\n",
       "</div>"
      ],
      "text/plain": [
       "       혼인여부 및 배우자 학력        아버지 학력        어머니 학력        부모님 소득        부모님 자산  \\\n",
       "count   54443.000000  54443.000000  54443.000000  54443.000000  54443.000000   \n",
       "mean        0.250776      4.884448      4.529379      4.356924      3.137098   \n",
       "std         1.154842      1.312257      1.192840      2.014824      1.461723   \n",
       "min         0.000000      1.000000      1.000000      0.000000      0.000000   \n",
       "25%         0.000000      4.000000      4.000000      3.000000      2.000000   \n",
       "50%         0.000000      5.000000      4.000000      4.000000      3.000000   \n",
       "75%         0.000000      6.000000      6.000000      6.000000      4.000000   \n",
       "max         7.000000      7.000000      7.000000      8.000000      6.000000   \n",
       "\n",
       "         가정의 경제적 지원  \n",
       "count  54443.000000  \n",
       "mean       9.806476  \n",
       "std       29.301280  \n",
       "min        0.000000  \n",
       "25%        0.000000  \n",
       "50%        0.000000  \n",
       "75%        0.000000  \n",
       "max     3000.000000  "
      ]
     },
     "execution_count": 35,
     "metadata": {},
     "output_type": "execute_result"
    }
   ],
   "source": [
    "family_df.describe()"
   ]
  },
  {
   "cell_type": "code",
   "execution_count": 36,
   "id": "66c1de31",
   "metadata": {},
   "outputs": [],
   "source": [
    "family_df.to_csv('GP_가족 특성(3years).csv' , index=False , encoding='utf-8-sig')"
   ]
  },
  {
   "cell_type": "code",
   "execution_count": null,
   "id": "9278470e",
   "metadata": {},
   "outputs": [],
   "source": []
  }
 ],
 "metadata": {
  "kernelspec": {
   "display_name": "Python 3",
   "language": "python",
   "name": "python3"
  },
  "language_info": {
   "codemirror_mode": {
    "name": "ipython",
    "version": 3
   },
   "file_extension": ".py",
   "mimetype": "text/x-python",
   "name": "python",
   "nbconvert_exporter": "python",
   "pygments_lexer": "ipython3",
   "version": "3.8.8"
  }
 },
 "nbformat": 4,
 "nbformat_minor": 5
}
