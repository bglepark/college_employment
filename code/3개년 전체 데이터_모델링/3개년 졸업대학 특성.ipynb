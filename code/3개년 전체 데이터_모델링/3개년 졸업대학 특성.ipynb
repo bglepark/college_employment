{
 "cells": [
  {
   "cell_type": "code",
   "execution_count": 25,
   "id": "acd2d358",
   "metadata": {},
   "outputs": [],
   "source": [
    "import pandas as pd\n",
    "import warnings\n",
    "warnings.filterwarnings('ignore')"
   ]
  },
  {
   "cell_type": "code",
   "execution_count": 26,
   "id": "e43393cb",
   "metadata": {},
   "outputs": [
    {
     "data": {
      "text/html": [
       "<div>\n",
       "<style scoped>\n",
       "    .dataframe tbody tr th:only-of-type {\n",
       "        vertical-align: middle;\n",
       "    }\n",
       "\n",
       "    .dataframe tbody tr th {\n",
       "        vertical-align: top;\n",
       "    }\n",
       "\n",
       "    .dataframe thead th {\n",
       "        text-align: right;\n",
       "    }\n",
       "</style>\n",
       "<table border=\"1\" class=\"dataframe\">\n",
       "  <thead>\n",
       "    <tr style=\"text-align: right;\">\n",
       "      <th></th>\n",
       "      <th>연도</th>\n",
       "      <th>본분교</th>\n",
       "      <th>국공사립</th>\n",
       "      <th>학위과정유형</th>\n",
       "      <th>주야간</th>\n",
       "      <th>전공계열</th>\n",
       "      <th>전공_소분류_코드</th>\n",
       "      <th>전공_세분류_코드</th>\n",
       "      <th>학교유형</th>\n",
       "      <th>학교소재지역</th>\n",
       "      <th>...</th>\n",
       "      <th>G181G019</th>\n",
       "      <th>G181G033</th>\n",
       "      <th>G181G038</th>\n",
       "      <th>G181P001</th>\n",
       "      <th>G181P004</th>\n",
       "      <th>G181P026</th>\n",
       "      <th>G181P029</th>\n",
       "      <th>G181P035</th>\n",
       "      <th>G181P036</th>\n",
       "      <th>G181P042</th>\n",
       "    </tr>\n",
       "  </thead>\n",
       "  <tbody>\n",
       "    <tr>\n",
       "      <th>0</th>\n",
       "      <td>2018</td>\n",
       "      <td>1</td>\n",
       "      <td>3</td>\n",
       "      <td>3</td>\n",
       "      <td>2</td>\n",
       "      <td>1</td>\n",
       "      <td>C010101</td>\n",
       "      <td>C01010100027</td>\n",
       "      <td>1</td>\n",
       "      <td>1</td>\n",
       "      <td>...</td>\n",
       "      <td>NaN</td>\n",
       "      <td>NaN</td>\n",
       "      <td>NaN</td>\n",
       "      <td>1</td>\n",
       "      <td>NaN</td>\n",
       "      <td>4</td>\n",
       "      <td>4</td>\n",
       "      <td>5</td>\n",
       "      <td>3</td>\n",
       "      <td>NaN</td>\n",
       "    </tr>\n",
       "    <tr>\n",
       "      <th>1</th>\n",
       "      <td>2018</td>\n",
       "      <td>1</td>\n",
       "      <td>3</td>\n",
       "      <td>3</td>\n",
       "      <td>1</td>\n",
       "      <td>1</td>\n",
       "      <td>C010101</td>\n",
       "      <td>C01010100013</td>\n",
       "      <td>1</td>\n",
       "      <td>1</td>\n",
       "      <td>...</td>\n",
       "      <td>NaN</td>\n",
       "      <td>NaN</td>\n",
       "      <td>NaN</td>\n",
       "      <td>1</td>\n",
       "      <td>NaN</td>\n",
       "      <td>4</td>\n",
       "      <td>4</td>\n",
       "      <td>4</td>\n",
       "      <td>3</td>\n",
       "      <td>NaN</td>\n",
       "    </tr>\n",
       "    <tr>\n",
       "      <th>2</th>\n",
       "      <td>2018</td>\n",
       "      <td>1</td>\n",
       "      <td>3</td>\n",
       "      <td>3</td>\n",
       "      <td>1</td>\n",
       "      <td>1</td>\n",
       "      <td>C010101</td>\n",
       "      <td>C01010100013</td>\n",
       "      <td>1</td>\n",
       "      <td>1</td>\n",
       "      <td>...</td>\n",
       "      <td>1.0</td>\n",
       "      <td>NaN</td>\n",
       "      <td>NaN</td>\n",
       "      <td>1</td>\n",
       "      <td>NaN</td>\n",
       "      <td>6</td>\n",
       "      <td>6</td>\n",
       "      <td>6</td>\n",
       "      <td>5</td>\n",
       "      <td>40.0</td>\n",
       "    </tr>\n",
       "    <tr>\n",
       "      <th>3</th>\n",
       "      <td>2018</td>\n",
       "      <td>1</td>\n",
       "      <td>3</td>\n",
       "      <td>3</td>\n",
       "      <td>1</td>\n",
       "      <td>1</td>\n",
       "      <td>C010101</td>\n",
       "      <td>C01010100005</td>\n",
       "      <td>1</td>\n",
       "      <td>8</td>\n",
       "      <td>...</td>\n",
       "      <td>NaN</td>\n",
       "      <td>NaN</td>\n",
       "      <td>NaN</td>\n",
       "      <td>1</td>\n",
       "      <td>NaN</td>\n",
       "      <td>6</td>\n",
       "      <td>6</td>\n",
       "      <td>6</td>\n",
       "      <td>5</td>\n",
       "      <td>NaN</td>\n",
       "    </tr>\n",
       "    <tr>\n",
       "      <th>4</th>\n",
       "      <td>2018</td>\n",
       "      <td>1</td>\n",
       "      <td>3</td>\n",
       "      <td>3</td>\n",
       "      <td>1</td>\n",
       "      <td>1</td>\n",
       "      <td>C010101</td>\n",
       "      <td>C01010100005</td>\n",
       "      <td>1</td>\n",
       "      <td>8</td>\n",
       "      <td>...</td>\n",
       "      <td>NaN</td>\n",
       "      <td>NaN</td>\n",
       "      <td>NaN</td>\n",
       "      <td>1</td>\n",
       "      <td>NaN</td>\n",
       "      <td>4</td>\n",
       "      <td>4</td>\n",
       "      <td>6</td>\n",
       "      <td>4</td>\n",
       "      <td>NaN</td>\n",
       "    </tr>\n",
       "  </tbody>\n",
       "</table>\n",
       "<p>5 rows × 44 columns</p>\n",
       "</div>"
      ],
      "text/plain": [
       "     연도  본분교  국공사립  학위과정유형  주야간  전공계열 전공_소분류_코드     전공_세분류_코드  학교유형  학교소재지역  \\\n",
       "0  2018    1     3       3    2     1   C010101  C01010100027     1       1   \n",
       "1  2018    1     3       3    1     1   C010101  C01010100013     1       1   \n",
       "2  2018    1     3       3    1     1   C010101  C01010100013     1       1   \n",
       "3  2018    1     3       3    1     1   C010101  C01010100005     1       8   \n",
       "4  2018    1     3       3    1     1   C010101  C01010100005     1       8   \n",
       "\n",
       "   ...  G181G019  G181G033  G181G038  G181P001  G181P004  G181P026  G181P029  \\\n",
       "0  ...       NaN       NaN       NaN         1       NaN         4         4   \n",
       "1  ...       NaN       NaN       NaN         1       NaN         4         4   \n",
       "2  ...       1.0       NaN       NaN         1       NaN         6         6   \n",
       "3  ...       NaN       NaN       NaN         1       NaN         6         6   \n",
       "4  ...       NaN       NaN       NaN         1       NaN         4         4   \n",
       "\n",
       "   G181P035  G181P036  G181P042  \n",
       "0         5         3       NaN  \n",
       "1         4         3       NaN  \n",
       "2         6         5      40.0  \n",
       "3         6         5       NaN  \n",
       "4         6         4       NaN  \n",
       "\n",
       "[5 rows x 44 columns]"
      ]
     },
     "execution_count": 26,
     "metadata": {},
     "output_type": "execute_result"
    }
   ],
   "source": [
    "df = pd.read_csv('./datasets/GP_data_2016_2018_기본변수+타겟+졸업대학+가족.csv')\n",
    "df.head()"
   ]
  },
  {
   "cell_type": "code",
   "execution_count": 27,
   "id": "60545faa",
   "metadata": {},
   "outputs": [
    {
     "data": {
      "text/html": [
       "<div>\n",
       "<style scoped>\n",
       "    .dataframe tbody tr th:only-of-type {\n",
       "        vertical-align: middle;\n",
       "    }\n",
       "\n",
       "    .dataframe tbody tr th {\n",
       "        vertical-align: top;\n",
       "    }\n",
       "\n",
       "    .dataframe thead th {\n",
       "        text-align: right;\n",
       "    }\n",
       "</style>\n",
       "<table border=\"1\" class=\"dataframe\">\n",
       "  <thead>\n",
       "    <tr style=\"text-align: right;\">\n",
       "      <th></th>\n",
       "      <th>G181F010</th>\n",
       "      <th>G181F034</th>\n",
       "      <th>G181F036</th>\n",
       "      <th>G181F037</th>\n",
       "      <th>G181F038</th>\n",
       "      <th>G181F039</th>\n",
       "      <th>G181F040</th>\n",
       "      <th>G181F041</th>\n",
       "      <th>G181F042</th>\n",
       "      <th>G181F043</th>\n",
       "      <th>...</th>\n",
       "      <th>G181F104</th>\n",
       "      <th>G181F108</th>\n",
       "      <th>G181F112</th>\n",
       "      <th>G181F116</th>\n",
       "      <th>G181F120</th>\n",
       "      <th>G181G001</th>\n",
       "      <th>G181G014</th>\n",
       "      <th>G181G019</th>\n",
       "      <th>G181G033</th>\n",
       "      <th>G181G038</th>\n",
       "    </tr>\n",
       "  </thead>\n",
       "  <tbody>\n",
       "    <tr>\n",
       "      <th>0</th>\n",
       "      <td>1</td>\n",
       "      <td>1</td>\n",
       "      <td>2</td>\n",
       "      <td>2</td>\n",
       "      <td>2</td>\n",
       "      <td>1</td>\n",
       "      <td>2</td>\n",
       "      <td>1</td>\n",
       "      <td>2</td>\n",
       "      <td>2</td>\n",
       "      <td>...</td>\n",
       "      <td>NaN</td>\n",
       "      <td>NaN</td>\n",
       "      <td>NaN</td>\n",
       "      <td>NaN</td>\n",
       "      <td>NaN</td>\n",
       "      <td>2</td>\n",
       "      <td>NaN</td>\n",
       "      <td>NaN</td>\n",
       "      <td>NaN</td>\n",
       "      <td>NaN</td>\n",
       "    </tr>\n",
       "    <tr>\n",
       "      <th>1</th>\n",
       "      <td>1</td>\n",
       "      <td>1</td>\n",
       "      <td>2</td>\n",
       "      <td>1</td>\n",
       "      <td>1</td>\n",
       "      <td>1</td>\n",
       "      <td>1</td>\n",
       "      <td>1</td>\n",
       "      <td>1</td>\n",
       "      <td>2</td>\n",
       "      <td>...</td>\n",
       "      <td>NaN</td>\n",
       "      <td>NaN</td>\n",
       "      <td>NaN</td>\n",
       "      <td>NaN</td>\n",
       "      <td>NaN</td>\n",
       "      <td>2</td>\n",
       "      <td>NaN</td>\n",
       "      <td>NaN</td>\n",
       "      <td>NaN</td>\n",
       "      <td>NaN</td>\n",
       "    </tr>\n",
       "    <tr>\n",
       "      <th>2</th>\n",
       "      <td>1</td>\n",
       "      <td>1</td>\n",
       "      <td>2</td>\n",
       "      <td>2</td>\n",
       "      <td>2</td>\n",
       "      <td>2</td>\n",
       "      <td>2</td>\n",
       "      <td>2</td>\n",
       "      <td>1</td>\n",
       "      <td>2</td>\n",
       "      <td>...</td>\n",
       "      <td>NaN</td>\n",
       "      <td>NaN</td>\n",
       "      <td>NaN</td>\n",
       "      <td>NaN</td>\n",
       "      <td>NaN</td>\n",
       "      <td>1</td>\n",
       "      <td>NaN</td>\n",
       "      <td>1.0</td>\n",
       "      <td>NaN</td>\n",
       "      <td>NaN</td>\n",
       "    </tr>\n",
       "    <tr>\n",
       "      <th>3</th>\n",
       "      <td>1</td>\n",
       "      <td>2</td>\n",
       "      <td>2</td>\n",
       "      <td>2</td>\n",
       "      <td>2</td>\n",
       "      <td>2</td>\n",
       "      <td>2</td>\n",
       "      <td>2</td>\n",
       "      <td>1</td>\n",
       "      <td>2</td>\n",
       "      <td>...</td>\n",
       "      <td>1.0</td>\n",
       "      <td>NaN</td>\n",
       "      <td>NaN</td>\n",
       "      <td>NaN</td>\n",
       "      <td>NaN</td>\n",
       "      <td>2</td>\n",
       "      <td>NaN</td>\n",
       "      <td>NaN</td>\n",
       "      <td>NaN</td>\n",
       "      <td>NaN</td>\n",
       "    </tr>\n",
       "    <tr>\n",
       "      <th>4</th>\n",
       "      <td>1</td>\n",
       "      <td>2</td>\n",
       "      <td>1</td>\n",
       "      <td>2</td>\n",
       "      <td>1</td>\n",
       "      <td>2</td>\n",
       "      <td>1</td>\n",
       "      <td>2</td>\n",
       "      <td>2</td>\n",
       "      <td>2</td>\n",
       "      <td>...</td>\n",
       "      <td>NaN</td>\n",
       "      <td>NaN</td>\n",
       "      <td>NaN</td>\n",
       "      <td>NaN</td>\n",
       "      <td>NaN</td>\n",
       "      <td>2</td>\n",
       "      <td>NaN</td>\n",
       "      <td>NaN</td>\n",
       "      <td>NaN</td>\n",
       "      <td>NaN</td>\n",
       "    </tr>\n",
       "  </tbody>\n",
       "</table>\n",
       "<p>5 rows × 24 columns</p>\n",
       "</div>"
      ],
      "text/plain": [
       "   G181F010  G181F034  G181F036  G181F037  G181F038  G181F039  G181F040  \\\n",
       "0         1         1         2         2         2         1         2   \n",
       "1         1         1         2         1         1         1         1   \n",
       "2         1         1         2         2         2         2         2   \n",
       "3         1         2         2         2         2         2         2   \n",
       "4         1         2         1         2         1         2         1   \n",
       "\n",
       "   G181F041  G181F042  G181F043  ...  G181F104  G181F108  G181F112  G181F116  \\\n",
       "0         1         2         2  ...       NaN       NaN       NaN       NaN   \n",
       "1         1         1         2  ...       NaN       NaN       NaN       NaN   \n",
       "2         2         1         2  ...       NaN       NaN       NaN       NaN   \n",
       "3         2         1         2  ...       1.0       NaN       NaN       NaN   \n",
       "4         2         2         2  ...       NaN       NaN       NaN       NaN   \n",
       "\n",
       "   G181F120  G181G001  G181G014  G181G019  G181G033  G181G038  \n",
       "0       NaN         2       NaN       NaN       NaN       NaN  \n",
       "1       NaN         2       NaN       NaN       NaN       NaN  \n",
       "2       NaN         1       NaN       1.0       NaN       NaN  \n",
       "3       NaN         2       NaN       NaN       NaN       NaN  \n",
       "4       NaN         2       NaN       NaN       NaN       NaN  \n",
       "\n",
       "[5 rows x 24 columns]"
      ]
     },
     "execution_count": 27,
     "metadata": {},
     "output_type": "execute_result"
    }
   ],
   "source": [
    "college_df = df[['G181F010', 'G181F034', 'G181F036', 'G181F037', 'G181F038' , 'G181F039' , 'G181F040' ,'G181F041' , 'G181F042', \n",
    "                 'G181F043' , 'G181F073' , 'G181F074', 'G181F089' , 'G181F102', 'G181F104' , 'G181F108' ,\n",
    "                 'G181F112' , 'G181F116' , 'G181F120' , 'G181G001' , 'G181G014' , 'G181G019' , 'G181G033' , 'G181G038']]\n",
    "\n",
    "college_df.head()"
   ]
  },
  {
   "cell_type": "code",
   "execution_count": 28,
   "id": "88a6a200",
   "metadata": {},
   "outputs": [
    {
     "data": {
      "text/plain": [
       "1    51617\n",
       "2     2826\n",
       "Name: 대학 입학 구분, dtype: int64"
      ]
     },
     "execution_count": 28,
     "metadata": {},
     "output_type": "execute_result"
    }
   ],
   "source": [
    "# 대학입학 구분\n",
    "\n",
    "college_df.rename(columns={'G181F010' : '대학 입학 구분'} , inplace=True)\n",
    "college_df['대학 입학 구분'] = college_df['대학 입학 구분'].replace(-1, 1)\n",
    "college_df['대학 입학 구분'].value_counts()"
   ]
  },
  {
   "cell_type": "markdown",
   "id": "3f211935",
   "metadata": {},
   "source": [
    "# 진로 선택 및 취업준비 프로그램"
   ]
  },
  {
   "cell_type": "code",
   "execution_count": 29,
   "id": "286b424f",
   "metadata": {},
   "outputs": [
    {
     "name": "stdout",
     "output_type": "stream",
     "text": [
      "0    29542\n",
      "1    24901\n",
      "Name: G181F034, dtype: int64\n",
      "0\n"
     ]
    }
   ],
   "source": [
    "# 경험 없음(2)를 0 값으로 변경해서 전체적으로 다 합하여 경험횟수 출력\n",
    "\n",
    "\n",
    "\n",
    "college_df['G181F034'].isnull().sum()\n",
    "college_df['G181F034'].value_counts()\n",
    "\n",
    "college_df['G181F034'] = college_df['G181F034'].replace(2, 0)\n",
    "\n",
    "print(college_df['G181F034'].value_counts())\n",
    "\n",
    "print(college_df['G181F034'].isnull().sum())"
   ]
  },
  {
   "cell_type": "code",
   "execution_count": 30,
   "id": "fae7c1c1",
   "metadata": {},
   "outputs": [
    {
     "name": "stdout",
     "output_type": "stream",
     "text": [
      "0\n",
      "2    41657\n",
      "1    12786\n",
      "Name: G181F036, dtype: int64\n",
      "0\n"
     ]
    },
    {
     "data": {
      "text/plain": [
       "0    41657\n",
       "1    12786\n",
       "Name: G181F036, dtype: int64"
      ]
     },
     "execution_count": 30,
     "metadata": {},
     "output_type": "execute_result"
    }
   ],
   "source": [
    "print(college_df['G181F036'].isnull().sum())\n",
    "print(college_df['G181F036'].value_counts())\n",
    "\n",
    "college_df['G181F036'] = college_df['G181F036'].replace(2, 0)\n",
    "\n",
    "\n",
    "print(college_df['G181F036'].isnull().sum())\n",
    "college_df['G181F036'].value_counts()"
   ]
  },
  {
   "cell_type": "code",
   "execution_count": 31,
   "id": "2bbf19a0",
   "metadata": {},
   "outputs": [
    {
     "name": "stdout",
     "output_type": "stream",
     "text": [
      "0\n",
      "2    29649\n",
      "1    24794\n",
      "Name: G181F037, dtype: int64\n",
      "0\n"
     ]
    },
    {
     "data": {
      "text/plain": [
       "0    29649\n",
       "1    24794\n",
       "Name: G181F037, dtype: int64"
      ]
     },
     "execution_count": 31,
     "metadata": {},
     "output_type": "execute_result"
    }
   ],
   "source": [
    "print(college_df['G181F037'].isnull().sum())\n",
    "print(college_df['G181F037'].value_counts())\n",
    "\n",
    "college_df['G181F037'] = college_df['G181F037'].replace(2, 0)\n",
    "\n",
    "\n",
    "print(college_df['G181F037'].isnull().sum())\n",
    "college_df['G181F037'].value_counts()"
   ]
  },
  {
   "cell_type": "code",
   "execution_count": 32,
   "id": "79a1acea",
   "metadata": {},
   "outputs": [
    {
     "name": "stdout",
     "output_type": "stream",
     "text": [
      "0\n",
      "2    39899\n",
      "1    14544\n",
      "Name: G181F038, dtype: int64\n",
      "0\n"
     ]
    },
    {
     "data": {
      "text/plain": [
       "0    39899\n",
       "1    14544\n",
       "Name: G181F038, dtype: int64"
      ]
     },
     "execution_count": 32,
     "metadata": {},
     "output_type": "execute_result"
    }
   ],
   "source": [
    "print(college_df['G181F038'].isnull().sum())\n",
    "print(college_df['G181F038'].value_counts())\n",
    "\n",
    "college_df['G181F038'] = college_df['G181F038'].replace(2, 0)\n",
    "\n",
    "\n",
    "print(college_df['G181F038'].isnull().sum())\n",
    "college_df['G181F038'].value_counts()"
   ]
  },
  {
   "cell_type": "code",
   "execution_count": 33,
   "id": "11569843",
   "metadata": {},
   "outputs": [
    {
     "name": "stdout",
     "output_type": "stream",
     "text": [
      "0\n",
      "2    39213\n",
      "1    15230\n",
      "Name: G181F039, dtype: int64\n",
      "0\n"
     ]
    },
    {
     "data": {
      "text/plain": [
       "0    39213\n",
       "1    15230\n",
       "Name: G181F039, dtype: int64"
      ]
     },
     "execution_count": 33,
     "metadata": {},
     "output_type": "execute_result"
    }
   ],
   "source": [
    "print(college_df['G181F039'].isnull().sum())\n",
    "print(college_df['G181F039'].value_counts())\n",
    "\n",
    "college_df['G181F039'] = college_df['G181F039'].replace(2, 0)\n",
    "\n",
    "\n",
    "print(college_df['G181F039'].isnull().sum())\n",
    "college_df['G181F039'].value_counts()"
   ]
  },
  {
   "cell_type": "code",
   "execution_count": 34,
   "id": "a0daf4f6",
   "metadata": {},
   "outputs": [
    {
     "name": "stdout",
     "output_type": "stream",
     "text": [
      "0\n",
      "2    37204\n",
      "1    17239\n",
      "Name: G181F040, dtype: int64\n",
      "0\n"
     ]
    },
    {
     "data": {
      "text/plain": [
       "0    37204\n",
       "1    17239\n",
       "Name: G181F040, dtype: int64"
      ]
     },
     "execution_count": 34,
     "metadata": {},
     "output_type": "execute_result"
    }
   ],
   "source": [
    "print(college_df['G181F040'].isnull().sum())\n",
    "print(college_df['G181F040'].value_counts())\n",
    "\n",
    "college_df['G181F040'] = college_df['G181F040'].replace(2, 0)\n",
    "\n",
    "\n",
    "print(college_df['G181F040'].isnull().sum())\n",
    "college_df['G181F040'].value_counts()"
   ]
  },
  {
   "cell_type": "code",
   "execution_count": 35,
   "id": "c4ba4574",
   "metadata": {},
   "outputs": [
    {
     "name": "stdout",
     "output_type": "stream",
     "text": [
      "0\n",
      "2    48302\n",
      "1     6141\n",
      "Name: G181F041, dtype: int64\n",
      "0\n"
     ]
    },
    {
     "data": {
      "text/plain": [
       "0    48302\n",
       "1     6141\n",
       "Name: G181F041, dtype: int64"
      ]
     },
     "execution_count": 35,
     "metadata": {},
     "output_type": "execute_result"
    }
   ],
   "source": [
    "print(college_df['G181F041'].isnull().sum())\n",
    "print(college_df['G181F041'].value_counts())\n",
    "\n",
    "college_df['G181F041'] = college_df['G181F041'].replace(2, 0)\n",
    "\n",
    "\n",
    "print(college_df['G181F041'].isnull().sum())\n",
    "college_df['G181F041'].value_counts()"
   ]
  },
  {
   "cell_type": "code",
   "execution_count": 36,
   "id": "12087937",
   "metadata": {},
   "outputs": [
    {
     "name": "stdout",
     "output_type": "stream",
     "text": [
      "0\n",
      "2    41026\n",
      "1    13417\n",
      "Name: G181F042, dtype: int64\n",
      "0\n"
     ]
    },
    {
     "data": {
      "text/plain": [
       "0    41026\n",
       "1    13417\n",
       "Name: G181F042, dtype: int64"
      ]
     },
     "execution_count": 36,
     "metadata": {},
     "output_type": "execute_result"
    }
   ],
   "source": [
    "print(college_df['G181F042'].isnull().sum())\n",
    "print(college_df['G181F042'].value_counts())\n",
    "\n",
    "college_df['G181F042'] = college_df['G181F042'].replace(2, 0)\n",
    "\n",
    "\n",
    "print(college_df['G181F042'].isnull().sum())\n",
    "college_df['G181F042'].value_counts()"
   ]
  },
  {
   "cell_type": "code",
   "execution_count": 37,
   "id": "c39b4547",
   "metadata": {},
   "outputs": [
    {
     "name": "stdout",
     "output_type": "stream",
     "text": [
      "0\n",
      "2    54350\n",
      "1       93\n",
      "Name: G181F043, dtype: int64\n",
      "0\n"
     ]
    },
    {
     "data": {
      "text/plain": [
       "0    54350\n",
       "1       93\n",
       "Name: G181F043, dtype: int64"
      ]
     },
     "execution_count": 37,
     "metadata": {},
     "output_type": "execute_result"
    }
   ],
   "source": [
    "print(college_df['G181F043'].isnull().sum())\n",
    "print(college_df['G181F043'].value_counts())\n",
    "\n",
    "college_df['G181F043'] = college_df['G181F043'].replace(2, 0)\n",
    "\n",
    "\n",
    "print(college_df['G181F043'].isnull().sum())\n",
    "college_df['G181F043'].value_counts()"
   ]
  },
  {
   "cell_type": "code",
   "execution_count": 38,
   "id": "6d5af10b",
   "metadata": {},
   "outputs": [
    {
     "name": "stdout",
     "output_type": "stream",
     "text": [
      "[3 7 2 ... 0 0 0]\n"
     ]
    }
   ],
   "source": [
    "# 진로 선택 및 취업준비 프로그램 참여 횟수\n",
    "\n",
    "\n",
    "college_df['G181F034'] = (college_df['G181F034'].values+college_df['G181F036'].values+\n",
    "college_df['G181F037'].values+college_df['G181F038'].values+college_df['G181F039'].values+college_df['G181F040'].values\n",
    "+college_df['G181F041'].values+college_df['G181F042'].values+college_df['G181F043'].values)\n",
    "\n",
    "print(college_df['G181F034'].values)"
   ]
  },
  {
   "cell_type": "code",
   "execution_count": 39,
   "id": "26b28162",
   "metadata": {},
   "outputs": [
    {
     "data": {
      "text/plain": [
       "Index(['대학 입학 구분', '진로 선택 및 취업준비 프로그램 참여 횟수', 'G181F073', 'G181F074',\n",
       "       'G181F089', 'G181F102', 'G181F104', 'G181F108', 'G181F112', 'G181F116',\n",
       "       'G181F120', 'G181G001', 'G181G014', 'G181G019', 'G181G033', 'G181G038'],\n",
       "      dtype='object')"
      ]
     },
     "execution_count": 39,
     "metadata": {},
     "output_type": "execute_result"
    }
   ],
   "source": [
    "college_df.rename(columns={'G181F034' : '진로 선택 및 취업준비 프로그램 참여 횟수'} , inplace=True)\n",
    "college_df.drop(columns=[\"G181F036\" , \"G181F037\" , \"G181F038\" , \"G181F039\" , \"G181F040\" , \"G181F041\" , \"G181F042\" ,\n",
    "                        \"G181F043\"] , inplace=True)\n",
    "college_df.columns"
   ]
  },
  {
   "cell_type": "markdown",
   "id": "984b407f",
   "metadata": {},
   "source": [
    "# GPA 계산"
   ]
  },
  {
   "cell_type": "code",
   "execution_count": 40,
   "id": "cf10f9b5",
   "metadata": {},
   "outputs": [],
   "source": [
    "college_df['GPA'] = None\n",
    "\n",
    "college_df['G181F073'].isnull().sum()\n",
    "college_df['G181F074'].isnull().sum()\n",
    "\n",
    "# 평균 학점 모른다고 대답한 사람(-1) 에 대해서만 결측값 존재 -> 100점 환산 후 평균값으로 대체\n",
    "\n",
    "\n",
    "for i in range(len(college_df['GPA'])):\n",
    "    if college_df['G181F073'][i] == 1:\n",
    "        college_df['GPA'] = (college_df['G181F074'] / 4.0 * 100)\n",
    "    elif college_df['G181F073'][i] == 2:\n",
    "        college_df['GPA'] = (college_df['G181F074'] / 4.3 * 100)\n",
    "    elif college_df['G181F073'][i] == 3:\n",
    "        college_df['GPA'] = (college_df['G181F074'] / 4.5 * 100)"
   ]
  },
  {
   "cell_type": "code",
   "execution_count": 41,
   "id": "9e117e03",
   "metadata": {},
   "outputs": [
    {
     "data": {
      "text/plain": [
       "count    54335.000000\n",
       "mean        80.239870\n",
       "std          9.425497\n",
       "min         22.222222\n",
       "25%         73.333333\n",
       "50%         82.222222\n",
       "75%         86.666667\n",
       "max        100.000000\n",
       "Name: GPA, dtype: float64"
      ]
     },
     "execution_count": 41,
     "metadata": {},
     "output_type": "execute_result"
    }
   ],
   "source": [
    "college_df['GPA'].describe()"
   ]
  },
  {
   "cell_type": "code",
   "execution_count": 42,
   "id": "c20491aa",
   "metadata": {},
   "outputs": [
    {
     "name": "stdout",
     "output_type": "stream",
     "text": [
      "80.23989546332139\n"
     ]
    }
   ],
   "source": [
    "college_df['GPA'] = college_df['GPA'].round(2)\n",
    "\n",
    "college_df['GPA'].describe()\n",
    "mean_GPA = (college_df['GPA']).mean()\n",
    "\n",
    "print(mean_GPA)\n",
    "college_df['GPA'] = college_df['GPA'].fillna(mean_GPA)"
   ]
  },
  {
   "cell_type": "code",
   "execution_count": 43,
   "id": "3ae9f987",
   "metadata": {},
   "outputs": [
    {
     "data": {
      "text/plain": [
       "Index(['대학 입학 구분', '진로 선택 및 취업준비 프로그램 참여 횟수', 'G181F089', 'G181F102',\n",
       "       'G181F104', 'G181F108', 'G181F112', 'G181F116', 'G181F120', 'G181G001',\n",
       "       'G181G014', 'G181G019', 'G181G033', 'G181G038', 'GPA'],\n",
       "      dtype='object')"
      ]
     },
     "execution_count": 43,
     "metadata": {},
     "output_type": "execute_result"
    }
   ],
   "source": [
    "college_df['GPA'] = college_df['GPA'].round(2)\n",
    "college_df.drop(columns=[\"G181F073\", \"G181F074\"] , inplace=True)\n",
    "college_df.columns"
   ]
  },
  {
   "cell_type": "markdown",
   "id": "afff095f",
   "metadata": {},
   "source": [
    "# 학자금 대출금액"
   ]
  },
  {
   "cell_type": "code",
   "execution_count": 44,
   "id": "b61e0629",
   "metadata": {},
   "outputs": [
    {
     "data": {
      "text/plain": [
       "0           0.0\n",
       "1           0.0\n",
       "2           0.0\n",
       "3           0.0\n",
       "4           0.0\n",
       "          ...  \n",
       "54438     500.0\n",
       "54439    2800.0\n",
       "54440       0.0\n",
       "54441       0.0\n",
       "54442       0.0\n",
       "Name: 학자금대출 금액, Length: 54443, dtype: float64"
      ]
     },
     "execution_count": 44,
     "metadata": {},
     "output_type": "execute_result"
    }
   ],
   "source": [
    "college_df['G181F089'] = college_df['G181F089'].fillna(0)\n",
    "\n",
    "\n",
    "college_df.rename(columns={'G181F089' : '학자금대출 금액'} , inplace=True)\n",
    "college_df['학자금대출 금액']"
   ]
  },
  {
   "cell_type": "code",
   "execution_count": 45,
   "id": "54e0d695",
   "metadata": {},
   "outputs": [
    {
     "data": {
      "text/plain": [
       "Index(['대학 입학 구분', '진로 선택 및 취업준비 프로그램 참여 횟수', '학자금대출 금액', 'G181F102',\n",
       "       'G181F104', 'G181F108', 'G181F112', 'G181F116', 'G181F120', 'G181G001',\n",
       "       'G181G014', 'G181G019', 'G181G033', 'G181G038', 'GPA'],\n",
       "      dtype='object')"
      ]
     },
     "execution_count": 45,
     "metadata": {},
     "output_type": "execute_result"
    }
   ],
   "source": [
    "college_df.columns"
   ]
  },
  {
   "cell_type": "markdown",
   "id": "f0db0347",
   "metadata": {},
   "source": [
    "# 휴학 횟수"
   ]
  },
  {
   "cell_type": "code",
   "execution_count": 48,
   "id": "e88a6903",
   "metadata": {},
   "outputs": [
    {
     "name": "stdout",
     "output_type": "stream",
     "text": [
      "1.0    21662\n",
      "2.0    10531\n",
      "3.0     1796\n",
      "4.0      278\n",
      "5.0       64\n",
      "6.0       10\n",
      "7.0        4\n",
      "8.0        2\n",
      "Name: G181F102, dtype: int64\n",
      " 4.0     21765\n",
      " 6.0      2412\n",
      " 10.0     2021\n",
      " 3.0      1848\n",
      " 1.0      1537\n",
      " 9.0      1385\n",
      " 7.0      1238\n",
      " 8.0      1159\n",
      " 2.0       747\n",
      " 5.0       200\n",
      "-1.0        30\n",
      "-3.0         5\n",
      "Name: G181F104, dtype: int64\n",
      " 6.0     3249\n",
      " 3.0     2099\n",
      " 7.0     1517\n",
      " 10.0    1437\n",
      " 1.0     1305\n",
      " 4.0     1177\n",
      " 9.0      772\n",
      " 8.0      646\n",
      " 2.0      287\n",
      " 5.0      166\n",
      "-1.0       23\n",
      "-3.0        7\n",
      "Name: G181F108, dtype: int64\n"
     ]
    }
   ],
   "source": [
    "# 휴학 경험\n",
    "\n",
    "print(college_df['G181F102'].value_counts()) # 총 휴학 횟수\n",
    "\n",
    "print(college_df['G181F104'].value_counts())\n",
    "\n",
    "print(college_df['G181F108'].value_counts())\n",
    "\n",
    "# 휴학횟수 결측값은 0으로 처리\n",
    "college_df['G181F102'].isnull().sum()\n",
    "college_df['G181F102'] = college_df['G181F102'].fillna(0)"
   ]
  },
  {
   "cell_type": "code",
   "execution_count": 50,
   "id": "e2017727",
   "metadata": {},
   "outputs": [
    {
     "name": "stdout",
     "output_type": "stream",
     "text": [
      "1.0    21662\n",
      "0.0    20096\n",
      "2.0    10531\n",
      "3.0     1796\n",
      "4.0      278\n",
      "5.0       64\n",
      "6.0       10\n",
      "7.0        4\n",
      "8.0        2\n",
      "Name: G181F102, dtype: int64\n",
      "G181F102  G181F104\n",
      "1.0        4.0        12814\n",
      "2.0        4.0         7652\n",
      "1.0        6.0         1984\n",
      "           10.0        1375\n",
      "           3.0         1241\n",
      "           1.0         1129\n",
      "           9.0         1127\n",
      "3.0        4.0         1094\n",
      "1.0        8.0          753\n",
      "           7.0          698\n",
      "2.0        10.0         484\n",
      "           3.0          445\n",
      "           7.0          402\n",
      "1.0        2.0          365\n",
      "2.0        1.0          363\n",
      "           6.0          349\n",
      "           8.0          297\n",
      "           2.0          275\n",
      "           9.0          216\n",
      "4.0        4.0          159\n",
      "1.0        5.0          156\n",
      "3.0        10.0         148\n",
      "           3.0          119\n",
      "           7.0          106\n",
      "           8.0           88\n",
      "           2.0           88\n",
      "           6.0           65\n",
      "           1.0           42\n",
      "5.0        4.0           38\n",
      "2.0        5.0           36\n",
      "3.0        9.0           35\n",
      "4.0        3.0           28\n",
      "           7.0           23\n",
      "           2.0           19\n",
      "           8.0           18\n",
      "1.0       -1.0           17\n",
      "4.0        10.0          14\n",
      "5.0        3.0           11\n",
      "2.0       -1.0           10\n",
      "4.0        6.0            8\n",
      "3.0        5.0            8\n",
      "5.0        7.0            7\n",
      "           6.0            6\n",
      "6.0        4.0            6\n",
      "4.0        9.0            6\n",
      "1.0       -3.0            3\n",
      "4.0        1.0            3\n",
      "3.0       -1.0            3\n",
      "6.0        3.0            2\n",
      "2.0       -3.0            2\n",
      "5.0        8.0            1\n",
      "           9.0            1\n",
      "6.0        7.0            1\n",
      "           8.0            1\n",
      "7.0        3.0            1\n",
      "           4.0            1\n",
      "           7.0            1\n",
      "           8.0            1\n",
      "8.0        3.0            1\n",
      "           4.0            1\n",
      "dtype: int64\n",
      "0.0    32945\n",
      "1.0    16480\n",
      "2.0     3961\n",
      "3.0      858\n",
      "4.0      157\n",
      "5.0       32\n",
      "6.0        5\n",
      "7.0        4\n",
      "8.0        1\n",
      "Name: G181F102, dtype: int64\n"
     ]
    }
   ],
   "source": [
    "college_df['G181F102'].isnull().sum()\n",
    "# print(college_df['G181F102'].value_counts())\n",
    "\n",
    "# print(college_df[['G181F102' , 'G181F104']].value_counts())\n",
    "\n",
    "G181F102_value = []\n",
    "\n",
    "\n",
    "# 첫번째 휴학 이유\n",
    "# 군대의 경우(4) -> -=1 진행\n",
    "# -3 이나 -1의 경우 G181F102 값을 0으로 바꾸기\n",
    "\n",
    "for idx , val in enumerate(college_df['G181F102'].values):\n",
    "    if college_df['G181F104'][idx] == 4:\n",
    "        val -= 1\n",
    "        G181F102_value.append(val)\n",
    "    elif college_df['G181F104'][idx] == -3 or college_df['G181F104'][idx] == -1:\n",
    "        G181F102_value.append(0)\n",
    "    else :\n",
    "        G181F102_value.append(val)\n",
    "\n",
    "# print(G181F102_value)\n",
    "college_df['G181F102'] = G181F102_value\n",
    "\n",
    "print(college_df['G181F102'].value_counts())"
   ]
  },
  {
   "cell_type": "code",
   "execution_count": 51,
   "id": "6183f63f",
   "metadata": {},
   "outputs": [
    {
     "name": "stdout",
     "output_type": "stream",
     "text": [
      " 0.0    32979\n",
      " 1.0    17275\n",
      " 2.0     3388\n",
      " 3.0      624\n",
      " 4.0      127\n",
      " 5.0       29\n",
      "-1.0       12\n",
      " 6.0        5\n",
      " 7.0        3\n",
      " 8.0        1\n",
      "Name: G181F102, dtype: int64\n"
     ]
    }
   ],
   "source": [
    "# 두번째 휴학 이유\n",
    "# 군대의 경우(4) -> -=1 진행\n",
    "# -3(없음) 이나 -1(모름)의 경우 val -=1\n",
    "\n",
    "\n",
    "G181F102_value = []\n",
    "\n",
    "for idx , val in enumerate(college_df['G181F102'].values):\n",
    "    if college_df['G181F108'][idx] == 4:\n",
    "        val -= 1\n",
    "        G181F102_value.append(val)\n",
    "    elif college_df['G181F108'][idx] == -3 or college_df['G181F108'][idx] == -1:\n",
    "        val -= 1\n",
    "        G181F102_value.append(val)\n",
    "    else :\n",
    "        G181F102_value.append(val)\n",
    "\n",
    "# print(G181F102_value)\n",
    "college_df['G181F102'] = G181F102_value\n",
    "\n",
    "print(college_df['G181F102'].value_counts())"
   ]
  },
  {
   "cell_type": "code",
   "execution_count": 52,
   "id": "c4128132",
   "metadata": {},
   "outputs": [
    {
     "name": "stdout",
     "output_type": "stream",
     "text": [
      " 0.0    32980\n",
      " 1.0    17282\n",
      " 2.0     3453\n",
      " 3.0      559\n",
      " 4.0      120\n",
      " 5.0       29\n",
      "-1.0       12\n",
      " 6.0        4\n",
      " 7.0        3\n",
      " 8.0        1\n",
      "Name: G181F102, dtype: int64\n"
     ]
    }
   ],
   "source": [
    "# 세번째 휴학 이유\n",
    "# 군대의 경우(4) -> -=1 진행\n",
    "# -3(없음) 이나 -1(모름)의 경우 val -=1\n",
    "\n",
    "\n",
    "G181F102_value = []\n",
    "\n",
    "for idx , val in enumerate(college_df['G181F102'].values):\n",
    "    if college_df['G181F112'][idx] == 4:\n",
    "        val -= 1\n",
    "        G181F102_value.append(val)\n",
    "    elif college_df['G181F112'][idx] == -3 or college_df['G181F112'][idx] == -1:\n",
    "        val -= 1\n",
    "        G181F102_value.append(val)\n",
    "    else :\n",
    "        G181F102_value.append(val)\n",
    "\n",
    "# print(G181F102_value)\n",
    "college_df['G181F102'] = G181F102_value\n",
    "\n",
    "print(college_df['G181F102'].value_counts())"
   ]
  },
  {
   "cell_type": "code",
   "execution_count": 53,
   "id": "ce9d3378",
   "metadata": {},
   "outputs": [
    {
     "name": "stdout",
     "output_type": "stream",
     "text": [
      " 0.0    32982\n",
      " 1.0    17282\n",
      " 2.0     3454\n",
      " 3.0      572\n",
      " 4.0      107\n",
      " 5.0       26\n",
      "-1.0       12\n",
      " 6.0        5\n",
      " 7.0        2\n",
      " 8.0        1\n",
      "Name: G181F102, dtype: int64\n"
     ]
    }
   ],
   "source": [
    "# 네번째 휴학 이유\n",
    "# 군대의 경우(4) -> -=1 진행\n",
    "# -3(없음) 이나 -1(모름)의 경우 val -=1\n",
    "\n",
    "\n",
    "G181F102_value = []\n",
    "\n",
    "for idx , val in enumerate(college_df['G181F102'].values):\n",
    "    if college_df['G181F116'][idx] == 4:\n",
    "        val -= 1\n",
    "        G181F102_value.append(val)\n",
    "    elif college_df['G181F116'][idx] == -3 or college_df['G181F116'][idx] == -1:\n",
    "        val -= 1\n",
    "        G181F102_value.append(val)\n",
    "    else :\n",
    "        G181F102_value.append(val)\n",
    "\n",
    "# print(G181F102_value)\n",
    "college_df['G181F102'] = G181F102_value\n",
    "\n",
    "print(college_df['G181F102'].value_counts())"
   ]
  },
  {
   "cell_type": "code",
   "execution_count": 54,
   "id": "c4b6dddf",
   "metadata": {},
   "outputs": [
    {
     "name": "stdout",
     "output_type": "stream",
     "text": [
      " 0.0    32982\n",
      " 1.0    17282\n",
      " 2.0     3454\n",
      " 3.0      572\n",
      " 4.0      111\n",
      " 5.0       22\n",
      "-1.0       12\n",
      " 6.0        5\n",
      " 7.0        2\n",
      " 8.0        1\n",
      "Name: G181F102, dtype: int64\n"
     ]
    }
   ],
   "source": [
    "# 다섯번째 휴학 이유\n",
    "# 군대의 경우(4) -> -=1 진행\n",
    "# -3(없음) 이나 -1(모름)의 경우 val -=1\n",
    "\n",
    "\n",
    "G181F102_value = []\n",
    "\n",
    "for idx , val in enumerate(college_df['G181F102'].values):\n",
    "    if college_df['G181F120'][idx] == 4:\n",
    "        val -= 1\n",
    "        G181F102_value.append(val)\n",
    "    elif college_df['G181F120'][idx] == -3 or college_df['G181F120'][idx] == -1:\n",
    "        val -= 1\n",
    "        G181F102_value.append(val)\n",
    "    else :\n",
    "        G181F102_value.append(val)\n",
    "\n",
    "# print(G181F102_value)\n",
    "college_df['G181F102'] = G181F102_value\n",
    "\n",
    "print(college_df['G181F102'].value_counts())"
   ]
  },
  {
   "cell_type": "code",
   "execution_count": 55,
   "id": "101144ae",
   "metadata": {},
   "outputs": [
    {
     "name": "stdout",
     "output_type": "stream",
     "text": [
      "0.0    32994\n",
      "1.0    17282\n",
      "2.0     3454\n",
      "3.0      572\n",
      "4.0      111\n",
      "5.0       22\n",
      "6.0        5\n",
      "7.0        2\n",
      "8.0        1\n",
      "Name: G181F102, dtype: int64\n"
     ]
    }
   ],
   "source": [
    "# -1 값은 0으로 대체\n",
    "college_df['G181F102'] = college_df['G181F102'].replace(-1,0)\n",
    "\n",
    "print(college_df['G181F102'].value_counts())"
   ]
  },
  {
   "cell_type": "code",
   "execution_count": 56,
   "id": "3c14b58f",
   "metadata": {},
   "outputs": [
    {
     "data": {
      "text/plain": [
       "Index(['대학 입학 구분', '진로 선택 및 취업준비 프로그램 참여 횟수', '학자금대출 금액', '휴학 횟수', 'G181G001',\n",
       "       'G181G014', 'G181G019', 'G181G033', 'G181G038', 'GPA'],\n",
       "      dtype='object')"
      ]
     },
     "execution_count": 56,
     "metadata": {},
     "output_type": "execute_result"
    }
   ],
   "source": [
    "# 휴학 횟수 정리\n",
    "college_df.rename(columns={'G181F102' : '휴학 횟수'} , inplace=True)\n",
    "\n",
    "college_df.drop(columns=['G181F104' , 'G181F108' , 'G181F112' , 'G181F116' , 'G181F120'] , inplace=True)\n",
    "\n",
    "college_df.columns"
   ]
  },
  {
   "cell_type": "markdown",
   "id": "e9e2ff04",
   "metadata": {},
   "source": [
    "# 대학원 재학 확인"
   ]
  },
  {
   "cell_type": "code",
   "execution_count": 58,
   "id": "07a5e748",
   "metadata": {},
   "outputs": [
    {
     "name": "stdout",
     "output_type": "stream",
     "text": [
      "2    46088\n",
      "1     8355\n",
      "Name: G181G001, dtype: int64\n",
      "0\n"
     ]
    }
   ],
   "source": [
    "# 대학원 경험 확인\n",
    "\n",
    "print(college_df['G181G001'].value_counts())\n",
    "print(college_df['G181G001'].isnull().sum())\n",
    "# 결측값은 없다\n"
   ]
  },
  {
   "cell_type": "code",
   "execution_count": 59,
   "id": "899acb78",
   "metadata": {},
   "outputs": [
    {
     "name": "stdout",
     "output_type": "stream",
     "text": [
      "G181G014  G181G019\n",
      "1.0       1.0         5046\n",
      "3.0       1.0          720\n",
      "1.0       2.0          541\n",
      "3.0       2.0           27\n",
      "4.0       1.0           26\n",
      "2.0       1.0           10\n",
      "4.0       2.0           10\n",
      "dtype: int64\n",
      "G181G014  G181G019  G181G033  G181G038\n",
      "1.0       2.0       2.0       1.0         36\n",
      "                    1.0       1.0         26\n",
      "          1.0       1.0       1.0         22\n",
      "                    2.0       1.0          8\n",
      "3.0       2.0       3.0       1.0          6\n",
      "1.0       2.0       3.0       1.0          5\n",
      "3.0       2.0       1.0       1.0          3\n",
      "1.0       1.0       1.0       2.0          1\n",
      "          2.0       1.0       2.0          1\n",
      "                    4.0       1.0          1\n",
      "2.0       1.0       1.0       2.0          1\n",
      "3.0       1.0       3.0       1.0          1\n",
      "dtype: int64\n"
     ]
    },
    {
     "data": {
      "text/plain": [
       "0    48109\n",
       "1     5046\n",
       "2      720\n",
       "4      541\n",
       "5       27\n",
       "Name: 석사/박사 재학여부, dtype: int64"
      ]
     },
     "execution_count": 59,
     "metadata": {},
     "output_type": "execute_result"
    }
   ],
   "source": [
    "print(college_df[['G181G014' , 'G181G019']].value_counts())\n",
    "\n",
    "# G181G014\n",
    "# 1: 석사 , 2:박사 , 3:석박사\n",
    "# 1 : 재학중 , 2: 졸업\n",
    "# 1 -> 1 : 석사 재학중\n",
    "\n",
    "college_df['석사/박사 재학여부'] = None\n",
    "# 1: 석사 재학중 , 2 : 석박사 통합 재학중, 3 : 박사 재학중 , 4: 석사 졸업 , 5: 석박사 통합 졸업 , 0: 경험 없음\n",
    "\n",
    "\n",
    "print(college_df[['G181G014' , 'G181G019' , 'G181G033' , 'G181G038']].value_counts())\n",
    "\n",
    "\n",
    "for idx , val in enumerate(college_df['G181G014'].values):\n",
    "    if val == 1 and college_df['G181G019'][idx] == 1:\n",
    "        college_df['석사/박사 재학여부'][idx] = 1\n",
    "    elif val == 1 and college_df['G181G019'][idx] == 2:\n",
    "        college_df['석사/박사 재학여부'][idx] = 4\n",
    "    elif val == 3 and college_df['G181G019'][idx] == 1:\n",
    "        college_df['석사/박사 재학여부'][idx] = 2\n",
    "    elif val == 3 and college_df['G181G019'][idx] == 2:\n",
    "        college_df['석사/박사 재학여부'][idx] = 5   \n",
    "    elif val == 1 and college_df['G181G019'][idx] == 2 and college_df['G181G033'][idx] == 2 and college_df['G181G038'][idx]==1:\n",
    "        college_df['석사/박사 재학여부'][idx] = 3\n",
    "    else : \n",
    "        college_df['석사/박사 재학여부'][idx] = 0\n",
    "\n",
    "        \n",
    "college_df['석사/박사 재학여부'].value_counts()"
   ]
  },
  {
   "cell_type": "code",
   "execution_count": 60,
   "id": "15c22fb9",
   "metadata": {},
   "outputs": [
    {
     "data": {
      "text/plain": [
       "0    48109\n",
       "1     5046\n",
       "2      720\n",
       "4      505\n",
       "3       36\n",
       "5       27\n",
       "Name: 석사/박사 재학여부, dtype: int64"
      ]
     },
     "execution_count": 60,
     "metadata": {},
     "output_type": "execute_result"
    }
   ],
   "source": [
    "for idx , val in enumerate(college_df['G181G014'].values):\n",
    "    if val == 1 and college_df['G181G019'][idx] == 2 and college_df['G181G033'][idx] == 2 and college_df['G181G038'][idx]==1:\n",
    "        college_df['석사/박사 재학여부'][idx] = 3\n",
    "\n",
    "college_df['석사/박사 재학여부'].value_counts()"
   ]
  },
  {
   "cell_type": "code",
   "execution_count": 61,
   "id": "ada8a2b9",
   "metadata": {},
   "outputs": [],
   "source": [
    "college_df.drop(columns=['G181G001' , 'G181G014' , 'G181G019' , 'G181G033' , 'G181G038'] , inplace=True)"
   ]
  },
  {
   "cell_type": "code",
   "execution_count": 62,
   "id": "09d8e08a",
   "metadata": {},
   "outputs": [],
   "source": [
    "college_df['석사/박사 재학여부'] = college_df['석사/박사 재학여부'].astype(float)"
   ]
  },
  {
   "cell_type": "code",
   "execution_count": 63,
   "id": "393467a2",
   "metadata": {},
   "outputs": [
    {
     "name": "stdout",
     "output_type": "stream",
     "text": [
      "<class 'pandas.core.frame.DataFrame'>\n",
      "RangeIndex: 54443 entries, 0 to 54442\n",
      "Data columns (total 6 columns):\n",
      " #   Column                   Non-Null Count  Dtype  \n",
      "---  ------                   --------------  -----  \n",
      " 0   대학 입학 구분                 54443 non-null  int64  \n",
      " 1   진로 선택 및 취업준비 프로그램 참여 횟수  54443 non-null  int64  \n",
      " 2   학자금대출 금액                 54443 non-null  float64\n",
      " 3   휴학 횟수                    54443 non-null  float64\n",
      " 4   GPA                      54443 non-null  float64\n",
      " 5   석사/박사 재학여부               54443 non-null  float64\n",
      "dtypes: float64(4), int64(2)\n",
      "memory usage: 2.5 MB\n"
     ]
    }
   ],
   "source": [
    "college_df.info()"
   ]
  },
  {
   "cell_type": "code",
   "execution_count": 64,
   "id": "2aa4b2fc",
   "metadata": {},
   "outputs": [
    {
     "data": {
      "text/html": [
       "<div>\n",
       "<style scoped>\n",
       "    .dataframe tbody tr th:only-of-type {\n",
       "        vertical-align: middle;\n",
       "    }\n",
       "\n",
       "    .dataframe tbody tr th {\n",
       "        vertical-align: top;\n",
       "    }\n",
       "\n",
       "    .dataframe thead th {\n",
       "        text-align: right;\n",
       "    }\n",
       "</style>\n",
       "<table border=\"1\" class=\"dataframe\">\n",
       "  <thead>\n",
       "    <tr style=\"text-align: right;\">\n",
       "      <th></th>\n",
       "      <th>대학 입학 구분</th>\n",
       "      <th>진로 선택 및 취업준비 프로그램 참여 횟수</th>\n",
       "      <th>학자금대출 금액</th>\n",
       "      <th>휴학 횟수</th>\n",
       "      <th>GPA</th>\n",
       "      <th>석사/박사 재학여부</th>\n",
       "    </tr>\n",
       "  </thead>\n",
       "  <tbody>\n",
       "    <tr>\n",
       "      <th>count</th>\n",
       "      <td>54443.000000</td>\n",
       "      <td>54443.000000</td>\n",
       "      <td>54443.000000</td>\n",
       "      <td>54443.000000</td>\n",
       "      <td>54443.000000</td>\n",
       "      <td>54443.000000</td>\n",
       "    </tr>\n",
       "    <tr>\n",
       "      <th>mean</th>\n",
       "      <td>1.051907</td>\n",
       "      <td>2.372114</td>\n",
       "      <td>302.669416</td>\n",
       "      <td>0.486968</td>\n",
       "      <td>80.239896</td>\n",
       "      <td>0.160700</td>\n",
       "    </tr>\n",
       "    <tr>\n",
       "      <th>std</th>\n",
       "      <td>0.221842</td>\n",
       "      <td>2.101754</td>\n",
       "      <td>703.226138</td>\n",
       "      <td>0.691113</td>\n",
       "      <td>9.415873</td>\n",
       "      <td>0.535281</td>\n",
       "    </tr>\n",
       "    <tr>\n",
       "      <th>min</th>\n",
       "      <td>1.000000</td>\n",
       "      <td>0.000000</td>\n",
       "      <td>-1.000000</td>\n",
       "      <td>0.000000</td>\n",
       "      <td>22.220000</td>\n",
       "      <td>0.000000</td>\n",
       "    </tr>\n",
       "    <tr>\n",
       "      <th>25%</th>\n",
       "      <td>1.000000</td>\n",
       "      <td>0.000000</td>\n",
       "      <td>0.000000</td>\n",
       "      <td>0.000000</td>\n",
       "      <td>73.330000</td>\n",
       "      <td>0.000000</td>\n",
       "    </tr>\n",
       "    <tr>\n",
       "      <th>50%</th>\n",
       "      <td>1.000000</td>\n",
       "      <td>2.000000</td>\n",
       "      <td>0.000000</td>\n",
       "      <td>0.000000</td>\n",
       "      <td>82.220000</td>\n",
       "      <td>0.000000</td>\n",
       "    </tr>\n",
       "    <tr>\n",
       "      <th>75%</th>\n",
       "      <td>1.000000</td>\n",
       "      <td>4.000000</td>\n",
       "      <td>120.000000</td>\n",
       "      <td>1.000000</td>\n",
       "      <td>86.670000</td>\n",
       "      <td>0.000000</td>\n",
       "    </tr>\n",
       "    <tr>\n",
       "      <th>max</th>\n",
       "      <td>2.000000</td>\n",
       "      <td>9.000000</td>\n",
       "      <td>18231.000000</td>\n",
       "      <td>8.000000</td>\n",
       "      <td>100.000000</td>\n",
       "      <td>5.000000</td>\n",
       "    </tr>\n",
       "  </tbody>\n",
       "</table>\n",
       "</div>"
      ],
      "text/plain": [
       "           대학 입학 구분  진로 선택 및 취업준비 프로그램 참여 횟수      학자금대출 금액         휴학 횟수  \\\n",
       "count  54443.000000             54443.000000  54443.000000  54443.000000   \n",
       "mean       1.051907                 2.372114    302.669416      0.486968   \n",
       "std        0.221842                 2.101754    703.226138      0.691113   \n",
       "min        1.000000                 0.000000     -1.000000      0.000000   \n",
       "25%        1.000000                 0.000000      0.000000      0.000000   \n",
       "50%        1.000000                 2.000000      0.000000      0.000000   \n",
       "75%        1.000000                 4.000000    120.000000      1.000000   \n",
       "max        2.000000                 9.000000  18231.000000      8.000000   \n",
       "\n",
       "                GPA    석사/박사 재학여부  \n",
       "count  54443.000000  54443.000000  \n",
       "mean      80.239896      0.160700  \n",
       "std        9.415873      0.535281  \n",
       "min       22.220000      0.000000  \n",
       "25%       73.330000      0.000000  \n",
       "50%       82.220000      0.000000  \n",
       "75%       86.670000      0.000000  \n",
       "max      100.000000      5.000000  "
      ]
     },
     "execution_count": 64,
     "metadata": {},
     "output_type": "execute_result"
    }
   ],
   "source": [
    "college_df.describe()"
   ]
  },
  {
   "cell_type": "code",
   "execution_count": 65,
   "id": "c910ccec",
   "metadata": {},
   "outputs": [
    {
     "data": {
      "text/html": [
       "<div>\n",
       "<style scoped>\n",
       "    .dataframe tbody tr th:only-of-type {\n",
       "        vertical-align: middle;\n",
       "    }\n",
       "\n",
       "    .dataframe tbody tr th {\n",
       "        vertical-align: top;\n",
       "    }\n",
       "\n",
       "    .dataframe thead th {\n",
       "        text-align: right;\n",
       "    }\n",
       "</style>\n",
       "<table border=\"1\" class=\"dataframe\">\n",
       "  <thead>\n",
       "    <tr style=\"text-align: right;\">\n",
       "      <th></th>\n",
       "      <th>대학 입학 구분</th>\n",
       "      <th>진로 선택 및 취업준비 프로그램 참여 횟수</th>\n",
       "      <th>학자금대출 금액</th>\n",
       "      <th>휴학 횟수</th>\n",
       "      <th>GPA</th>\n",
       "      <th>석사/박사 재학여부</th>\n",
       "    </tr>\n",
       "  </thead>\n",
       "  <tbody>\n",
       "    <tr>\n",
       "      <th>count</th>\n",
       "      <td>54443.000000</td>\n",
       "      <td>54443.000000</td>\n",
       "      <td>54443.000000</td>\n",
       "      <td>54443.000000</td>\n",
       "      <td>54443.000000</td>\n",
       "      <td>54443.000000</td>\n",
       "    </tr>\n",
       "    <tr>\n",
       "      <th>mean</th>\n",
       "      <td>1.051907</td>\n",
       "      <td>2.372114</td>\n",
       "      <td>302.669710</td>\n",
       "      <td>0.486968</td>\n",
       "      <td>80.239896</td>\n",
       "      <td>0.160700</td>\n",
       "    </tr>\n",
       "    <tr>\n",
       "      <th>std</th>\n",
       "      <td>0.221842</td>\n",
       "      <td>2.101754</td>\n",
       "      <td>703.226011</td>\n",
       "      <td>0.691113</td>\n",
       "      <td>9.415873</td>\n",
       "      <td>0.535281</td>\n",
       "    </tr>\n",
       "    <tr>\n",
       "      <th>min</th>\n",
       "      <td>1.000000</td>\n",
       "      <td>0.000000</td>\n",
       "      <td>0.000000</td>\n",
       "      <td>0.000000</td>\n",
       "      <td>22.220000</td>\n",
       "      <td>0.000000</td>\n",
       "    </tr>\n",
       "    <tr>\n",
       "      <th>25%</th>\n",
       "      <td>1.000000</td>\n",
       "      <td>0.000000</td>\n",
       "      <td>0.000000</td>\n",
       "      <td>0.000000</td>\n",
       "      <td>73.330000</td>\n",
       "      <td>0.000000</td>\n",
       "    </tr>\n",
       "    <tr>\n",
       "      <th>50%</th>\n",
       "      <td>1.000000</td>\n",
       "      <td>2.000000</td>\n",
       "      <td>0.000000</td>\n",
       "      <td>0.000000</td>\n",
       "      <td>82.220000</td>\n",
       "      <td>0.000000</td>\n",
       "    </tr>\n",
       "    <tr>\n",
       "      <th>75%</th>\n",
       "      <td>1.000000</td>\n",
       "      <td>4.000000</td>\n",
       "      <td>120.000000</td>\n",
       "      <td>1.000000</td>\n",
       "      <td>86.670000</td>\n",
       "      <td>0.000000</td>\n",
       "    </tr>\n",
       "    <tr>\n",
       "      <th>max</th>\n",
       "      <td>2.000000</td>\n",
       "      <td>9.000000</td>\n",
       "      <td>18231.000000</td>\n",
       "      <td>8.000000</td>\n",
       "      <td>100.000000</td>\n",
       "      <td>5.000000</td>\n",
       "    </tr>\n",
       "  </tbody>\n",
       "</table>\n",
       "</div>"
      ],
      "text/plain": [
       "           대학 입학 구분  진로 선택 및 취업준비 프로그램 참여 횟수      학자금대출 금액         휴학 횟수  \\\n",
       "count  54443.000000             54443.000000  54443.000000  54443.000000   \n",
       "mean       1.051907                 2.372114    302.669710      0.486968   \n",
       "std        0.221842                 2.101754    703.226011      0.691113   \n",
       "min        1.000000                 0.000000      0.000000      0.000000   \n",
       "25%        1.000000                 0.000000      0.000000      0.000000   \n",
       "50%        1.000000                 2.000000      0.000000      0.000000   \n",
       "75%        1.000000                 4.000000    120.000000      1.000000   \n",
       "max        2.000000                 9.000000  18231.000000      8.000000   \n",
       "\n",
       "                GPA    석사/박사 재학여부  \n",
       "count  54443.000000  54443.000000  \n",
       "mean      80.239896      0.160700  \n",
       "std        9.415873      0.535281  \n",
       "min       22.220000      0.000000  \n",
       "25%       73.330000      0.000000  \n",
       "50%       82.220000      0.000000  \n",
       "75%       86.670000      0.000000  \n",
       "max      100.000000      5.000000  "
      ]
     },
     "execution_count": 65,
     "metadata": {},
     "output_type": "execute_result"
    }
   ],
   "source": [
    "for idx , val in enumerate(college_df['학자금대출 금액']):\n",
    "    if val < 0 :\n",
    "        college_df['학자금대출 금액'][idx] = 0\n",
    "        \n",
    "college_df.describe()    "
   ]
  },
  {
   "cell_type": "code",
   "execution_count": 66,
   "id": "104963a7",
   "metadata": {},
   "outputs": [],
   "source": [
    "college_df.to_csv('GP_졸업대학 특성(3years).csv' , index=False , encoding='utf-8-sig')"
   ]
  },
  {
   "cell_type": "code",
   "execution_count": null,
   "id": "50846515",
   "metadata": {},
   "outputs": [],
   "source": []
  }
 ],
 "metadata": {
  "kernelspec": {
   "display_name": "Python 3",
   "language": "python",
   "name": "python3"
  },
  "language_info": {
   "codemirror_mode": {
    "name": "ipython",
    "version": 3
   },
   "file_extension": ".py",
   "mimetype": "text/x-python",
   "name": "python",
   "nbconvert_exporter": "python",
   "pygments_lexer": "ipython3",
   "version": "3.8.8"
  }
 },
 "nbformat": 4,
 "nbformat_minor": 5
}
