{
 "cells": [
  {
   "cell_type": "code",
   "execution_count": 20,
   "id": "1b960713",
   "metadata": {},
   "outputs": [],
   "source": [
    "import pandas as pd\n",
    "import warnings\n",
    "warnings.filterwarnings('ignore')"
   ]
  },
  {
   "cell_type": "code",
   "execution_count": 21,
   "id": "6216f2cc",
   "metadata": {},
   "outputs": [],
   "source": [
    "df = pd.read_csv('./datasets/GP18__2019_컬럼명수정.csv')"
   ]
  },
  {
   "cell_type": "code",
   "execution_count": 22,
   "id": "522530a7",
   "metadata": {},
   "outputs": [],
   "source": [
    "basic_df = df[['본분교','국공사립','학위과정유형','주야간','전공계열','전공_소분류_코드', '전공_세분류_코드',\n",
    "              '학교유형', '학교소재지역','성별' ,'연령','G181SQ001'\n",
    "]]"
   ]
  },
  {
   "cell_type": "code",
   "execution_count": 23,
   "id": "62535498",
   "metadata": {},
   "outputs": [],
   "source": [
    "# 연령 -> 소수점 버리기(내림)\n",
    "import math\n",
    "\n",
    "age = []\n",
    "\n",
    "for i in basic_df['연령'].values:\n",
    "    age.append(math.trunc(i))\n",
    "\n",
    "basic_df['연령'] = age"
   ]
  },
  {
   "cell_type": "code",
   "execution_count": 24,
   "id": "579da13d",
   "metadata": {},
   "outputs": [],
   "source": [
    "# 전공_소분류_코드 / 전공_세분류_코드 라벨링\n",
    "from sklearn.preprocessing import LabelEncoder\n",
    "encoder = LabelEncoder()\n",
    "basic_df['전공_소분류_코드'] = encoder.fit_transform(basic_df['전공_소분류_코드'])\n",
    "basic_df['전공_세분류_코드'] = encoder.fit_transform(basic_df['전공_세분류_코드'])\n"
   ]
  },
  {
   "cell_type": "code",
   "execution_count": 31,
   "id": "dc605f57",
   "metadata": {},
   "outputs": [],
   "source": [
    "# G181SQ001 -> SQ1. 지난 4주 간 주로 한 일\n",
    "# 1 : 일하였음 , 2 : 일시휴직 -> 두개 다 취업한 상태로 변경(1)\n",
    "# 3~15 : 미취업 -> 0으로 변경\n",
    "\n",
    "# 컬럼명 변경\n",
    "basic_df.rename(columns={'G181SQ001' : '취업여부'} , inplace=True)\n",
    "\n",
    "# 변수값 변경\n",
    "# test_df.취업여부.replace({'3':'0'})\n",
    "\n",
    "for i in basic_df['취업여부']:\n",
    "    if 3<= i <=15:\n",
    "        basic_df['취업여부'].replace(i , 0 , inplace=True)\n",
    "    elif i == 2:\n",
    "        basic_df['취업여부'].replace(i , 1 , inplace=True)"
   ]
  },
  {
   "cell_type": "code",
   "execution_count": 35,
   "id": "981a4c92",
   "metadata": {},
   "outputs": [],
   "source": [
    "basic_df.to_csv('GP_basic_df.csv' , index=False , encoding='utf-8-sig')"
   ]
  },
  {
   "cell_type": "code",
   "execution_count": 30,
   "id": "7446bd84",
   "metadata": {},
   "outputs": [
    {
     "data": {
      "text/plain": [
       "1    12390\n",
       "0     5773\n",
       "Name: 취업여부, dtype: int64"
      ]
     },
     "execution_count": 30,
     "metadata": {},
     "output_type": "execute_result"
    }
   ],
   "source": [
    "basic_df.취업여부.value_counts()\n",
    "\n",
    "# 취업 : 68% \n",
    "# 미취업 : 32%\n",
    "# 모델링 진행시 과적합 방지를 위해 SMOTE 기법 필요"
   ]
  }
 ],
 "metadata": {
  "kernelspec": {
   "display_name": "Python 3",
   "language": "python",
   "name": "python3"
  },
  "language_info": {
   "codemirror_mode": {
    "name": "ipython",
    "version": 3
   },
   "file_extension": ".py",
   "mimetype": "text/x-python",
   "name": "python",
   "nbconvert_exporter": "python",
   "pygments_lexer": "ipython3",
   "version": "3.8.8"
  }
 },
 "nbformat": 4,
 "nbformat_minor": 5
}
