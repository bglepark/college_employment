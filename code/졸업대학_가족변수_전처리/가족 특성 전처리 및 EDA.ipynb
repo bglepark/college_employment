{
 "cells": [
  {
   "cell_type": "code",
   "execution_count": 5,
   "id": "867b8142",
   "metadata": {},
   "outputs": [
    {
     "name": "stderr",
     "output_type": "stream",
     "text": [
      "C:\\Users\\hspar\\anaconda3\\lib\\site-packages\\IPython\\core\\interactiveshell.py:3165: DtypeWarning: Columns (43,335,484,664,733,807,808,818,819,824,852,853,950,961,970,972,973,1216,1236,1250) have mixed types.Specify dtype option on import or set low_memory=False.\n",
      "  has_raised = await self.run_ast_nodes(code_ast.body, cell_name,\n"
     ]
    }
   ],
   "source": [
    "import pandas as pd\n",
    "\n",
    "df = pd.read_csv('../datasets/GP18__2019_컬럼명수정.csv')\n"
   ]
  },
  {
   "cell_type": "code",
   "execution_count": 6,
   "id": "0ff9f462",
   "metadata": {},
   "outputs": [
    {
     "name": "stdout",
     "output_type": "stream",
     "text": [
      "0\n",
      "0\n"
     ]
    }
   ],
   "source": [
    "family_df1 = df['G181P026'] # 아버지 학력\n",
    "\n",
    "family_df2 = df['G181P029'] # 어머니 학력\n",
    "\n",
    "print(family_df1.isnull().sum())\n",
    "print(family_df2.isnull().sum())\n"
   ]
  },
  {
   "cell_type": "code",
   "execution_count": 10,
   "id": "82a6b5e1",
   "metadata": {},
   "outputs": [
    {
     "name": "stdout",
     "output_type": "stream",
     "text": [
      "1    17318\n",
      "2      793\n",
      "3       30\n",
      "4       22\n",
      "Name: G181P001, dtype: int64\n",
      "0\n"
     ]
    }
   ],
   "source": [
    "# 혼인 여부\n",
    "\n",
    "family_df3 = df['G181P001'] # 혼인여부\n",
    "\n",
    "print(family_df3.value_counts())\n",
    "print(family_df3.isnull().sum())"
   ]
  },
  {
   "cell_type": "code",
   "execution_count": 12,
   "id": "20c02aa2",
   "metadata": {},
   "outputs": [
    {
     "name": "stdout",
     "output_type": "stream",
     "text": [
      "6.0    404\n",
      "4.0    170\n",
      "5.0    148\n",
      "7.0     51\n",
      "3.0     17\n",
      "2.0      3\n",
      "Name: G181P004, dtype: int64\n",
      "17370\n"
     ]
    }
   ],
   "source": [
    "# 배우자 최종학력\n",
    "\n",
    "family_df4 = df['G181P004']\n",
    "\n",
    "print(family_df4.value_counts())\n",
    "print(family_df4.isnull().sum())"
   ]
  },
  {
   "cell_type": "code",
   "execution_count": 16,
   "id": "fd8da29b",
   "metadata": {},
   "outputs": [
    {
     "name": "stdout",
     "output_type": "stream",
     "text": [
      " 5     3527\n",
      " 4     3058\n",
      " 6     2987\n",
      " 3     2595\n",
      " 7     1431\n",
      " 2     1395\n",
      " 8     1165\n",
      "-1      810\n",
      " 9      587\n",
      " 1      466\n",
      " 10     142\n",
      "Name: G181P035, dtype: int64\n",
      "0\n"
     ]
    }
   ],
   "source": [
    "# 부모님 월평균 소득\n",
    "\n",
    "family_df5 = df['G181P035']\n",
    "\n",
    "print(family_df5.value_counts())\n",
    "print(family_df5.isnull().sum())"
   ]
  },
  {
   "cell_type": "code",
   "execution_count": 18,
   "id": "23a91775",
   "metadata": {},
   "outputs": [
    {
     "name": "stdout",
     "output_type": "stream",
     "text": [
      " 3    4563\n",
      " 4    4324\n",
      " 2    2598\n",
      " 5    2404\n",
      " 1    2079\n",
      " 6    1199\n",
      "-1     854\n",
      " 7     142\n",
      "Name: G181P036, dtype: int64\n",
      "0\n"
     ]
    }
   ],
   "source": [
    "# 부모님의 자산\n",
    "\n",
    "family_df6 = df['G181P036']\n",
    "\n",
    "print(family_df6.value_counts())\n",
    "print(family_df6.isnull().sum())"
   ]
  },
  {
   "cell_type": "code",
   "execution_count": 20,
   "id": "a6277b86",
   "metadata": {},
   "outputs": [
    {
     "data": {
      "text/plain": [
       "G181P041  G181P042\n",
       "1         30.0        999\n",
       "          50.0        836\n",
       "          20.0        537\n",
       "          40.0        418\n",
       "          100.0       287\n",
       "                     ... \n",
       "          58.0          1\n",
       "          2.0           1\n",
       "          72.0          1\n",
       "          95.0          1\n",
       "          700.0         1\n",
       "Length: 66, dtype: int64"
      ]
     },
     "execution_count": 20,
     "metadata": {},
     "output_type": "execute_result"
    }
   ],
   "source": [
    "# 가정에서 경제적 지원을 받는지\n",
    "\n",
    "family_df7 = df[['G181P041' , 'G181P042']]\n",
    "\n",
    "family_df7.value_counts()"
   ]
  },
  {
   "cell_type": "code",
   "execution_count": 24,
   "id": "35b15fa2",
   "metadata": {},
   "outputs": [
    {
     "name": "stdout",
     "output_type": "stream",
     "text": [
      "30.0     999\n",
      "50.0     836\n",
      "20.0     537\n",
      "40.0     418\n",
      "100.0    287\n",
      "        ... \n",
      "38.0       1\n",
      "700.0      1\n",
      "105.0      1\n",
      "2.0        1\n",
      "181.0      1\n",
      "Name: G181P042, Length: 66, dtype: int64\n"
     ]
    },
    {
     "data": {
      "text/plain": [
       "count    4137.000000\n",
       "mean       47.355330\n",
       "std        36.162304\n",
       "min         1.000000\n",
       "25%        30.000000\n",
       "50%        40.000000\n",
       "75%        50.000000\n",
       "max       700.000000\n",
       "Name: G181P042, dtype: float64"
      ]
     },
     "execution_count": 24,
     "metadata": {},
     "output_type": "execute_result"
    }
   ],
   "source": [
    "# 가정에서 받는 경제적 지원 금액\n",
    "\n",
    "family_df8 = df['G181P042']\n",
    "\n",
    "print(family_df8.value_counts())\n",
    "family_df8.describe()"
   ]
  }
 ],
 "metadata": {
  "kernelspec": {
   "display_name": "Python 3",
   "language": "python",
   "name": "python3"
  },
  "language_info": {
   "codemirror_mode": {
    "name": "ipython",
    "version": 3
   },
   "file_extension": ".py",
   "mimetype": "text/x-python",
   "name": "python",
   "nbconvert_exporter": "python",
   "pygments_lexer": "ipython3",
   "version": "3.8.8"
  }
 },
 "nbformat": 4,
 "nbformat_minor": 5
}
