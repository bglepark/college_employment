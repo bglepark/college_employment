{
 "cells": [
  {
   "cell_type": "code",
   "execution_count": 52,
   "id": "96f306d2",
   "metadata": {},
   "outputs": [
    {
     "name": "stderr",
     "output_type": "stream",
     "text": [
      "C:\\Users\\hspar\\anaconda3\\lib\\site-packages\\IPython\\core\\interactiveshell.py:3165: DtypeWarning: Columns (43,335,484,664,733,807,808,818,819,824,852,853,950,961,970,972,973,1216,1236,1250) have mixed types.Specify dtype option on import or set low_memory=False.\n",
      "  has_raised = await self.run_ast_nodes(code_ast.body, cell_name,\n"
     ]
    },
    {
     "data": {
      "text/html": [
       "<div>\n",
       "<style scoped>\n",
       "    .dataframe tbody tr th:only-of-type {\n",
       "        vertical-align: middle;\n",
       "    }\n",
       "\n",
       "    .dataframe tbody tr th {\n",
       "        vertical-align: top;\n",
       "    }\n",
       "\n",
       "    .dataframe thead th {\n",
       "        text-align: right;\n",
       "    }\n",
       "</style>\n",
       "<table border=\"1\" class=\"dataframe\">\n",
       "  <thead>\n",
       "    <tr style=\"text-align: right;\">\n",
       "      <th></th>\n",
       "      <th>pid</th>\n",
       "      <th>본분교</th>\n",
       "      <th>국공사립</th>\n",
       "      <th>학위과정유형</th>\n",
       "      <th>주야간</th>\n",
       "      <th>전공계열</th>\n",
       "      <th>전공_소분류_코드</th>\n",
       "      <th>전공_소분류명</th>\n",
       "      <th>전공_세분류_코드</th>\n",
       "      <th>전공_세분류명</th>\n",
       "      <th>학교유형</th>\n",
       "      <th>학교소재권역</th>\n",
       "      <th>학교소재지역</th>\n",
       "      <th>성별</th>\n",
       "      <th>출생년</th>\n",
       "      <th>출생월</th>\n",
       "      <th>연령</th>\n",
       "      <th>졸업년</th>\n",
       "      <th>졸업월</th>\n",
       "      <th>G181SQ001</th>\n",
       "      <th>G181SQ002</th>\n",
       "      <th>G181SQ003</th>\n",
       "      <th>G181SQ004</th>\n",
       "      <th>G181SQ005</th>\n",
       "      <th>G181SQ006</th>\n",
       "      <th>G181SQ007</th>\n",
       "      <th>G181SQ008</th>\n",
       "      <th>G181SQ009</th>\n",
       "      <th>G181SQ010</th>\n",
       "      <th>G181SQ011</th>\n",
       "      <th>G181A001</th>\n",
       "      <th>G181A002</th>\n",
       "      <th>G181A003</th>\n",
       "      <th>G181A004_10</th>\n",
       "      <th>G181A005_10</th>\n",
       "      <th>G181A006_10</th>\n",
       "      <th>G181A007A_2018</th>\n",
       "      <th>G181A007_2018</th>\n",
       "      <th>G181A008_2018</th>\n",
       "      <th>G181A009_2018</th>\n",
       "      <th>G181A010</th>\n",
       "      <th>G181A011</th>\n",
       "      <th>G181A012</th>\n",
       "      <th>G181A013</th>\n",
       "      <th>G181A014</th>\n",
       "      <th>G181A015</th>\n",
       "      <th>G181A016</th>\n",
       "      <th>G181A017</th>\n",
       "      <th>G181A018</th>\n",
       "      <th>G181A019</th>\n",
       "      <th>G181A020</th>\n",
       "      <th>G181A021</th>\n",
       "      <th>G181A022</th>\n",
       "      <th>G181A023</th>\n",
       "      <th>G181A024</th>\n",
       "      <th>G181A025</th>\n",
       "      <th>G181A026</th>\n",
       "      <th>G181A027</th>\n",
       "      <th>G181A028</th>\n",
       "      <th>G181A029</th>\n",
       "      <th>...</th>\n",
       "      <th>G181P008</th>\n",
       "      <th>G181P009</th>\n",
       "      <th>G181P014</th>\n",
       "      <th>G181P016</th>\n",
       "      <th>G181P017</th>\n",
       "      <th>G181P018</th>\n",
       "      <th>G181P019</th>\n",
       "      <th>G181P020</th>\n",
       "      <th>G181P021</th>\n",
       "      <th>G181P024</th>\n",
       "      <th>G181P025</th>\n",
       "      <th>G181P026</th>\n",
       "      <th>G181P027</th>\n",
       "      <th>G181P028Z</th>\n",
       "      <th>G181P029</th>\n",
       "      <th>G181P030</th>\n",
       "      <th>G181P031Z</th>\n",
       "      <th>G181P032</th>\n",
       "      <th>G181P033</th>\n",
       "      <th>G181P034</th>\n",
       "      <th>G181P035</th>\n",
       "      <th>G181P036</th>\n",
       "      <th>G181P046</th>\n",
       "      <th>G181P037</th>\n",
       "      <th>G181P038</th>\n",
       "      <th>G181P039</th>\n",
       "      <th>G181P040Z</th>\n",
       "      <th>G181P041</th>\n",
       "      <th>G181P042</th>\n",
       "      <th>G181P043</th>\n",
       "      <th>G181P044</th>\n",
       "      <th>G181P045</th>\n",
       "      <th>G181R001</th>\n",
       "      <th>G181R002</th>\n",
       "      <th>G181R003</th>\n",
       "      <th>G181R004</th>\n",
       "      <th>G181R005</th>\n",
       "      <th>G181R006</th>\n",
       "      <th>G181R007</th>\n",
       "      <th>G181R008</th>\n",
       "      <th>G181R009</th>\n",
       "      <th>G181R010</th>\n",
       "      <th>G181R011</th>\n",
       "      <th>G181R012</th>\n",
       "      <th>G181R013</th>\n",
       "      <th>G181R014</th>\n",
       "      <th>G181R015</th>\n",
       "      <th>G181R016</th>\n",
       "      <th>G181R017</th>\n",
       "      <th>G181R018</th>\n",
       "      <th>G181R019</th>\n",
       "      <th>G181R020</th>\n",
       "      <th>G181R021</th>\n",
       "      <th>G181R022</th>\n",
       "      <th>G181R023</th>\n",
       "      <th>G181R024</th>\n",
       "      <th>G181R025</th>\n",
       "      <th>G181R026</th>\n",
       "      <th>G181R027</th>\n",
       "      <th>G181WT</th>\n",
       "    </tr>\n",
       "  </thead>\n",
       "  <tbody>\n",
       "    <tr>\n",
       "      <th>0</th>\n",
       "      <td>100013</td>\n",
       "      <td>1</td>\n",
       "      <td>3</td>\n",
       "      <td>3</td>\n",
       "      <td>2</td>\n",
       "      <td>1</td>\n",
       "      <td>C010101</td>\n",
       "      <td>일본어</td>\n",
       "      <td>C01010100027</td>\n",
       "      <td>비즈니스일본어과</td>\n",
       "      <td>1</td>\n",
       "      <td>1</td>\n",
       "      <td>1</td>\n",
       "      <td>2</td>\n",
       "      <td>1996</td>\n",
       "      <td>3</td>\n",
       "      <td>23.500000</td>\n",
       "      <td>2018</td>\n",
       "      <td>2</td>\n",
       "      <td>1</td>\n",
       "      <td>NaN</td>\n",
       "      <td>NaN</td>\n",
       "      <td>1</td>\n",
       "      <td>NaN</td>\n",
       "      <td>1.0</td>\n",
       "      <td>NaN</td>\n",
       "      <td>NaN</td>\n",
       "      <td>NaN</td>\n",
       "      <td>NaN</td>\n",
       "      <td>NaN</td>\n",
       "      <td>2019.0</td>\n",
       "      <td>6.0</td>\n",
       "      <td>1.0</td>\n",
       "      <td>18.0</td>\n",
       "      <td>91.0</td>\n",
       "      <td>911.0</td>\n",
       "      <td>6.0</td>\n",
       "      <td>54.0</td>\n",
       "      <td>541.0</td>\n",
       "      <td>5419.0</td>\n",
       "      <td>9.0</td>\n",
       "      <td>4.0</td>\n",
       "      <td>1.0</td>\n",
       "      <td>NaN</td>\n",
       "      <td>1.0</td>\n",
       "      <td>111.0</td>\n",
       "      <td>1.0</td>\n",
       "      <td>11.0</td>\n",
       "      <td>0.0</td>\n",
       "      <td>15.0</td>\n",
       "      <td>5.0</td>\n",
       "      <td>2.0</td>\n",
       "      <td>1.0</td>\n",
       "      <td>2.0</td>\n",
       "      <td>2.0</td>\n",
       "      <td>NaN</td>\n",
       "      <td>2.0</td>\n",
       "      <td>NaN</td>\n",
       "      <td>1.0</td>\n",
       "      <td>1.0</td>\n",
       "      <td>...</td>\n",
       "      <td>2</td>\n",
       "      <td>NaN</td>\n",
       "      <td>1</td>\n",
       "      <td>3</td>\n",
       "      <td>4</td>\n",
       "      <td>1</td>\n",
       "      <td>NaN</td>\n",
       "      <td>8.0</td>\n",
       "      <td>825.0</td>\n",
       "      <td>1</td>\n",
       "      <td>111</td>\n",
       "      <td>4</td>\n",
       "      <td>1.0</td>\n",
       "      <td>3</td>\n",
       "      <td>4</td>\n",
       "      <td>1.0</td>\n",
       "      <td>3</td>\n",
       "      <td>7</td>\n",
       "      <td>7</td>\n",
       "      <td>5</td>\n",
       "      <td>5</td>\n",
       "      <td>3</td>\n",
       "      <td>1</td>\n",
       "      <td>1.0</td>\n",
       "      <td>2.0</td>\n",
       "      <td>0</td>\n",
       "      <td>NaN</td>\n",
       "      <td>2</td>\n",
       "      <td>NaN</td>\n",
       "      <td>2</td>\n",
       "      <td>NaN</td>\n",
       "      <td>1</td>\n",
       "      <td>2</td>\n",
       "      <td>NaN</td>\n",
       "      <td>2</td>\n",
       "      <td>NaN</td>\n",
       "      <td>2</td>\n",
       "      <td>NaN</td>\n",
       "      <td>2</td>\n",
       "      <td>NaN</td>\n",
       "      <td>NaN</td>\n",
       "      <td>2</td>\n",
       "      <td>NaN</td>\n",
       "      <td>2</td>\n",
       "      <td>NaN</td>\n",
       "      <td>2</td>\n",
       "      <td>NaN</td>\n",
       "      <td>2</td>\n",
       "      <td>NaN</td>\n",
       "      <td>2</td>\n",
       "      <td>NaN</td>\n",
       "      <td>NaN</td>\n",
       "      <td>2</td>\n",
       "      <td>NaN</td>\n",
       "      <td>100</td>\n",
       "      <td>0</td>\n",
       "      <td>0</td>\n",
       "      <td>0</td>\n",
       "      <td>1.0</td>\n",
       "      <td>33.641815</td>\n",
       "    </tr>\n",
       "    <tr>\n",
       "      <th>1</th>\n",
       "      <td>100018</td>\n",
       "      <td>1</td>\n",
       "      <td>3</td>\n",
       "      <td>3</td>\n",
       "      <td>1</td>\n",
       "      <td>1</td>\n",
       "      <td>C010101</td>\n",
       "      <td>일본어</td>\n",
       "      <td>C01010100013</td>\n",
       "      <td>일본어과</td>\n",
       "      <td>1</td>\n",
       "      <td>1</td>\n",
       "      <td>1</td>\n",
       "      <td>1</td>\n",
       "      <td>1997</td>\n",
       "      <td>12</td>\n",
       "      <td>21.750000</td>\n",
       "      <td>2018</td>\n",
       "      <td>2</td>\n",
       "      <td>12</td>\n",
       "      <td>2019.0</td>\n",
       "      <td>1.0</td>\n",
       "      <td>12</td>\n",
       "      <td>2.0</td>\n",
       "      <td>NaN</td>\n",
       "      <td>NaN</td>\n",
       "      <td>2.0</td>\n",
       "      <td>NaN</td>\n",
       "      <td>2.0</td>\n",
       "      <td>2.0</td>\n",
       "      <td>NaN</td>\n",
       "      <td>NaN</td>\n",
       "      <td>NaN</td>\n",
       "      <td>NaN</td>\n",
       "      <td>NaN</td>\n",
       "      <td>NaN</td>\n",
       "      <td>NaN</td>\n",
       "      <td>NaN</td>\n",
       "      <td>NaN</td>\n",
       "      <td>NaN</td>\n",
       "      <td>NaN</td>\n",
       "      <td>NaN</td>\n",
       "      <td>NaN</td>\n",
       "      <td>NaN</td>\n",
       "      <td>NaN</td>\n",
       "      <td>NaN</td>\n",
       "      <td>NaN</td>\n",
       "      <td>NaN</td>\n",
       "      <td>NaN</td>\n",
       "      <td>NaN</td>\n",
       "      <td>NaN</td>\n",
       "      <td>NaN</td>\n",
       "      <td>NaN</td>\n",
       "      <td>NaN</td>\n",
       "      <td>NaN</td>\n",
       "      <td>NaN</td>\n",
       "      <td>NaN</td>\n",
       "      <td>NaN</td>\n",
       "      <td>NaN</td>\n",
       "      <td>NaN</td>\n",
       "      <td>...</td>\n",
       "      <td>2</td>\n",
       "      <td>NaN</td>\n",
       "      <td>1</td>\n",
       "      <td>3</td>\n",
       "      <td>4</td>\n",
       "      <td>1</td>\n",
       "      <td>NaN</td>\n",
       "      <td>1.0</td>\n",
       "      <td>110.0</td>\n",
       "      <td>8</td>\n",
       "      <td>825</td>\n",
       "      <td>4</td>\n",
       "      <td>1.0</td>\n",
       "      <td>3</td>\n",
       "      <td>4</td>\n",
       "      <td>1.0</td>\n",
       "      <td>3</td>\n",
       "      <td>7</td>\n",
       "      <td>7</td>\n",
       "      <td>4</td>\n",
       "      <td>4</td>\n",
       "      <td>3</td>\n",
       "      <td>1</td>\n",
       "      <td>1.0</td>\n",
       "      <td>3.0</td>\n",
       "      <td>0</td>\n",
       "      <td>NaN</td>\n",
       "      <td>2</td>\n",
       "      <td>NaN</td>\n",
       "      <td>-1</td>\n",
       "      <td>NaN</td>\n",
       "      <td>7</td>\n",
       "      <td>2</td>\n",
       "      <td>NaN</td>\n",
       "      <td>2</td>\n",
       "      <td>NaN</td>\n",
       "      <td>2</td>\n",
       "      <td>NaN</td>\n",
       "      <td>2</td>\n",
       "      <td>NaN</td>\n",
       "      <td>NaN</td>\n",
       "      <td>2</td>\n",
       "      <td>NaN</td>\n",
       "      <td>2</td>\n",
       "      <td>NaN</td>\n",
       "      <td>2</td>\n",
       "      <td>NaN</td>\n",
       "      <td>2</td>\n",
       "      <td>NaN</td>\n",
       "      <td>2</td>\n",
       "      <td>NaN</td>\n",
       "      <td>NaN</td>\n",
       "      <td>2</td>\n",
       "      <td>NaN</td>\n",
       "      <td>10</td>\n",
       "      <td>0</td>\n",
       "      <td>0</td>\n",
       "      <td>20</td>\n",
       "      <td>NaN</td>\n",
       "      <td>21.997140</td>\n",
       "    </tr>\n",
       "    <tr>\n",
       "      <th>2</th>\n",
       "      <td>100019</td>\n",
       "      <td>1</td>\n",
       "      <td>3</td>\n",
       "      <td>3</td>\n",
       "      <td>1</td>\n",
       "      <td>1</td>\n",
       "      <td>C010101</td>\n",
       "      <td>일본어</td>\n",
       "      <td>C01010100013</td>\n",
       "      <td>일본어과</td>\n",
       "      <td>1</td>\n",
       "      <td>1</td>\n",
       "      <td>1</td>\n",
       "      <td>1</td>\n",
       "      <td>1997</td>\n",
       "      <td>10</td>\n",
       "      <td>21.916667</td>\n",
       "      <td>2018</td>\n",
       "      <td>2</td>\n",
       "      <td>1</td>\n",
       "      <td>NaN</td>\n",
       "      <td>NaN</td>\n",
       "      <td>1</td>\n",
       "      <td>NaN</td>\n",
       "      <td>2.0</td>\n",
       "      <td>NaN</td>\n",
       "      <td>NaN</td>\n",
       "      <td>NaN</td>\n",
       "      <td>NaN</td>\n",
       "      <td>NaN</td>\n",
       "      <td>2019.0</td>\n",
       "      <td>7.0</td>\n",
       "      <td>1.0</td>\n",
       "      <td>16.0</td>\n",
       "      <td>85.0</td>\n",
       "      <td>856.0</td>\n",
       "      <td>3.0</td>\n",
       "      <td>21.0</td>\n",
       "      <td>214.0</td>\n",
       "      <td>2141.0</td>\n",
       "      <td>1.0</td>\n",
       "      <td>1.0</td>\n",
       "      <td>1.0</td>\n",
       "      <td>NaN</td>\n",
       "      <td>5.0</td>\n",
       "      <td>508.0</td>\n",
       "      <td>6.0</td>\n",
       "      <td>2.0</td>\n",
       "      <td>0.0</td>\n",
       "      <td>20.0</td>\n",
       "      <td>8.0</td>\n",
       "      <td>5.0</td>\n",
       "      <td>NaN</td>\n",
       "      <td>NaN</td>\n",
       "      <td>NaN</td>\n",
       "      <td>NaN</td>\n",
       "      <td>NaN</td>\n",
       "      <td>NaN</td>\n",
       "      <td>NaN</td>\n",
       "      <td>NaN</td>\n",
       "      <td>...</td>\n",
       "      <td>2</td>\n",
       "      <td>NaN</td>\n",
       "      <td>1</td>\n",
       "      <td>3</td>\n",
       "      <td>4</td>\n",
       "      <td>1</td>\n",
       "      <td>NaN</td>\n",
       "      <td>5.0</td>\n",
       "      <td>508.0</td>\n",
       "      <td>5</td>\n",
       "      <td>508</td>\n",
       "      <td>6</td>\n",
       "      <td>3.0</td>\n",
       "      <td>3</td>\n",
       "      <td>6</td>\n",
       "      <td>3.0</td>\n",
       "      <td>3</td>\n",
       "      <td>1</td>\n",
       "      <td>1</td>\n",
       "      <td>6</td>\n",
       "      <td>6</td>\n",
       "      <td>5</td>\n",
       "      <td>1</td>\n",
       "      <td>1.0</td>\n",
       "      <td>2.0</td>\n",
       "      <td>0</td>\n",
       "      <td>NaN</td>\n",
       "      <td>1</td>\n",
       "      <td>40.0</td>\n",
       "      <td>2</td>\n",
       "      <td>NaN</td>\n",
       "      <td>7</td>\n",
       "      <td>2</td>\n",
       "      <td>NaN</td>\n",
       "      <td>2</td>\n",
       "      <td>NaN</td>\n",
       "      <td>2</td>\n",
       "      <td>NaN</td>\n",
       "      <td>2</td>\n",
       "      <td>NaN</td>\n",
       "      <td>NaN</td>\n",
       "      <td>2</td>\n",
       "      <td>NaN</td>\n",
       "      <td>2</td>\n",
       "      <td>NaN</td>\n",
       "      <td>1</td>\n",
       "      <td>480.0</td>\n",
       "      <td>2</td>\n",
       "      <td>NaN</td>\n",
       "      <td>2</td>\n",
       "      <td>NaN</td>\n",
       "      <td>NaN</td>\n",
       "      <td>2</td>\n",
       "      <td>NaN</td>\n",
       "      <td>40</td>\n",
       "      <td>0</td>\n",
       "      <td>0</td>\n",
       "      <td>38</td>\n",
       "      <td>3.0</td>\n",
       "      <td>21.997140</td>\n",
       "    </tr>\n",
       "    <tr>\n",
       "      <th>3</th>\n",
       "      <td>100034</td>\n",
       "      <td>1</td>\n",
       "      <td>3</td>\n",
       "      <td>3</td>\n",
       "      <td>1</td>\n",
       "      <td>1</td>\n",
       "      <td>C010101</td>\n",
       "      <td>일본어</td>\n",
       "      <td>C01010100005</td>\n",
       "      <td>관광일어과</td>\n",
       "      <td>1</td>\n",
       "      <td>2</td>\n",
       "      <td>8</td>\n",
       "      <td>2</td>\n",
       "      <td>1994</td>\n",
       "      <td>2</td>\n",
       "      <td>25.583333</td>\n",
       "      <td>2018</td>\n",
       "      <td>2</td>\n",
       "      <td>1</td>\n",
       "      <td>NaN</td>\n",
       "      <td>NaN</td>\n",
       "      <td>1</td>\n",
       "      <td>NaN</td>\n",
       "      <td>1.0</td>\n",
       "      <td>NaN</td>\n",
       "      <td>NaN</td>\n",
       "      <td>NaN</td>\n",
       "      <td>NaN</td>\n",
       "      <td>NaN</td>\n",
       "      <td>2018.0</td>\n",
       "      <td>12.0</td>\n",
       "      <td>1.0</td>\n",
       "      <td>8.0</td>\n",
       "      <td>51.0</td>\n",
       "      <td>511.0</td>\n",
       "      <td>6.0</td>\n",
       "      <td>52.0</td>\n",
       "      <td>522.0</td>\n",
       "      <td>5221.0</td>\n",
       "      <td>9.0</td>\n",
       "      <td>8.0</td>\n",
       "      <td>1.0</td>\n",
       "      <td>NaN</td>\n",
       "      <td>5.0</td>\n",
       "      <td>508.0</td>\n",
       "      <td>4.0</td>\n",
       "      <td>11.0</td>\n",
       "      <td>1.0</td>\n",
       "      <td>0.0</td>\n",
       "      <td>1.0</td>\n",
       "      <td>1.0</td>\n",
       "      <td>2.0</td>\n",
       "      <td>NaN</td>\n",
       "      <td>NaN</td>\n",
       "      <td>2.0</td>\n",
       "      <td>1.0</td>\n",
       "      <td>3.0</td>\n",
       "      <td>NaN</td>\n",
       "      <td>1.0</td>\n",
       "      <td>...</td>\n",
       "      <td>2</td>\n",
       "      <td>NaN</td>\n",
       "      <td>1</td>\n",
       "      <td>3</td>\n",
       "      <td>3</td>\n",
       "      <td>1</td>\n",
       "      <td>NaN</td>\n",
       "      <td>8.0</td>\n",
       "      <td>824.0</td>\n",
       "      <td>8</td>\n",
       "      <td>813</td>\n",
       "      <td>6</td>\n",
       "      <td>1.0</td>\n",
       "      <td>5</td>\n",
       "      <td>6</td>\n",
       "      <td>1.0</td>\n",
       "      <td>5</td>\n",
       "      <td>2</td>\n",
       "      <td>5</td>\n",
       "      <td>6</td>\n",
       "      <td>6</td>\n",
       "      <td>5</td>\n",
       "      <td>1</td>\n",
       "      <td>1.0</td>\n",
       "      <td>2.0</td>\n",
       "      <td>300</td>\n",
       "      <td>NaN</td>\n",
       "      <td>2</td>\n",
       "      <td>NaN</td>\n",
       "      <td>1</td>\n",
       "      <td>20.0</td>\n",
       "      <td>1</td>\n",
       "      <td>1</td>\n",
       "      <td>300.0</td>\n",
       "      <td>2</td>\n",
       "      <td>NaN</td>\n",
       "      <td>2</td>\n",
       "      <td>NaN</td>\n",
       "      <td>2</td>\n",
       "      <td>NaN</td>\n",
       "      <td>NaN</td>\n",
       "      <td>2</td>\n",
       "      <td>NaN</td>\n",
       "      <td>2</td>\n",
       "      <td>NaN</td>\n",
       "      <td>1</td>\n",
       "      <td>300.0</td>\n",
       "      <td>2</td>\n",
       "      <td>NaN</td>\n",
       "      <td>2</td>\n",
       "      <td>NaN</td>\n",
       "      <td>NaN</td>\n",
       "      <td>2</td>\n",
       "      <td>NaN</td>\n",
       "      <td>100</td>\n",
       "      <td>10</td>\n",
       "      <td>0</td>\n",
       "      <td>30</td>\n",
       "      <td>1.0</td>\n",
       "      <td>35.853258</td>\n",
       "    </tr>\n",
       "    <tr>\n",
       "      <th>4</th>\n",
       "      <td>100036</td>\n",
       "      <td>1</td>\n",
       "      <td>3</td>\n",
       "      <td>3</td>\n",
       "      <td>1</td>\n",
       "      <td>1</td>\n",
       "      <td>C010101</td>\n",
       "      <td>일본어</td>\n",
       "      <td>C01010100005</td>\n",
       "      <td>관광일어과</td>\n",
       "      <td>1</td>\n",
       "      <td>2</td>\n",
       "      <td>8</td>\n",
       "      <td>1</td>\n",
       "      <td>1997</td>\n",
       "      <td>12</td>\n",
       "      <td>21.750000</td>\n",
       "      <td>2018</td>\n",
       "      <td>2</td>\n",
       "      <td>1</td>\n",
       "      <td>NaN</td>\n",
       "      <td>NaN</td>\n",
       "      <td>1</td>\n",
       "      <td>NaN</td>\n",
       "      <td>1.0</td>\n",
       "      <td>NaN</td>\n",
       "      <td>NaN</td>\n",
       "      <td>NaN</td>\n",
       "      <td>NaN</td>\n",
       "      <td>NaN</td>\n",
       "      <td>2018.0</td>\n",
       "      <td>4.0</td>\n",
       "      <td>2.0</td>\n",
       "      <td>7.0</td>\n",
       "      <td>47.0</td>\n",
       "      <td>471.0</td>\n",
       "      <td>7.0</td>\n",
       "      <td>61.0</td>\n",
       "      <td>615.0</td>\n",
       "      <td>6151.0</td>\n",
       "      <td>-1.0</td>\n",
       "      <td>3.0</td>\n",
       "      <td>1.0</td>\n",
       "      <td>NaN</td>\n",
       "      <td>8.0</td>\n",
       "      <td>815.0</td>\n",
       "      <td>1.0</td>\n",
       "      <td>11.0</td>\n",
       "      <td>0.0</td>\n",
       "      <td>20.0</td>\n",
       "      <td>1.0</td>\n",
       "      <td>1.0</td>\n",
       "      <td>2.0</td>\n",
       "      <td>NaN</td>\n",
       "      <td>NaN</td>\n",
       "      <td>2.0</td>\n",
       "      <td>1.0</td>\n",
       "      <td>1.0</td>\n",
       "      <td>NaN</td>\n",
       "      <td>2.0</td>\n",
       "      <td>...</td>\n",
       "      <td>2</td>\n",
       "      <td>NaN</td>\n",
       "      <td>1</td>\n",
       "      <td>3</td>\n",
       "      <td>4</td>\n",
       "      <td>1</td>\n",
       "      <td>NaN</td>\n",
       "      <td>10.0</td>\n",
       "      <td>1007.0</td>\n",
       "      <td>8</td>\n",
       "      <td>815</td>\n",
       "      <td>4</td>\n",
       "      <td>1.0</td>\n",
       "      <td>3</td>\n",
       "      <td>4</td>\n",
       "      <td>1.0</td>\n",
       "      <td>3</td>\n",
       "      <td>1</td>\n",
       "      <td>11</td>\n",
       "      <td>6</td>\n",
       "      <td>6</td>\n",
       "      <td>4</td>\n",
       "      <td>1</td>\n",
       "      <td>1.0</td>\n",
       "      <td>3.0</td>\n",
       "      <td>1008</td>\n",
       "      <td>NaN</td>\n",
       "      <td>2</td>\n",
       "      <td>NaN</td>\n",
       "      <td>2</td>\n",
       "      <td>NaN</td>\n",
       "      <td>6</td>\n",
       "      <td>1</td>\n",
       "      <td>1008.0</td>\n",
       "      <td>2</td>\n",
       "      <td>NaN</td>\n",
       "      <td>2</td>\n",
       "      <td>NaN</td>\n",
       "      <td>2</td>\n",
       "      <td>NaN</td>\n",
       "      <td>NaN</td>\n",
       "      <td>2</td>\n",
       "      <td>NaN</td>\n",
       "      <td>2</td>\n",
       "      <td>NaN</td>\n",
       "      <td>2</td>\n",
       "      <td>NaN</td>\n",
       "      <td>2</td>\n",
       "      <td>NaN</td>\n",
       "      <td>2</td>\n",
       "      <td>NaN</td>\n",
       "      <td>NaN</td>\n",
       "      <td>2</td>\n",
       "      <td>NaN</td>\n",
       "      <td>30</td>\n",
       "      <td>0</td>\n",
       "      <td>0</td>\n",
       "      <td>0</td>\n",
       "      <td>1.0</td>\n",
       "      <td>20.945343</td>\n",
       "    </tr>\n",
       "  </tbody>\n",
       "</table>\n",
       "<p>5 rows × 1270 columns</p>\n",
       "</div>"
      ],
      "text/plain": [
       "      pid  본분교  국공사립  학위과정유형  주야간  전공계열  ... G181R023 G181R024 G181R025 G181R026  G181R027     G181WT\n",
       "0  100013    1     3       3    2     1  ...      100        0        0        0       1.0  33.641815\n",
       "1  100018    1     3       3    1     1  ...       10        0        0       20       NaN  21.997140\n",
       "2  100019    1     3       3    1     1  ...       40        0        0       38       3.0  21.997140\n",
       "3  100034    1     3       3    1     1  ...      100       10        0       30       1.0  35.853258\n",
       "4  100036    1     3       3    1     1  ...       30        0        0        0       1.0  20.945343\n",
       "\n",
       "[5 rows x 1270 columns]"
      ]
     },
     "execution_count": 52,
     "metadata": {},
     "output_type": "execute_result"
    }
   ],
   "source": [
    "import pandas as pd\n",
    "\n",
    "df = pd.read_csv('../datasets/GP18__2019_컬럼명수정.csv')\n",
    "df.head()"
   ]
  },
  {
   "cell_type": "code",
   "execution_count": 53,
   "id": "e7f5a960",
   "metadata": {},
   "outputs": [
    {
     "name": "stdout",
     "output_type": "stream",
     "text": [
      " 1    17253\n",
      " 2      908\n",
      "-1        2\n",
      "Name: G181F010, dtype: int64\n",
      "0\n"
     ]
    }
   ],
   "source": [
    "# 입학 / 편입 여부 확인\n",
    "college_df1 = df['G181F010']\n",
    "print(college_df1.value_counts())\n",
    "print(college_df1.isnull().sum()) # 결측값은 없다\n",
    "\n",
    "# -1 값은 1로 변경 필요!!"
   ]
  },
  {
   "cell_type": "code",
   "execution_count": 54,
   "id": "5c09df82",
   "metadata": {},
   "outputs": [
    {
     "name": "stdout",
     "output_type": "stream",
     "text": [
      "2    9961\n",
      "1    8202\n",
      "Name: G181F034, dtype: int64\n",
      "0\n"
     ]
    }
   ],
   "source": [
    "# F13. 진로선택 및 취업준비 프로그램 1- 진로, 취업 관련 교과목_참여 여부\n",
    "college_df2 = df['G181F034']\n",
    "\n",
    "print(college_df2.value_counts())\n",
    "print(college_df2.isnull().sum()) # 결측값은 없다"
   ]
  },
  {
   "cell_type": "code",
   "execution_count": 55,
   "id": "535fe34a",
   "metadata": {},
   "outputs": [
    {
     "name": "stdout",
     "output_type": "stream",
     "text": [
      "2    13965\n",
      "1     4198\n",
      "Name: G181F036, dtype: int64\n",
      "0\n"
     ]
    }
   ],
   "source": [
    "# F13. 진로선택 및 취업준비 프로그램 2- 직장체험프로그램(인턴 포함)_참여 여부\n",
    "college_df3 = df['G181F036']\n",
    "\n",
    "print(college_df3.value_counts())\n",
    "print(college_df3.isnull().sum()) # 결측값은 없다"
   ]
  },
  {
   "cell_type": "code",
   "execution_count": 56,
   "id": "7f000150",
   "metadata": {},
   "outputs": [
    {
     "name": "stdout",
     "output_type": "stream",
     "text": [
      "2    10218\n",
      "1     7945\n",
      "Name: G181F037, dtype: int64\n",
      "0\n"
     ]
    }
   ],
   "source": [
    "# F13. 진로선택 및 취업준비 프로그램 3- 인적성 검사 등 직업심리검사_참여 여부\n",
    "\n",
    "college_df4 = df['G181F037']\n",
    "\n",
    "print(college_df4.value_counts())\n",
    "print(college_df4.isnull().sum()) # 결측값은 없다"
   ]
  },
  {
   "cell_type": "code",
   "execution_count": 57,
   "id": "18470c53",
   "metadata": {},
   "outputs": [
    {
     "name": "stdout",
     "output_type": "stream",
     "text": [
      "2    13427\n",
      "1     4736\n",
      "Name: G181F038, dtype: int64\n",
      "0\n"
     ]
    }
   ],
   "source": [
    "# F13. 진로선택 및 취업준비 프로그램 4- 교내 취업박람회_참여 여부\n",
    "\n",
    "college_df5 = df['G181F038']\n",
    "\n",
    "print(college_df5.value_counts())\n",
    "print(college_df5.isnull().sum()) # 결측값은 없다"
   ]
  },
  {
   "cell_type": "code",
   "execution_count": 58,
   "id": "4032eff5",
   "metadata": {},
   "outputs": [
    {
     "name": "stdout",
     "output_type": "stream",
     "text": [
      "2    13116\n",
      "1     5047\n",
      "Name: G181F039, dtype: int64\n",
      "0\n"
     ]
    }
   ],
   "source": [
    "# F13. 진로선택 및 취업준비 프로그램 5- 진로 관련 개인 및 집단상담 프로그램_참여 여부\n",
    "\n",
    "college_df6 = df['G181F039']\n",
    "\n",
    "print(college_df6.value_counts())\n",
    "print(college_df6.isnull().sum()) # 결측값은 없다"
   ]
  },
  {
   "cell_type": "code",
   "execution_count": 59,
   "id": "ff68fef6",
   "metadata": {},
   "outputs": [
    {
     "name": "stdout",
     "output_type": "stream",
     "text": [
      "2    12635\n",
      "1     5528\n",
      "Name: G181F040, dtype: int64\n",
      "0\n"
     ]
    }
   ],
   "source": [
    "# F13. 진로선택 및 취업준비 프로그램 6- 면접기술, 이력서 작성 프로그램_참여 여부\n",
    "\n",
    "college_df7 = df['G181F040']\n",
    "\n",
    "print(college_df7.value_counts())\n",
    "print(college_df7.isnull().sum()) # 결측값은 없다"
   ]
  },
  {
   "cell_type": "code",
   "execution_count": 60,
   "id": "c96ec891",
   "metadata": {},
   "outputs": [
    {
     "name": "stdout",
     "output_type": "stream",
     "text": [
      "2    16313\n",
      "1     1850\n",
      "Name: G181F041, dtype: int64\n",
      "0\n"
     ]
    }
   ],
   "source": [
    "# F13. 진로선택 및 취업준비 프로그램 7- 취업캠프_참여 여부\n",
    "\n",
    "college_df8 = df['G181F041']\n",
    "\n",
    "print(college_df8.value_counts())\n",
    "print(college_df8.isnull().sum()) # 결측값은 없다"
   ]
  },
  {
   "cell_type": "code",
   "execution_count": 61,
   "id": "83e8c4e6",
   "metadata": {},
   "outputs": [
    {
     "name": "stdout",
     "output_type": "stream",
     "text": [
      "2    13789\n",
      "1     4374\n",
      "Name: G181F042, dtype: int64\n",
      "0\n"
     ]
    }
   ],
   "source": [
    "# F13. 진로선택 및 취업준비 프로그램 8- 기업채용설명회_참여 여부\n",
    "\n",
    "college_df9 = df['G181F042']\n",
    "\n",
    "print(college_df9.value_counts())\n",
    "print(college_df9.isnull().sum()) # 결측값은 없다"
   ]
  },
  {
   "cell_type": "code",
   "execution_count": 62,
   "id": "9a22f05d",
   "metadata": {},
   "outputs": [
    {
     "name": "stdout",
     "output_type": "stream",
     "text": [
      "2    18127\n",
      "1       36\n",
      "Name: G181F043, dtype: int64\n",
      "0\n"
     ]
    }
   ],
   "source": [
    "# F13. 진로선택 및 취업준비 프로그램 9- 기타_참여 여부\n",
    "\n",
    "college_df10 = df['G181F043']\n",
    "\n",
    "print(college_df10.value_counts())\n",
    "print(college_df10.isnull().sum()) # 결측값은 없다"
   ]
  },
  {
   "cell_type": "code",
   "execution_count": 63,
   "id": "a8f38145",
   "metadata": {},
   "outputs": [
    {
     "name": "stdout",
     "output_type": "stream",
     "text": [
      "G181F073  G181F074\n",
      "3         3.8         2060\n",
      "          3.5         1818\n",
      "          4.0         1344\n",
      "          3.7         1246\n",
      "          3.9         1231\n",
      "                      ... \n",
      "2         1.5            1\n",
      "          2.2            1\n",
      "3         1.9            1\n",
      "          1.7            1\n",
      "1         1.0            1\n",
      "Length: 77, dtype: int64\n",
      "G181F073     0\n",
      "G181F074    66\n",
      "dtype: int64\n"
     ]
    }
   ],
   "source": [
    "# G181F073\n",
    "# G181F074\n",
    "\n",
    "# 평균 학점 \n",
    "\n",
    "college_df11 = df[['G181F073' , 'G181F074']]\n",
    "\n",
    "print(college_df11.value_counts())\n",
    "print(college_df11.isnull().sum()) # 평균학점 미기재 66건\n",
    "\n"
   ]
  },
  {
   "cell_type": "code",
   "execution_count": 64,
   "id": "197691c4",
   "metadata": {},
   "outputs": [
    {
     "name": "stdout",
     "output_type": "stream",
     "text": [
      "2    13299\n",
      "1     4864\n",
      "Name: G181F086, dtype: int64\n",
      "0\n"
     ]
    }
   ],
   "source": [
    "# 학자금 대출 유무\n",
    "# G181F101\n",
    "\n",
    "college_df12 = df['G181F086']\n",
    "\n",
    "print(college_df12.value_counts())\n",
    "print(college_df12.isnull().sum()) # 결측치 없음"
   ]
  },
  {
   "cell_type": "code",
   "execution_count": 65,
   "id": "61a6790f",
   "metadata": {},
   "outputs": [
    {
     "name": "stdout",
     "output_type": "stream",
     "text": [
      "1000.0    564\n",
      "2000.0    424\n",
      "300.0     363\n",
      "500.0     307\n",
      "800.0     231\n",
      "         ... \n",
      "660.0       1\n",
      "475.0       1\n",
      "1673.0      1\n",
      "4350.0      1\n",
      "5800.0      1\n",
      "Name: G181F089, Length: 194, dtype: int64\n"
     ]
    }
   ],
   "source": [
    "# 학자금 금액\n",
    "\n",
    "college_df13 = df['G181F089']\n",
    "print(college_df13.value_counts())"
   ]
  },
  {
   "cell_type": "code",
   "execution_count": 66,
   "id": "7aef69e8",
   "metadata": {},
   "outputs": [
    {
     "name": "stdout",
     "output_type": "stream",
     "text": [
      "G181F086  G181F089\n",
      "1         1000.0      564\n",
      "          2000.0      424\n",
      "          300.0       363\n",
      "          500.0       307\n",
      "          800.0       231\n",
      "                     ... \n",
      "          610.0         1\n",
      "          559.0         1\n",
      "          520.0         1\n",
      "          516.0         1\n",
      "          18231.0       1\n",
      "Length: 194, dtype: int64\n"
     ]
    }
   ],
   "source": [
    "# 학자금 대출 유무에 따른 금액 확인\n",
    "\n",
    "college_df14 = df[['G181F086','G181F089']]\n",
    "print(college_df14.value_counts())\n"
   ]
  },
  {
   "cell_type": "code",
   "execution_count": 67,
   "id": "f86b478e",
   "metadata": {},
   "outputs": [
    {
     "name": "stdout",
     "output_type": "stream",
     "text": [
      "2    15361\n",
      "1     2802\n",
      "Name: G181G001, dtype: int64\n",
      "0\n"
     ]
    }
   ],
   "source": [
    "# 대학원 진학 유무\n",
    "\n",
    "college_df15 = df['G181G001']\n",
    "print(college_df15.value_counts())\n",
    "\n",
    "print(college_df15.isnull().sum())"
   ]
  },
  {
   "cell_type": "code",
   "execution_count": 68,
   "id": "3d584795",
   "metadata": {},
   "outputs": [
    {
     "name": "stdout",
     "output_type": "stream",
     "text": [
      "1.0    1874\n",
      "3.0     251\n",
      "4.0      14\n",
      "2.0       2\n",
      "Name: G181G014, dtype: int64\n",
      "16022\n"
     ]
    }
   ],
   "source": [
    "# 첫번째로 진학한 대학 구분\n",
    "# G181G014\n",
    "\n",
    "# 1 : 석사\n",
    "# 2 : 박사\n",
    "# 3 : 석박사\n",
    "# 4: 기타 -> 제외하기\n",
    "\n",
    "college_df16 = df['G181G014']\n",
    "\n",
    "print(college_df16.value_counts())\n",
    "\n",
    "print(college_df16.isnull().sum())\n"
   ]
  },
  {
   "cell_type": "code",
   "execution_count": 69,
   "id": "8ccc07d8",
   "metadata": {},
   "outputs": [
    {
     "name": "stdout",
     "output_type": "stream",
     "text": [
      "G181G001  G181G014  G181G019\n",
      "1         1.0       1.0         1683\n",
      "          3.0       1.0          244\n",
      "          1.0       2.0          191\n",
      "          4.0       1.0            9\n",
      "          3.0       2.0            7\n",
      "          4.0       2.0            5\n",
      "          2.0       1.0            2\n",
      "dtype: int64\n",
      "G181G001        0\n",
      "G181G014    16022\n",
      "G181G019    15361\n",
      "dtype: int64\n"
     ]
    }
   ],
   "source": [
    "# 대학원 진학 여부 -> 구분 확인하기 -> 현재도 다니고 있는지 확인\n",
    "\n",
    "# G181G019 : 현재 재학중 여부 1: 재학중 , 2: 졸업함\n",
    "\n",
    "college_df17 = df[['G181G001' , 'G181G014' , 'G181G019']]\n",
    "\n",
    "print(college_df17.value_counts())\n",
    "print(college_df17.isnull().sum())\n",
    "\n",
    "# 1 -> 1 -> 1 : 현재 대학원(석사) 재학중 -> 미취업자에서 제외\n",
    "# 1 -> 3 -> 1 : 현재 대학원(석박사 통합) 재학중 -> 미취업자에서 제외\n",
    "# "
   ]
  },
  {
   "cell_type": "code",
   "execution_count": 70,
   "id": "6e3397dc",
   "metadata": {},
   "outputs": [
    {
     "name": "stdout",
     "output_type": "stream",
     "text": [
      "G181G033  G181G038\n",
      "1.0       1.0         18\n",
      "2.0       1.0         17\n",
      "1.0       2.0          3\n",
      "3.0       1.0          2\n",
      "dtype: int64\n",
      "G181G033    18123\n",
      "G181G038    18114\n",
      "dtype: int64\n"
     ]
    }
   ],
   "source": [
    "# 두번째 대학원까지 확인\n",
    "\n",
    "# G181G033 : 두번째 대학원 학위\n",
    "# 1 : 석사\n",
    "# 2 : 박사\n",
    "# 3 : 석박사\n",
    "# 4: 기타 -> 제외하기\n",
    "\n",
    "# G181G038 : 현재 재학중 여부 1: 재학중 , 2: 졸업함\n",
    "\n",
    "college_df18 = df[['G181G033' , 'G181G038']]\n",
    "\n",
    "print(college_df18.value_counts())\n",
    "print(college_df18.isnull().sum())\n"
   ]
  },
  {
   "cell_type": "code",
   "execution_count": 71,
   "id": "53baa6c0",
   "metadata": {},
   "outputs": [
    {
     "name": "stdout",
     "output_type": "stream",
     "text": [
      "G181G001  G181G014  G181G019  G181G033  G181G038\n",
      "1         1.0       2.0       2.0       1.0         17\n",
      "                              1.0       1.0          7\n",
      "                    1.0       1.0       2.0          1\n",
      "                    2.0       1.0       2.0          1\n",
      "                              3.0       1.0          1\n",
      "          3.0       2.0       1.0       1.0          1\n",
      "                              3.0       1.0          1\n",
      "dtype: int64\n"
     ]
    }
   ],
   "source": [
    "# 전체적으로 확인\n",
    "\n",
    "college_df19 = df[[ 'G181G001' , 'G181G014' , 'G181G019' , 'G181G033' , 'G181G038' ]]\n",
    "\n",
    "print(college_df19.value_counts())\n",
    "\n",
    "\n",
    "# 1 -> 1 (석사) -> 2(졸업함) -> 2(박사) -> 1 (재학중)  ==> 박사중 재학중 (미취업자에서 제외)\n",
    "\n",
    "# 다시 확인\n",
    "\n"
   ]
  },
  {
   "cell_type": "code",
   "execution_count": 74,
   "id": "cce84061",
   "metadata": {},
   "outputs": [
    {
     "name": "stdout",
     "output_type": "stream",
     "text": [
      "G181F102  G181F103  G181F104\n",
      "1.0       4.0       4.0         3573\n",
      "2.0       6.0       4.0         1372\n",
      "1.0       6.0       4.0          563\n",
      "          2.0       6.0          364\n",
      "2.0       5.0       4.0          354\n",
      "                                ... \n",
      "3.0       4.0       6.0            1\n",
      "          3.0       7.0            1\n",
      "                    4.0            1\n",
      "2.0       14.0      2.0            1\n",
      "8.0       8.0       3.0            1\n",
      "Length: 322, dtype: int64\n"
     ]
    }
   ],
   "source": [
    "# 휴학 횟수 및 학기 수 확인\n",
    "\n",
    "college_df20 = df[['G181F102', 'G181F103' , 'G181F104']]\n",
    "\n",
    "print(college_df20.value_counts())"
   ]
  },
  {
   "cell_type": "code",
   "execution_count": 84,
   "id": "3eb55446",
   "metadata": {},
   "outputs": [
    {
     "data": {
      "text/html": [
       "<div>\n",
       "<style scoped>\n",
       "    .dataframe tbody tr th:only-of-type {\n",
       "        vertical-align: middle;\n",
       "    }\n",
       "\n",
       "    .dataframe tbody tr th {\n",
       "        vertical-align: top;\n",
       "    }\n",
       "\n",
       "    .dataframe thead th {\n",
       "        text-align: right;\n",
       "    }\n",
       "</style>\n",
       "<table border=\"1\" class=\"dataframe\">\n",
       "  <thead>\n",
       "    <tr style=\"text-align: right;\">\n",
       "      <th></th>\n",
       "      <th>G181F010</th>\n",
       "      <th>G181F034</th>\n",
       "      <th>G181F036</th>\n",
       "      <th>G181F037</th>\n",
       "      <th>G181F038</th>\n",
       "      <th>G181F039</th>\n",
       "      <th>G181F040</th>\n",
       "      <th>G181F041</th>\n",
       "      <th>G181F042</th>\n",
       "      <th>G181F043</th>\n",
       "      <th>G181F073</th>\n",
       "      <th>G181F074</th>\n",
       "      <th>G181F089</th>\n",
       "      <th>G181F101</th>\n",
       "      <th>G181F102</th>\n",
       "      <th>G181F103</th>\n",
       "      <th>G181F104</th>\n",
       "      <th>G181F108</th>\n",
       "      <th>G181F112</th>\n",
       "      <th>G181F116</th>\n",
       "      <th>G181F120</th>\n",
       "      <th>G181G001</th>\n",
       "      <th>G181G014</th>\n",
       "      <th>G181G019</th>\n",
       "      <th>G181G033</th>\n",
       "      <th>G181G038</th>\n",
       "    </tr>\n",
       "  </thead>\n",
       "  <tbody>\n",
       "    <tr>\n",
       "      <th>0</th>\n",
       "      <td>1</td>\n",
       "      <td>1</td>\n",
       "      <td>2</td>\n",
       "      <td>2</td>\n",
       "      <td>2</td>\n",
       "      <td>1</td>\n",
       "      <td>2</td>\n",
       "      <td>1</td>\n",
       "      <td>2</td>\n",
       "      <td>2</td>\n",
       "      <td>3</td>\n",
       "      <td>3.3</td>\n",
       "      <td>NaN</td>\n",
       "      <td>2</td>\n",
       "      <td>NaN</td>\n",
       "      <td>NaN</td>\n",
       "      <td>NaN</td>\n",
       "      <td>NaN</td>\n",
       "      <td>NaN</td>\n",
       "      <td>NaN</td>\n",
       "      <td>NaN</td>\n",
       "      <td>2</td>\n",
       "      <td>NaN</td>\n",
       "      <td>NaN</td>\n",
       "      <td>NaN</td>\n",
       "      <td>NaN</td>\n",
       "    </tr>\n",
       "    <tr>\n",
       "      <th>1</th>\n",
       "      <td>1</td>\n",
       "      <td>1</td>\n",
       "      <td>2</td>\n",
       "      <td>1</td>\n",
       "      <td>1</td>\n",
       "      <td>1</td>\n",
       "      <td>1</td>\n",
       "      <td>1</td>\n",
       "      <td>1</td>\n",
       "      <td>2</td>\n",
       "      <td>3</td>\n",
       "      <td>3.0</td>\n",
       "      <td>NaN</td>\n",
       "      <td>2</td>\n",
       "      <td>NaN</td>\n",
       "      <td>NaN</td>\n",
       "      <td>NaN</td>\n",
       "      <td>NaN</td>\n",
       "      <td>NaN</td>\n",
       "      <td>NaN</td>\n",
       "      <td>NaN</td>\n",
       "      <td>2</td>\n",
       "      <td>NaN</td>\n",
       "      <td>NaN</td>\n",
       "      <td>NaN</td>\n",
       "      <td>NaN</td>\n",
       "    </tr>\n",
       "    <tr>\n",
       "      <th>2</th>\n",
       "      <td>1</td>\n",
       "      <td>1</td>\n",
       "      <td>2</td>\n",
       "      <td>2</td>\n",
       "      <td>2</td>\n",
       "      <td>2</td>\n",
       "      <td>2</td>\n",
       "      <td>2</td>\n",
       "      <td>1</td>\n",
       "      <td>2</td>\n",
       "      <td>3</td>\n",
       "      <td>4.3</td>\n",
       "      <td>NaN</td>\n",
       "      <td>2</td>\n",
       "      <td>NaN</td>\n",
       "      <td>NaN</td>\n",
       "      <td>NaN</td>\n",
       "      <td>NaN</td>\n",
       "      <td>NaN</td>\n",
       "      <td>NaN</td>\n",
       "      <td>NaN</td>\n",
       "      <td>1</td>\n",
       "      <td>NaN</td>\n",
       "      <td>1.0</td>\n",
       "      <td>NaN</td>\n",
       "      <td>NaN</td>\n",
       "    </tr>\n",
       "    <tr>\n",
       "      <th>3</th>\n",
       "      <td>1</td>\n",
       "      <td>2</td>\n",
       "      <td>2</td>\n",
       "      <td>2</td>\n",
       "      <td>2</td>\n",
       "      <td>2</td>\n",
       "      <td>2</td>\n",
       "      <td>2</td>\n",
       "      <td>1</td>\n",
       "      <td>2</td>\n",
       "      <td>1</td>\n",
       "      <td>3.8</td>\n",
       "      <td>NaN</td>\n",
       "      <td>1</td>\n",
       "      <td>1.0</td>\n",
       "      <td>4.0</td>\n",
       "      <td>1.0</td>\n",
       "      <td>NaN</td>\n",
       "      <td>NaN</td>\n",
       "      <td>NaN</td>\n",
       "      <td>NaN</td>\n",
       "      <td>2</td>\n",
       "      <td>NaN</td>\n",
       "      <td>NaN</td>\n",
       "      <td>NaN</td>\n",
       "      <td>NaN</td>\n",
       "    </tr>\n",
       "    <tr>\n",
       "      <th>4</th>\n",
       "      <td>1</td>\n",
       "      <td>2</td>\n",
       "      <td>1</td>\n",
       "      <td>2</td>\n",
       "      <td>1</td>\n",
       "      <td>2</td>\n",
       "      <td>1</td>\n",
       "      <td>2</td>\n",
       "      <td>2</td>\n",
       "      <td>2</td>\n",
       "      <td>3</td>\n",
       "      <td>4.1</td>\n",
       "      <td>NaN</td>\n",
       "      <td>2</td>\n",
       "      <td>NaN</td>\n",
       "      <td>NaN</td>\n",
       "      <td>NaN</td>\n",
       "      <td>NaN</td>\n",
       "      <td>NaN</td>\n",
       "      <td>NaN</td>\n",
       "      <td>NaN</td>\n",
       "      <td>2</td>\n",
       "      <td>NaN</td>\n",
       "      <td>NaN</td>\n",
       "      <td>NaN</td>\n",
       "      <td>NaN</td>\n",
       "    </tr>\n",
       "  </tbody>\n",
       "</table>\n",
       "</div>"
      ],
      "text/plain": [
       "   G181F010  G181F034  G181F036  G181F037  G181F038  ...  G181G001  G181G014  G181G019  G181G033  G181G038\n",
       "0         1         1         2         2         2  ...         2       NaN       NaN       NaN       NaN\n",
       "1         1         1         2         1         1  ...         2       NaN       NaN       NaN       NaN\n",
       "2         1         1         2         2         2  ...         1       NaN       1.0       NaN       NaN\n",
       "3         1         2         2         2         2  ...         2       NaN       NaN       NaN       NaN\n",
       "4         1         2         1         2         1  ...         2       NaN       NaN       NaN       NaN\n",
       "\n",
       "[5 rows x 26 columns]"
      ]
     },
     "execution_count": 84,
     "metadata": {},
     "output_type": "execute_result"
    }
   ],
   "source": [
    "##################\n",
    "##################################필요 컬럼 추출하기 및 변수 변경 ###############################\n",
    "\n",
    "college_df = df[['G181F010', 'G181F034', 'G181F036', 'G181F037', 'G181F038' , 'G181F039' , 'G181F040' ,'G181F041' , 'G181F042', \n",
    "                 'G181F043' , 'G181F073' , 'G181F074', 'G181F089' , 'G181F101' , 'G181F102' , 'G181F103' , 'G181F104' , 'G181F108' ,\n",
    "                 'G181F112' , 'G181F116' , 'G181F120' , 'G181G001' , 'G181G014' , 'G181G019' , 'G181G033' , 'G181G038']]\n",
    "\n",
    "college_df.head()"
   ]
  },
  {
   "cell_type": "code",
   "execution_count": 85,
   "id": "0b80a212",
   "metadata": {},
   "outputs": [
    {
     "name": "stdout",
     "output_type": "stream",
     "text": [
      " 1    17253\n",
      " 2      908\n",
      "-1        2\n",
      "Name: G181F010, dtype: int64\n"
     ]
    },
    {
     "name": "stderr",
     "output_type": "stream",
     "text": [
      "C:\\Users\\hspar\\anaconda3\\lib\\site-packages\\pandas\\core\\frame.py:4441: SettingWithCopyWarning: \n",
      "A value is trying to be set on a copy of a slice from a DataFrame\n",
      "\n",
      "See the caveats in the documentation: https://pandas.pydata.org/pandas-docs/stable/user_guide/indexing.html#returning-a-view-versus-a-copy\n",
      "  return super().rename(\n"
     ]
    },
    {
     "data": {
      "text/html": [
       "<div>\n",
       "<style scoped>\n",
       "    .dataframe tbody tr th:only-of-type {\n",
       "        vertical-align: middle;\n",
       "    }\n",
       "\n",
       "    .dataframe tbody tr th {\n",
       "        vertical-align: top;\n",
       "    }\n",
       "\n",
       "    .dataframe thead th {\n",
       "        text-align: right;\n",
       "    }\n",
       "</style>\n",
       "<table border=\"1\" class=\"dataframe\">\n",
       "  <thead>\n",
       "    <tr style=\"text-align: right;\">\n",
       "      <th></th>\n",
       "      <th>대학 입학 구분</th>\n",
       "      <th>G181F034</th>\n",
       "      <th>G181F036</th>\n",
       "      <th>G181F037</th>\n",
       "      <th>G181F038</th>\n",
       "      <th>G181F039</th>\n",
       "      <th>G181F040</th>\n",
       "      <th>G181F041</th>\n",
       "      <th>G181F042</th>\n",
       "      <th>G181F043</th>\n",
       "      <th>G181F073</th>\n",
       "      <th>G181F074</th>\n",
       "      <th>G181F089</th>\n",
       "      <th>G181F101</th>\n",
       "      <th>G181F102</th>\n",
       "      <th>G181F103</th>\n",
       "      <th>G181F104</th>\n",
       "      <th>G181F108</th>\n",
       "      <th>G181F112</th>\n",
       "      <th>G181F116</th>\n",
       "      <th>G181F120</th>\n",
       "      <th>G181G001</th>\n",
       "      <th>G181G014</th>\n",
       "      <th>G181G019</th>\n",
       "      <th>G181G033</th>\n",
       "      <th>G181G038</th>\n",
       "    </tr>\n",
       "  </thead>\n",
       "  <tbody>\n",
       "    <tr>\n",
       "      <th>0</th>\n",
       "      <td>1</td>\n",
       "      <td>1</td>\n",
       "      <td>2</td>\n",
       "      <td>2</td>\n",
       "      <td>2</td>\n",
       "      <td>1</td>\n",
       "      <td>2</td>\n",
       "      <td>1</td>\n",
       "      <td>2</td>\n",
       "      <td>2</td>\n",
       "      <td>3</td>\n",
       "      <td>3.3</td>\n",
       "      <td>NaN</td>\n",
       "      <td>2</td>\n",
       "      <td>NaN</td>\n",
       "      <td>NaN</td>\n",
       "      <td>NaN</td>\n",
       "      <td>NaN</td>\n",
       "      <td>NaN</td>\n",
       "      <td>NaN</td>\n",
       "      <td>NaN</td>\n",
       "      <td>2</td>\n",
       "      <td>NaN</td>\n",
       "      <td>NaN</td>\n",
       "      <td>NaN</td>\n",
       "      <td>NaN</td>\n",
       "    </tr>\n",
       "    <tr>\n",
       "      <th>1</th>\n",
       "      <td>1</td>\n",
       "      <td>1</td>\n",
       "      <td>2</td>\n",
       "      <td>1</td>\n",
       "      <td>1</td>\n",
       "      <td>1</td>\n",
       "      <td>1</td>\n",
       "      <td>1</td>\n",
       "      <td>1</td>\n",
       "      <td>2</td>\n",
       "      <td>3</td>\n",
       "      <td>3.0</td>\n",
       "      <td>NaN</td>\n",
       "      <td>2</td>\n",
       "      <td>NaN</td>\n",
       "      <td>NaN</td>\n",
       "      <td>NaN</td>\n",
       "      <td>NaN</td>\n",
       "      <td>NaN</td>\n",
       "      <td>NaN</td>\n",
       "      <td>NaN</td>\n",
       "      <td>2</td>\n",
       "      <td>NaN</td>\n",
       "      <td>NaN</td>\n",
       "      <td>NaN</td>\n",
       "      <td>NaN</td>\n",
       "    </tr>\n",
       "    <tr>\n",
       "      <th>2</th>\n",
       "      <td>1</td>\n",
       "      <td>1</td>\n",
       "      <td>2</td>\n",
       "      <td>2</td>\n",
       "      <td>2</td>\n",
       "      <td>2</td>\n",
       "      <td>2</td>\n",
       "      <td>2</td>\n",
       "      <td>1</td>\n",
       "      <td>2</td>\n",
       "      <td>3</td>\n",
       "      <td>4.3</td>\n",
       "      <td>NaN</td>\n",
       "      <td>2</td>\n",
       "      <td>NaN</td>\n",
       "      <td>NaN</td>\n",
       "      <td>NaN</td>\n",
       "      <td>NaN</td>\n",
       "      <td>NaN</td>\n",
       "      <td>NaN</td>\n",
       "      <td>NaN</td>\n",
       "      <td>1</td>\n",
       "      <td>NaN</td>\n",
       "      <td>1.0</td>\n",
       "      <td>NaN</td>\n",
       "      <td>NaN</td>\n",
       "    </tr>\n",
       "    <tr>\n",
       "      <th>3</th>\n",
       "      <td>1</td>\n",
       "      <td>2</td>\n",
       "      <td>2</td>\n",
       "      <td>2</td>\n",
       "      <td>2</td>\n",
       "      <td>2</td>\n",
       "      <td>2</td>\n",
       "      <td>2</td>\n",
       "      <td>1</td>\n",
       "      <td>2</td>\n",
       "      <td>1</td>\n",
       "      <td>3.8</td>\n",
       "      <td>NaN</td>\n",
       "      <td>1</td>\n",
       "      <td>1.0</td>\n",
       "      <td>4.0</td>\n",
       "      <td>1.0</td>\n",
       "      <td>NaN</td>\n",
       "      <td>NaN</td>\n",
       "      <td>NaN</td>\n",
       "      <td>NaN</td>\n",
       "      <td>2</td>\n",
       "      <td>NaN</td>\n",
       "      <td>NaN</td>\n",
       "      <td>NaN</td>\n",
       "      <td>NaN</td>\n",
       "    </tr>\n",
       "    <tr>\n",
       "      <th>4</th>\n",
       "      <td>1</td>\n",
       "      <td>2</td>\n",
       "      <td>1</td>\n",
       "      <td>2</td>\n",
       "      <td>1</td>\n",
       "      <td>2</td>\n",
       "      <td>1</td>\n",
       "      <td>2</td>\n",
       "      <td>2</td>\n",
       "      <td>2</td>\n",
       "      <td>3</td>\n",
       "      <td>4.1</td>\n",
       "      <td>NaN</td>\n",
       "      <td>2</td>\n",
       "      <td>NaN</td>\n",
       "      <td>NaN</td>\n",
       "      <td>NaN</td>\n",
       "      <td>NaN</td>\n",
       "      <td>NaN</td>\n",
       "      <td>NaN</td>\n",
       "      <td>NaN</td>\n",
       "      <td>2</td>\n",
       "      <td>NaN</td>\n",
       "      <td>NaN</td>\n",
       "      <td>NaN</td>\n",
       "      <td>NaN</td>\n",
       "    </tr>\n",
       "  </tbody>\n",
       "</table>\n",
       "</div>"
      ],
      "text/plain": [
       "   대학 입학 구분  G181F034  G181F036  G181F037  G181F038  ...  G181G001  G181G014  G181G019  G181G033  G181G038\n",
       "0         1         1         2         2         2  ...         2       NaN       NaN       NaN       NaN\n",
       "1         1         1         2         1         1  ...         2       NaN       NaN       NaN       NaN\n",
       "2         1         1         2         2         2  ...         1       NaN       1.0       NaN       NaN\n",
       "3         1         2         2         2         2  ...         2       NaN       NaN       NaN       NaN\n",
       "4         1         2         1         2         1  ...         2       NaN       NaN       NaN       NaN\n",
       "\n",
       "[5 rows x 26 columns]"
      ]
     },
     "execution_count": 85,
     "metadata": {},
     "output_type": "execute_result"
    }
   ],
   "source": [
    "print(college_df['G181F010'].value_counts())\n",
    "\n",
    "college_df.rename(columns={'G181F010' : '대학 입학 구분'} , inplace=True)\n",
    "college_df.head()"
   ]
  },
  {
   "cell_type": "code",
   "execution_count": 91,
   "id": "a355b0b2",
   "metadata": {},
   "outputs": [
    {
     "name": "stderr",
     "output_type": "stream",
     "text": [
      "<ipython-input-91-c02859920714>:1: SettingWithCopyWarning: \n",
      "A value is trying to be set on a copy of a slice from a DataFrame.\n",
      "Try using .loc[row_indexer,col_indexer] = value instead\n",
      "\n",
      "See the caveats in the documentation: https://pandas.pydata.org/pandas-docs/stable/user_guide/indexing.html#returning-a-view-versus-a-copy\n",
      "  college_df['대학 입학 구분'] = college_df['대학 입학 구분'].replace(-1, 1)\n"
     ]
    },
    {
     "data": {
      "text/plain": [
       "1    17255\n",
       "2      908\n",
       "Name: 대학 입학 구분, dtype: int64"
      ]
     },
     "execution_count": 91,
     "metadata": {},
     "output_type": "execute_result"
    }
   ],
   "source": [
    "college_df['대학 입학 구분'] = college_df['대학 입학 구분'].replace(-1, 1)\n",
    "college_df['대학 입학 구분'].value_counts()\n"
   ]
  },
  {
   "cell_type": "code",
   "execution_count": 108,
   "id": "0784b2ae",
   "metadata": {},
   "outputs": [
    {
     "name": "stdout",
     "output_type": "stream",
     "text": [
      "0    9961\n",
      "1    8202\n",
      "Name: G181F034, dtype: int64\n",
      "0\n"
     ]
    },
    {
     "name": "stderr",
     "output_type": "stream",
     "text": [
      "<ipython-input-108-e1ed43dcdca5>:8: SettingWithCopyWarning: \n",
      "A value is trying to be set on a copy of a slice from a DataFrame.\n",
      "Try using .loc[row_indexer,col_indexer] = value instead\n",
      "\n",
      "See the caveats in the documentation: https://pandas.pydata.org/pandas-docs/stable/user_guide/indexing.html#returning-a-view-versus-a-copy\n",
      "  college_df['G181F034'] = college_df['G181F034'].replace(2, 0)\n"
     ]
    }
   ],
   "source": [
    "# 경험 없음(2)를 0 값으로 변경해서 전체적으로 다 합하여 경험횟수 출력\n",
    "\n",
    "\n",
    "\n",
    "college_df['G181F034'].isnull().sum()\n",
    "college_df['G181F034'].value_counts()\n",
    "\n",
    "college_df['G181F034'] = college_df['G181F034'].replace(2, 0)\n",
    "\n",
    "print(college_df['G181F034'].value_counts())\n",
    "\n",
    "print(college_df['G181F034'].isnull().sum())"
   ]
  },
  {
   "cell_type": "code",
   "execution_count": 109,
   "id": "d4f8f6a4",
   "metadata": {},
   "outputs": [
    {
     "name": "stdout",
     "output_type": "stream",
     "text": [
      "0\n",
      "0    13965\n",
      "1     4198\n",
      "Name: G181F036, dtype: int64\n",
      "0\n"
     ]
    },
    {
     "name": "stderr",
     "output_type": "stream",
     "text": [
      "<ipython-input-109-19dfac4897e8>:4: SettingWithCopyWarning: \n",
      "A value is trying to be set on a copy of a slice from a DataFrame.\n",
      "Try using .loc[row_indexer,col_indexer] = value instead\n",
      "\n",
      "See the caveats in the documentation: https://pandas.pydata.org/pandas-docs/stable/user_guide/indexing.html#returning-a-view-versus-a-copy\n",
      "  college_df['G181F036'] = college_df['G181F036'].replace(2, 0)\n"
     ]
    },
    {
     "data": {
      "text/plain": [
       "0    13965\n",
       "1     4198\n",
       "Name: G181F036, dtype: int64"
      ]
     },
     "execution_count": 109,
     "metadata": {},
     "output_type": "execute_result"
    }
   ],
   "source": [
    "print(college_df['G181F036'].isnull().sum())\n",
    "print(college_df['G181F036'].value_counts())\n",
    "\n",
    "college_df['G181F036'] = college_df['G181F036'].replace(2, 0)\n",
    "\n",
    "\n",
    "print(college_df['G181F036'].isnull().sum())\n",
    "college_df['G181F036'].value_counts()"
   ]
  },
  {
   "cell_type": "code",
   "execution_count": 110,
   "id": "3df24912",
   "metadata": {},
   "outputs": [
    {
     "name": "stdout",
     "output_type": "stream",
     "text": [
      "0\n",
      "0    10218\n",
      "1     7945\n",
      "Name: G181F037, dtype: int64\n",
      "0\n"
     ]
    },
    {
     "name": "stderr",
     "output_type": "stream",
     "text": [
      "<ipython-input-110-596978a5125f>:4: SettingWithCopyWarning: \n",
      "A value is trying to be set on a copy of a slice from a DataFrame.\n",
      "Try using .loc[row_indexer,col_indexer] = value instead\n",
      "\n",
      "See the caveats in the documentation: https://pandas.pydata.org/pandas-docs/stable/user_guide/indexing.html#returning-a-view-versus-a-copy\n",
      "  college_df['G181F037'] = college_df['G181F037'].replace(2, 0)\n"
     ]
    },
    {
     "data": {
      "text/plain": [
       "0    10218\n",
       "1     7945\n",
       "Name: G181F037, dtype: int64"
      ]
     },
     "execution_count": 110,
     "metadata": {},
     "output_type": "execute_result"
    }
   ],
   "source": [
    "print(college_df['G181F037'].isnull().sum())\n",
    "print(college_df['G181F037'].value_counts())\n",
    "\n",
    "college_df['G181F037'] = college_df['G181F037'].replace(2, 0)\n",
    "\n",
    "\n",
    "print(college_df['G181F037'].isnull().sum())\n",
    "college_df['G181F037'].value_counts()"
   ]
  },
  {
   "cell_type": "code",
   "execution_count": 111,
   "id": "33cb6c61",
   "metadata": {},
   "outputs": [
    {
     "name": "stdout",
     "output_type": "stream",
     "text": [
      "0\n",
      "0    13427\n",
      "1     4736\n",
      "Name: G181F038, dtype: int64\n",
      "0\n"
     ]
    },
    {
     "name": "stderr",
     "output_type": "stream",
     "text": [
      "<ipython-input-111-f5a531a3cdfb>:4: SettingWithCopyWarning: \n",
      "A value is trying to be set on a copy of a slice from a DataFrame.\n",
      "Try using .loc[row_indexer,col_indexer] = value instead\n",
      "\n",
      "See the caveats in the documentation: https://pandas.pydata.org/pandas-docs/stable/user_guide/indexing.html#returning-a-view-versus-a-copy\n",
      "  college_df['G181F038'] = college_df['G181F038'].replace(2, 0)\n"
     ]
    },
    {
     "data": {
      "text/plain": [
       "0    13427\n",
       "1     4736\n",
       "Name: G181F038, dtype: int64"
      ]
     },
     "execution_count": 111,
     "metadata": {},
     "output_type": "execute_result"
    }
   ],
   "source": [
    "print(college_df['G181F038'].isnull().sum())\n",
    "print(college_df['G181F038'].value_counts())\n",
    "\n",
    "college_df['G181F038'] = college_df['G181F038'].replace(2, 0)\n",
    "\n",
    "\n",
    "print(college_df['G181F038'].isnull().sum())\n",
    "college_df['G181F038'].value_counts()"
   ]
  },
  {
   "cell_type": "code",
   "execution_count": 112,
   "id": "d30c6c14",
   "metadata": {},
   "outputs": [
    {
     "name": "stdout",
     "output_type": "stream",
     "text": [
      "0\n",
      "0    13116\n",
      "1     5047\n",
      "Name: G181F039, dtype: int64\n",
      "0\n"
     ]
    },
    {
     "name": "stderr",
     "output_type": "stream",
     "text": [
      "<ipython-input-112-17e9b3a9e4ec>:4: SettingWithCopyWarning: \n",
      "A value is trying to be set on a copy of a slice from a DataFrame.\n",
      "Try using .loc[row_indexer,col_indexer] = value instead\n",
      "\n",
      "See the caveats in the documentation: https://pandas.pydata.org/pandas-docs/stable/user_guide/indexing.html#returning-a-view-versus-a-copy\n",
      "  college_df['G181F039'] = college_df['G181F039'].replace(2, 0)\n"
     ]
    },
    {
     "data": {
      "text/plain": [
       "0    13116\n",
       "1     5047\n",
       "Name: G181F039, dtype: int64"
      ]
     },
     "execution_count": 112,
     "metadata": {},
     "output_type": "execute_result"
    }
   ],
   "source": [
    "print(college_df['G181F039'].isnull().sum())\n",
    "print(college_df['G181F039'].value_counts())\n",
    "\n",
    "college_df['G181F039'] = college_df['G181F039'].replace(2, 0)\n",
    "\n",
    "\n",
    "print(college_df['G181F039'].isnull().sum())\n",
    "college_df['G181F039'].value_counts()"
   ]
  },
  {
   "cell_type": "code",
   "execution_count": 113,
   "id": "caeabf83",
   "metadata": {},
   "outputs": [
    {
     "name": "stdout",
     "output_type": "stream",
     "text": [
      "0\n",
      "0    12635\n",
      "1     5528\n",
      "Name: G181F040, dtype: int64\n",
      "0\n"
     ]
    },
    {
     "name": "stderr",
     "output_type": "stream",
     "text": [
      "<ipython-input-113-53fc215a494f>:4: SettingWithCopyWarning: \n",
      "A value is trying to be set on a copy of a slice from a DataFrame.\n",
      "Try using .loc[row_indexer,col_indexer] = value instead\n",
      "\n",
      "See the caveats in the documentation: https://pandas.pydata.org/pandas-docs/stable/user_guide/indexing.html#returning-a-view-versus-a-copy\n",
      "  college_df['G181F040'] = college_df['G181F040'].replace(2, 0)\n"
     ]
    },
    {
     "data": {
      "text/plain": [
       "0    12635\n",
       "1     5528\n",
       "Name: G181F040, dtype: int64"
      ]
     },
     "execution_count": 113,
     "metadata": {},
     "output_type": "execute_result"
    }
   ],
   "source": [
    "print(college_df['G181F040'].isnull().sum())\n",
    "print(college_df['G181F040'].value_counts())\n",
    "\n",
    "college_df['G181F040'] = college_df['G181F040'].replace(2, 0)\n",
    "\n",
    "\n",
    "print(college_df['G181F040'].isnull().sum())\n",
    "college_df['G181F040'].value_counts()"
   ]
  },
  {
   "cell_type": "code",
   "execution_count": 114,
   "id": "9de683e7",
   "metadata": {},
   "outputs": [
    {
     "name": "stdout",
     "output_type": "stream",
     "text": [
      "0\n",
      "0    16313\n",
      "1     1850\n",
      "Name: G181F041, dtype: int64\n",
      "0\n"
     ]
    },
    {
     "name": "stderr",
     "output_type": "stream",
     "text": [
      "<ipython-input-114-775e154886fb>:4: SettingWithCopyWarning: \n",
      "A value is trying to be set on a copy of a slice from a DataFrame.\n",
      "Try using .loc[row_indexer,col_indexer] = value instead\n",
      "\n",
      "See the caveats in the documentation: https://pandas.pydata.org/pandas-docs/stable/user_guide/indexing.html#returning-a-view-versus-a-copy\n",
      "  college_df['G181F041'] = college_df['G181F041'].replace(2, 0)\n"
     ]
    },
    {
     "data": {
      "text/plain": [
       "0    16313\n",
       "1     1850\n",
       "Name: G181F041, dtype: int64"
      ]
     },
     "execution_count": 114,
     "metadata": {},
     "output_type": "execute_result"
    }
   ],
   "source": [
    "print(college_df['G181F041'].isnull().sum())\n",
    "print(college_df['G181F041'].value_counts())\n",
    "\n",
    "college_df['G181F041'] = college_df['G181F041'].replace(2, 0)\n",
    "\n",
    "\n",
    "print(college_df['G181F041'].isnull().sum())\n",
    "college_df['G181F041'].value_counts()"
   ]
  },
  {
   "cell_type": "code",
   "execution_count": 115,
   "id": "0e18f85e",
   "metadata": {},
   "outputs": [
    {
     "name": "stdout",
     "output_type": "stream",
     "text": [
      "0\n",
      "0    13789\n",
      "1     4374\n",
      "Name: G181F042, dtype: int64\n",
      "0\n"
     ]
    },
    {
     "name": "stderr",
     "output_type": "stream",
     "text": [
      "<ipython-input-115-c747eea81e14>:4: SettingWithCopyWarning: \n",
      "A value is trying to be set on a copy of a slice from a DataFrame.\n",
      "Try using .loc[row_indexer,col_indexer] = value instead\n",
      "\n",
      "See the caveats in the documentation: https://pandas.pydata.org/pandas-docs/stable/user_guide/indexing.html#returning-a-view-versus-a-copy\n",
      "  college_df['G181F042'] = college_df['G181F042'].replace(2, 0)\n"
     ]
    },
    {
     "data": {
      "text/plain": [
       "0    13789\n",
       "1     4374\n",
       "Name: G181F042, dtype: int64"
      ]
     },
     "execution_count": 115,
     "metadata": {},
     "output_type": "execute_result"
    }
   ],
   "source": [
    "print(college_df['G181F042'].isnull().sum())\n",
    "print(college_df['G181F042'].value_counts())\n",
    "\n",
    "college_df['G181F042'] = college_df['G181F042'].replace(2, 0)\n",
    "\n",
    "\n",
    "print(college_df['G181F042'].isnull().sum())\n",
    "college_df['G181F042'].value_counts()"
   ]
  },
  {
   "cell_type": "code",
   "execution_count": 116,
   "id": "f594ed21",
   "metadata": {},
   "outputs": [
    {
     "name": "stdout",
     "output_type": "stream",
     "text": [
      "0\n",
      "0    18127\n",
      "1       36\n",
      "Name: G181F043, dtype: int64\n",
      "0\n"
     ]
    },
    {
     "name": "stderr",
     "output_type": "stream",
     "text": [
      "<ipython-input-116-7061296a9ab7>:4: SettingWithCopyWarning: \n",
      "A value is trying to be set on a copy of a slice from a DataFrame.\n",
      "Try using .loc[row_indexer,col_indexer] = value instead\n",
      "\n",
      "See the caveats in the documentation: https://pandas.pydata.org/pandas-docs/stable/user_guide/indexing.html#returning-a-view-versus-a-copy\n",
      "  college_df['G181F043'] = college_df['G181F043'].replace(2, 0)\n"
     ]
    },
    {
     "data": {
      "text/plain": [
       "0    18127\n",
       "1       36\n",
       "Name: G181F043, dtype: int64"
      ]
     },
     "execution_count": 116,
     "metadata": {},
     "output_type": "execute_result"
    }
   ],
   "source": [
    "print(college_df['G181F043'].isnull().sum())\n",
    "print(college_df['G181F043'].value_counts())\n",
    "\n",
    "college_df['G181F043'] = college_df['G181F043'].replace(2, 0)\n",
    "\n",
    "\n",
    "print(college_df['G181F043'].isnull().sum())\n",
    "college_df['G181F043'].value_counts()"
   ]
  },
  {
   "cell_type": "code",
   "execution_count": 127,
   "id": "4cab2c82",
   "metadata": {},
   "outputs": [
    {
     "name": "stderr",
     "output_type": "stream",
     "text": [
      "<ipython-input-127-49e2b883d95f>:1: SettingWithCopyWarning: \n",
      "A value is trying to be set on a copy of a slice from a DataFrame.\n",
      "Try using .loc[row_indexer,col_indexer] = value instead\n",
      "\n",
      "See the caveats in the documentation: https://pandas.pydata.org/pandas-docs/stable/user_guide/indexing.html#returning-a-view-versus-a-copy\n",
      "  college_df['진로 선택 및 취업준비 프로그램 참여 횟수'] = None\n",
      "<ipython-input-127-49e2b883d95f>:2: SettingWithCopyWarning: \n",
      "A value is trying to be set on a copy of a slice from a DataFrame.\n",
      "Try using .loc[row_indexer,col_indexer] = value instead\n",
      "\n",
      "See the caveats in the documentation: https://pandas.pydata.org/pandas-docs/stable/user_guide/indexing.html#returning-a-view-versus-a-copy\n",
      "  college_df['진로 선택 및 취업준비 프로그램 참여 횟수'] = (college_df['G181F034'].values+college_df['G181F036'].values+\n"
     ]
    }
   ],
   "source": [
    "college_df['진로 선택 및 취업준비 프로그램 참여 횟수'] = None\n",
    "college_df['진로 선택 및 취업준비 프로그램 참여 횟수'] = (college_df['G181F034'].values+college_df['G181F036'].values+\n",
    "college_df['G181F037'].values+college_df['G181F038'].values+college_df['G181F039'].values+college_df['G181F040'].values\n",
    "+college_df['G181F041'].values+college_df['G181F042'].values+college_df['G181F043'].values)"
   ]
  },
  {
   "cell_type": "code",
   "execution_count": 131,
   "id": "a6d4a3e8",
   "metadata": {},
   "outputs": [
    {
     "ename": "KeyError",
     "evalue": "\"['G181F034' 'G181F036' 'G181F037' 'G181F038' 'G181F039' 'G181F040'\\n 'G181F041' 'G181F042' 'G181F043'] not found in axis\"",
     "output_type": "error",
     "traceback": [
      "\u001b[1;31m---------------------------------------------------------------------------\u001b[0m",
      "\u001b[1;31mKeyError\u001b[0m                                  Traceback (most recent call last)",
      "\u001b[1;32m<ipython-input-131-7bc2a5b28532>\u001b[0m in \u001b[0;36m<module>\u001b[1;34m\u001b[0m\n\u001b[0;32m      1\u001b[0m \u001b[0mcollege_df\u001b[0m\u001b[1;33m[\u001b[0m\u001b[1;34m'진로 선택 및 취업준비 프로그램 참여 횟수'\u001b[0m\u001b[1;33m]\u001b[0m\u001b[1;33m\u001b[0m\u001b[1;33m\u001b[0m\u001b[0m\n\u001b[0;32m      2\u001b[0m \u001b[1;33m\u001b[0m\u001b[0m\n\u001b[1;32m----> 3\u001b[1;33m college_df.drop(columns=[\"G181F034\", \"G181F036\" , \"G181F037\" , \"G181F038\" , \"G181F039\" , \"G181F040\" , \"G181F041\" , \"G181F042\" ,\n\u001b[0m\u001b[0;32m      4\u001b[0m                         \"G181F043\"] , inplace=True)\n\u001b[0;32m      5\u001b[0m \u001b[1;33m\u001b[0m\u001b[0m\n",
      "\u001b[1;32m~\\anaconda3\\lib\\site-packages\\pandas\\core\\frame.py\u001b[0m in \u001b[0;36mdrop\u001b[1;34m(self, labels, axis, index, columns, level, inplace, errors)\u001b[0m\n\u001b[0;32m   4306\u001b[0m                 \u001b[0mweight\u001b[0m  \u001b[1;36m1.0\u001b[0m     \u001b[1;36m0.8\u001b[0m\u001b[1;33m\u001b[0m\u001b[1;33m\u001b[0m\u001b[0m\n\u001b[0;32m   4307\u001b[0m         \"\"\"\n\u001b[1;32m-> 4308\u001b[1;33m         return super().drop(\n\u001b[0m\u001b[0;32m   4309\u001b[0m             \u001b[0mlabels\u001b[0m\u001b[1;33m=\u001b[0m\u001b[0mlabels\u001b[0m\u001b[1;33m,\u001b[0m\u001b[1;33m\u001b[0m\u001b[1;33m\u001b[0m\u001b[0m\n\u001b[0;32m   4310\u001b[0m             \u001b[0maxis\u001b[0m\u001b[1;33m=\u001b[0m\u001b[0maxis\u001b[0m\u001b[1;33m,\u001b[0m\u001b[1;33m\u001b[0m\u001b[1;33m\u001b[0m\u001b[0m\n",
      "\u001b[1;32m~\\anaconda3\\lib\\site-packages\\pandas\\core\\generic.py\u001b[0m in \u001b[0;36mdrop\u001b[1;34m(self, labels, axis, index, columns, level, inplace, errors)\u001b[0m\n\u001b[0;32m   4151\u001b[0m         \u001b[1;32mfor\u001b[0m \u001b[0maxis\u001b[0m\u001b[1;33m,\u001b[0m \u001b[0mlabels\u001b[0m \u001b[1;32min\u001b[0m \u001b[0maxes\u001b[0m\u001b[1;33m.\u001b[0m\u001b[0mitems\u001b[0m\u001b[1;33m(\u001b[0m\u001b[1;33m)\u001b[0m\u001b[1;33m:\u001b[0m\u001b[1;33m\u001b[0m\u001b[1;33m\u001b[0m\u001b[0m\n\u001b[0;32m   4152\u001b[0m             \u001b[1;32mif\u001b[0m \u001b[0mlabels\u001b[0m \u001b[1;32mis\u001b[0m \u001b[1;32mnot\u001b[0m \u001b[1;32mNone\u001b[0m\u001b[1;33m:\u001b[0m\u001b[1;33m\u001b[0m\u001b[1;33m\u001b[0m\u001b[0m\n\u001b[1;32m-> 4153\u001b[1;33m                 \u001b[0mobj\u001b[0m \u001b[1;33m=\u001b[0m \u001b[0mobj\u001b[0m\u001b[1;33m.\u001b[0m\u001b[0m_drop_axis\u001b[0m\u001b[1;33m(\u001b[0m\u001b[0mlabels\u001b[0m\u001b[1;33m,\u001b[0m \u001b[0maxis\u001b[0m\u001b[1;33m,\u001b[0m \u001b[0mlevel\u001b[0m\u001b[1;33m=\u001b[0m\u001b[0mlevel\u001b[0m\u001b[1;33m,\u001b[0m \u001b[0merrors\u001b[0m\u001b[1;33m=\u001b[0m\u001b[0merrors\u001b[0m\u001b[1;33m)\u001b[0m\u001b[1;33m\u001b[0m\u001b[1;33m\u001b[0m\u001b[0m\n\u001b[0m\u001b[0;32m   4154\u001b[0m \u001b[1;33m\u001b[0m\u001b[0m\n\u001b[0;32m   4155\u001b[0m         \u001b[1;32mif\u001b[0m \u001b[0minplace\u001b[0m\u001b[1;33m:\u001b[0m\u001b[1;33m\u001b[0m\u001b[1;33m\u001b[0m\u001b[0m\n",
      "\u001b[1;32m~\\anaconda3\\lib\\site-packages\\pandas\\core\\generic.py\u001b[0m in \u001b[0;36m_drop_axis\u001b[1;34m(self, labels, axis, level, errors)\u001b[0m\n\u001b[0;32m   4186\u001b[0m                 \u001b[0mnew_axis\u001b[0m \u001b[1;33m=\u001b[0m \u001b[0maxis\u001b[0m\u001b[1;33m.\u001b[0m\u001b[0mdrop\u001b[0m\u001b[1;33m(\u001b[0m\u001b[0mlabels\u001b[0m\u001b[1;33m,\u001b[0m \u001b[0mlevel\u001b[0m\u001b[1;33m=\u001b[0m\u001b[0mlevel\u001b[0m\u001b[1;33m,\u001b[0m \u001b[0merrors\u001b[0m\u001b[1;33m=\u001b[0m\u001b[0merrors\u001b[0m\u001b[1;33m)\u001b[0m\u001b[1;33m\u001b[0m\u001b[1;33m\u001b[0m\u001b[0m\n\u001b[0;32m   4187\u001b[0m             \u001b[1;32melse\u001b[0m\u001b[1;33m:\u001b[0m\u001b[1;33m\u001b[0m\u001b[1;33m\u001b[0m\u001b[0m\n\u001b[1;32m-> 4188\u001b[1;33m                 \u001b[0mnew_axis\u001b[0m \u001b[1;33m=\u001b[0m \u001b[0maxis\u001b[0m\u001b[1;33m.\u001b[0m\u001b[0mdrop\u001b[0m\u001b[1;33m(\u001b[0m\u001b[0mlabels\u001b[0m\u001b[1;33m,\u001b[0m \u001b[0merrors\u001b[0m\u001b[1;33m=\u001b[0m\u001b[0merrors\u001b[0m\u001b[1;33m)\u001b[0m\u001b[1;33m\u001b[0m\u001b[1;33m\u001b[0m\u001b[0m\n\u001b[0m\u001b[0;32m   4189\u001b[0m             \u001b[0mresult\u001b[0m \u001b[1;33m=\u001b[0m \u001b[0mself\u001b[0m\u001b[1;33m.\u001b[0m\u001b[0mreindex\u001b[0m\u001b[1;33m(\u001b[0m\u001b[1;33m**\u001b[0m\u001b[1;33m{\u001b[0m\u001b[0maxis_name\u001b[0m\u001b[1;33m:\u001b[0m \u001b[0mnew_axis\u001b[0m\u001b[1;33m}\u001b[0m\u001b[1;33m)\u001b[0m\u001b[1;33m\u001b[0m\u001b[1;33m\u001b[0m\u001b[0m\n\u001b[0;32m   4190\u001b[0m \u001b[1;33m\u001b[0m\u001b[0m\n",
      "\u001b[1;32m~\\anaconda3\\lib\\site-packages\\pandas\\core\\indexes\\base.py\u001b[0m in \u001b[0;36mdrop\u001b[1;34m(self, labels, errors)\u001b[0m\n\u001b[0;32m   5589\u001b[0m         \u001b[1;32mif\u001b[0m \u001b[0mmask\u001b[0m\u001b[1;33m.\u001b[0m\u001b[0many\u001b[0m\u001b[1;33m(\u001b[0m\u001b[1;33m)\u001b[0m\u001b[1;33m:\u001b[0m\u001b[1;33m\u001b[0m\u001b[1;33m\u001b[0m\u001b[0m\n\u001b[0;32m   5590\u001b[0m             \u001b[1;32mif\u001b[0m \u001b[0merrors\u001b[0m \u001b[1;33m!=\u001b[0m \u001b[1;34m\"ignore\"\u001b[0m\u001b[1;33m:\u001b[0m\u001b[1;33m\u001b[0m\u001b[1;33m\u001b[0m\u001b[0m\n\u001b[1;32m-> 5591\u001b[1;33m                 \u001b[1;32mraise\u001b[0m \u001b[0mKeyError\u001b[0m\u001b[1;33m(\u001b[0m\u001b[1;34mf\"{labels[mask]} not found in axis\"\u001b[0m\u001b[1;33m)\u001b[0m\u001b[1;33m\u001b[0m\u001b[1;33m\u001b[0m\u001b[0m\n\u001b[0m\u001b[0;32m   5592\u001b[0m             \u001b[0mindexer\u001b[0m \u001b[1;33m=\u001b[0m \u001b[0mindexer\u001b[0m\u001b[1;33m[\u001b[0m\u001b[1;33m~\u001b[0m\u001b[0mmask\u001b[0m\u001b[1;33m]\u001b[0m\u001b[1;33m\u001b[0m\u001b[1;33m\u001b[0m\u001b[0m\n\u001b[0;32m   5593\u001b[0m         \u001b[1;32mreturn\u001b[0m \u001b[0mself\u001b[0m\u001b[1;33m.\u001b[0m\u001b[0mdelete\u001b[0m\u001b[1;33m(\u001b[0m\u001b[0mindexer\u001b[0m\u001b[1;33m)\u001b[0m\u001b[1;33m\u001b[0m\u001b[1;33m\u001b[0m\u001b[0m\n",
      "\u001b[1;31mKeyError\u001b[0m: \"['G181F034' 'G181F036' 'G181F037' 'G181F038' 'G181F039' 'G181F040'\\n 'G181F041' 'G181F042' 'G181F043'] not found in axis\""
     ]
    }
   ],
   "source": [
    "college_df['진로 선택 및 취업준비 프로그램 참여 횟수']\n",
    "\n",
    "college_df.drop(columns=[\"G181F034\", \"G181F036\" , \"G181F037\" , \"G181F038\" , \"G181F039\" , \"G181F040\" , \"G181F041\" , \"G181F042\" ,\n",
    "                        \"G181F043\"] , inplace=True)\n",
    "\n",
    "college_df.columns"
   ]
  },
  {
   "cell_type": "code",
   "execution_count": 133,
   "id": "211acb32",
   "metadata": {},
   "outputs": [
    {
     "data": {
      "text/plain": [
       "Index(['대학 입학 구분', 'G181F073', 'G181F074', 'G181F089', 'G181F101', 'G181F102',\n",
       "       'G181F103', 'G181F104', 'G181F108', 'G181F112', 'G181F116', 'G181F120',\n",
       "       'G181G001', 'G181G014', 'G181G019', 'G181G033', 'G181G038',\n",
       "       '진로 선택 및 취업준비 프로그램 참여 횟수'],\n",
       "      dtype='object')"
      ]
     },
     "execution_count": 133,
     "metadata": {},
     "output_type": "execute_result"
    }
   ],
   "source": [
    "college_df.columns"
   ]
  },
  {
   "cell_type": "code",
   "execution_count": 137,
   "id": "0b7f879e",
   "metadata": {},
   "outputs": [
    {
     "data": {
      "text/plain": [
       "0"
      ]
     },
     "execution_count": 137,
     "metadata": {},
     "output_type": "execute_result"
    }
   ],
   "source": [
    "college_df[['G181F073' , 'G181F074']].value_counts()\n",
    "\n",
    "college_df['진로 선택 및 취업준비 프로그램 참여 횟수'].value_counts()\n",
    "college_df['진로 선택 및 취업준비 프로그램 참여 횟수'].isnull().sum()"
   ]
  },
  {
   "cell_type": "code",
   "execution_count": 141,
   "id": "a4b94b7a",
   "metadata": {},
   "outputs": [
    {
     "name": "stderr",
     "output_type": "stream",
     "text": [
      "<ipython-input-141-5a9c77f10454>:1: SettingWithCopyWarning: \n",
      "A value is trying to be set on a copy of a slice from a DataFrame.\n",
      "Try using .loc[row_indexer,col_indexer] = value instead\n",
      "\n",
      "See the caveats in the documentation: https://pandas.pydata.org/pandas-docs/stable/user_guide/indexing.html#returning-a-view-versus-a-copy\n",
      "  college_df['GPA'] = None\n",
      "<ipython-input-141-5a9c77f10454>:15: SettingWithCopyWarning: \n",
      "A value is trying to be set on a copy of a slice from a DataFrame.\n",
      "Try using .loc[row_indexer,col_indexer] = value instead\n",
      "\n",
      "See the caveats in the documentation: https://pandas.pydata.org/pandas-docs/stable/user_guide/indexing.html#returning-a-view-versus-a-copy\n",
      "  college_df['GPA'] = (college_df['G181F074'] / 4.5 * 100)\n",
      "<ipython-input-141-5a9c77f10454>:11: SettingWithCopyWarning: \n",
      "A value is trying to be set on a copy of a slice from a DataFrame.\n",
      "Try using .loc[row_indexer,col_indexer] = value instead\n",
      "\n",
      "See the caveats in the documentation: https://pandas.pydata.org/pandas-docs/stable/user_guide/indexing.html#returning-a-view-versus-a-copy\n",
      "  college_df['GPA'] = (college_df['G181F074'] / 4.0 * 100)\n",
      "<ipython-input-141-5a9c77f10454>:13: SettingWithCopyWarning: \n",
      "A value is trying to be set on a copy of a slice from a DataFrame.\n",
      "Try using .loc[row_indexer,col_indexer] = value instead\n",
      "\n",
      "See the caveats in the documentation: https://pandas.pydata.org/pandas-docs/stable/user_guide/indexing.html#returning-a-view-versus-a-copy\n",
      "  college_df['GPA'] = (college_df['G181F074'] / 4.3 * 100)\n"
     ]
    }
   ],
   "source": [
    "college_df['GPA'] = None\n",
    "\n",
    "college_df['G181F073'].isnull().sum()\n",
    "college_df['G181F074'].isnull().sum()\n",
    "\n",
    "# 평균 학점 모른다고 대답한 사람(-1) 에 대해서만 결측값 존재 -> 100점 환산 후 평균값으로 대체\n",
    "\n",
    "\n",
    "for i in range(len(college_df['GPA'])):\n",
    "    if college_df['G181F073'][i] == 1:\n",
    "        college_df['GPA'] = (college_df['G181F074'] / 4.0 * 100)\n",
    "    elif college_df['G181F073'][i] == 2:\n",
    "        college_df['GPA'] = (college_df['G181F074'] / 4.3 * 100)\n",
    "    elif college_df['G181F073'][i] == 3:\n",
    "        college_df['GPA'] = (college_df['G181F074'] / 4.5 * 100)"
   ]
  },
  {
   "cell_type": "code",
   "execution_count": 153,
   "id": "448a6c9b",
   "metadata": {},
   "outputs": [
    {
     "name": "stdout",
     "output_type": "stream",
     "text": [
      "80.08269768469746\n"
     ]
    },
    {
     "name": "stderr",
     "output_type": "stream",
     "text": [
      "<ipython-input-153-229b918c4012>:1: SettingWithCopyWarning: \n",
      "A value is trying to be set on a copy of a slice from a DataFrame.\n",
      "Try using .loc[row_indexer,col_indexer] = value instead\n",
      "\n",
      "See the caveats in the documentation: https://pandas.pydata.org/pandas-docs/stable/user_guide/indexing.html#returning-a-view-versus-a-copy\n",
      "  college_df['GPA'] = college_df['GPA'].round(2)\n",
      "<ipython-input-153-229b918c4012>:7: SettingWithCopyWarning: \n",
      "A value is trying to be set on a copy of a slice from a DataFrame.\n",
      "Try using .loc[row_indexer,col_indexer] = value instead\n",
      "\n",
      "See the caveats in the documentation: https://pandas.pydata.org/pandas-docs/stable/user_guide/indexing.html#returning-a-view-versus-a-copy\n",
      "  college_df['GPA'] = college_df['GPA'].fillna(mean_GPA)\n"
     ]
    },
    {
     "data": {
      "text/plain": [
       "0"
      ]
     },
     "execution_count": 153,
     "metadata": {},
     "output_type": "execute_result"
    }
   ],
   "source": [
    "college_df['GPA'] = college_df['GPA'].round(2)\n",
    "\n",
    "college_df['GPA'].describe()\n",
    "mean_GPA = (college_df['GPA']).mean()\n",
    "\n",
    "print(mean_GPA)\n",
    "college_df['GPA'] = college_df['GPA'].fillna(mean_GPA)"
   ]
  },
  {
   "cell_type": "code",
   "execution_count": 155,
   "id": "9bbb97f2",
   "metadata": {},
   "outputs": [
    {
     "name": "stderr",
     "output_type": "stream",
     "text": [
      "<ipython-input-155-bec1ba2853de>:1: SettingWithCopyWarning: \n",
      "A value is trying to be set on a copy of a slice from a DataFrame.\n",
      "Try using .loc[row_indexer,col_indexer] = value instead\n",
      "\n",
      "See the caveats in the documentation: https://pandas.pydata.org/pandas-docs/stable/user_guide/indexing.html#returning-a-view-versus-a-copy\n",
      "  college_df['GPA'] = college_df['GPA'].round(2)\n"
     ]
    }
   ],
   "source": [
    "college_df['GPA'] = college_df['GPA'].round(2)"
   ]
  },
  {
   "cell_type": "code",
   "execution_count": 156,
   "id": "1c028dc0",
   "metadata": {},
   "outputs": [
    {
     "name": "stderr",
     "output_type": "stream",
     "text": [
      "C:\\Users\\hspar\\anaconda3\\lib\\site-packages\\pandas\\core\\frame.py:4308: SettingWithCopyWarning: \n",
      "A value is trying to be set on a copy of a slice from a DataFrame\n",
      "\n",
      "See the caveats in the documentation: https://pandas.pydata.org/pandas-docs/stable/user_guide/indexing.html#returning-a-view-versus-a-copy\n",
      "  return super().drop(\n"
     ]
    },
    {
     "data": {
      "text/plain": [
       "Index(['대학 입학 구분', 'G181F089', 'G181F101', 'G181F102', 'G181F103', 'G181F104',\n",
       "       'G181F108', 'G181F112', 'G181F116', 'G181F120', 'G181G001', 'G181G014',\n",
       "       'G181G019', 'G181G033', 'G181G038', '진로 선택 및 취업준비 프로그램 참여 횟수', 'GPA'],\n",
       "      dtype='object')"
      ]
     },
     "execution_count": 156,
     "metadata": {},
     "output_type": "execute_result"
    }
   ],
   "source": [
    "college_df.drop(columns=[\"G181F073\", \"G181F074\"] , inplace=True)\n",
    "college_df.columns"
   ]
  },
  {
   "cell_type": "code",
   "execution_count": 167,
   "id": "971d3494",
   "metadata": {},
   "outputs": [
    {
     "name": "stderr",
     "output_type": "stream",
     "text": [
      "C:\\Users\\hspar\\anaconda3\\lib\\site-packages\\pandas\\core\\frame.py:4441: SettingWithCopyWarning: \n",
      "A value is trying to be set on a copy of a slice from a DataFrame\n",
      "\n",
      "See the caveats in the documentation: https://pandas.pydata.org/pandas-docs/stable/user_guide/indexing.html#returning-a-view-versus-a-copy\n",
      "  return super().rename(\n"
     ]
    },
    {
     "data": {
      "text/plain": [
       "0           0.0\n",
       "1           0.0\n",
       "2           0.0\n",
       "3           0.0\n",
       "4           0.0\n",
       "          ...  \n",
       "18158     950.0\n",
       "18159       0.0\n",
       "18160    3000.0\n",
       "18161       0.0\n",
       "18162       0.0\n",
       "Name: 학자금대출 금액, Length: 18163, dtype: float64"
      ]
     },
     "execution_count": 167,
     "metadata": {},
     "output_type": "execute_result"
    }
   ],
   "source": [
    "# college_df['G181F089'] = college_df['G181F089'].fillna(0)\n",
    "\n",
    "\n",
    "college_df.rename(columns={'학자금 대출금액' : '학자금대출 금액'} , inplace=True)\n",
    "college_df['학자금대출 금액']"
   ]
  },
  {
   "cell_type": "code",
   "execution_count": 163,
   "id": "87309d6c",
   "metadata": {},
   "outputs": [
    {
     "data": {
      "text/plain": [
       "4.0     4098\n",
       "6.0     2351\n",
       "2.0     2007\n",
       "5.0      716\n",
       "1.0      715\n",
       "8.0      612\n",
       "3.0      348\n",
       "7.0      309\n",
       "10.0     188\n",
       "9.0      124\n",
       "12.0      64\n",
       "11.0      47\n",
       "14.0      19\n",
       "13.0      12\n",
       "15.0      11\n",
       "16.0       7\n",
       "22.0       3\n",
       "18.0       2\n",
       "17.0       2\n",
       "26.0       1\n",
       "20.0       1\n",
       "24.0       1\n",
       "21.0       1\n",
       "25.0       1\n",
       "19.0       1\n",
       "39.0       1\n",
       "Name: G181F103, dtype: int64"
      ]
     },
     "execution_count": 163,
     "metadata": {},
     "output_type": "execute_result"
    }
   ],
   "source": [
    "# 휴학 학기 수\n",
    "\n",
    "college_df['G181F103'].value_counts()\n",
    "# college_df['G181F103'].isnull().sum()"
   ]
  },
  {
   "cell_type": "code",
   "execution_count": 193,
   "id": "9fdaa514",
   "metadata": {},
   "outputs": [
    {
     "name": "stdout",
     "output_type": "stream",
     "text": [
      " 0.0    8970\n",
      "-1.0    4520\n",
      " 1.0    3299\n",
      " 2.0    1054\n",
      " 3.0     266\n",
      " 4.0      42\n",
      " 5.0       8\n",
      " 6.0       3\n",
      " 8.0       1\n",
      "Name: G181F102, dtype: int64\n",
      " 4.0     7417\n",
      " 6.0      778\n",
      " 10.0     742\n",
      " 3.0      635\n",
      " 9.0      486\n",
      " 1.0      458\n",
      " 8.0      412\n",
      " 7.0      382\n",
      " 2.0      274\n",
      " 5.0       47\n",
      "-1.0       10\n",
      "-3.0        1\n",
      "Name: G181F104, dtype: int64\n",
      " 6.0     1050\n",
      " 3.0      736\n",
      " 10.0     473\n",
      " 7.0      453\n",
      " 4.0      438\n",
      " 1.0      407\n",
      " 9.0      259\n",
      " 8.0      218\n",
      " 2.0       96\n",
      " 5.0       54\n",
      "-1.0        8\n",
      "-3.0        2\n",
      "Name: G181F108, dtype: int64\n"
     ]
    },
    {
     "name": "stderr",
     "output_type": "stream",
     "text": [
      "<ipython-input-193-31face6280c6>:11: SettingWithCopyWarning: \n",
      "A value is trying to be set on a copy of a slice from a DataFrame.\n",
      "Try using .loc[row_indexer,col_indexer] = value instead\n",
      "\n",
      "See the caveats in the documentation: https://pandas.pydata.org/pandas-docs/stable/user_guide/indexing.html#returning-a-view-versus-a-copy\n",
      "  college_df['G181F102'] = college_df['G181F102'].fillna(0)\n"
     ]
    }
   ],
   "source": [
    "# 휴학 경험\n",
    "\n",
    "print(college_df['G181F102'].value_counts()) # 총 휴학 횟수\n",
    "\n",
    "print(college_df['G181F104'].value_counts())\n",
    "\n",
    "print(college_df['G181F108'].value_counts())\n",
    "\n",
    "# 우선 휴학 횟수 결측값은 0으로 대체\n",
    "college_df['G181F102'].isnull().sum()\n",
    "college_df['G181F102'] = college_df['G181F102'].fillna(0)"
   ]
  },
  {
   "cell_type": "code",
   "execution_count": 195,
   "id": "f7ffb487",
   "metadata": {},
   "outputs": [
    {
     "name": "stdout",
     "output_type": "stream",
     "text": [
      "0.0    11041\n",
      "1.0     5377\n",
      "2.0     1369\n",
      "3.0      304\n",
      "4.0       57\n",
      "5.0       11\n",
      "6.0        3\n",
      "8.0        1\n",
      "Name: G181F102, dtype: int64\n",
      "1.0    7448\n",
      "0.0    6521\n",
      "2.0    3447\n",
      "3.0     619\n",
      "4.0      95\n",
      "5.0      26\n",
      "6.0       6\n",
      "8.0       1\n",
      "Name: G181F102, dtype: int64\n"
     ]
    },
    {
     "name": "stderr",
     "output_type": "stream",
     "text": [
      "<ipython-input-195-536e9f3f0266>:18: SettingWithCopyWarning: \n",
      "A value is trying to be set on a copy of a slice from a DataFrame.\n",
      "Try using .loc[row_indexer,col_indexer] = value instead\n",
      "\n",
      "See the caveats in the documentation: https://pandas.pydata.org/pandas-docs/stable/user_guide/indexing.html#returning-a-view-versus-a-copy\n",
      "  college_df['G181F102'] = G181F102_value\n"
     ]
    }
   ],
   "source": [
    "college_df['G181F102'].isnull().sum()\n",
    "print(college_df['G181F102'].value_counts())\n",
    "\n",
    "college_df[['G181F102' , 'G181F104']].value_counts()\n",
    "\n",
    "G181F102_value = []\n",
    "\n",
    "\n",
    "\n",
    "for idx , val in enumerate(college_df['G181F102'].values):\n",
    "    if college_df['G181F104'][idx] == 4:\n",
    "        val += 1\n",
    "        G181F102_value.append(val)\n",
    "    else :\n",
    "        G181F102_value.append(val)\n",
    "\n",
    "# print(G181F102_value)\n",
    "college_df['G181F102'] = G181F102_value\n",
    "\n",
    "print(college_df['G181F102'].value_counts())\n"
   ]
  },
  {
   "cell_type": "code",
   "execution_count": 197,
   "id": "6acf35ec",
   "metadata": {},
   "outputs": [
    {
     "name": "stdout",
     "output_type": "stream",
     "text": [
      "1.0    7448\n",
      "0.0    6521\n",
      "2.0    3447\n",
      "3.0     619\n",
      "4.0      95\n",
      "5.0      26\n",
      "6.0       6\n",
      "8.0       1\n",
      "Name: G181F102, dtype: int64\n"
     ]
    }
   ],
   "source": [
    "print(college_df['G181F102'].value_counts())"
   ]
  },
  {
   "cell_type": "code",
   "execution_count": 198,
   "id": "97a402b6",
   "metadata": {},
   "outputs": [
    {
     "name": "stdout",
     "output_type": "stream",
     "text": [
      "0.0    11041\n",
      "1.0     5377\n",
      "2.0     1369\n",
      "3.0      304\n",
      "4.0       57\n",
      "5.0       11\n",
      "6.0        3\n",
      "8.0        1\n",
      "Name: G181F102, dtype: int64\n"
     ]
    },
    {
     "name": "stderr",
     "output_type": "stream",
     "text": [
      "<ipython-input-198-729899f4ee23>:15: SettingWithCopyWarning: \n",
      "A value is trying to be set on a copy of a slice from a DataFrame.\n",
      "Try using .loc[row_indexer,col_indexer] = value instead\n",
      "\n",
      "See the caveats in the documentation: https://pandas.pydata.org/pandas-docs/stable/user_guide/indexing.html#returning-a-view-versus-a-copy\n",
      "  college_df['G181F102'] = G181F102_value\n"
     ]
    }
   ],
   "source": [
    "# 첫 번째 휴학 경험이 군대 경험이면 휴학 횟수 -1\n",
    "\n",
    "G181F102_value = []\n",
    "\n",
    "\n",
    "\n",
    "for idx , val in enumerate(college_df['G181F102'].values):\n",
    "    if college_df['G181F104'][idx] == 4:\n",
    "        val -= 1\n",
    "        G181F102_value.append(val)\n",
    "    else :\n",
    "        G181F102_value.append(val)\n",
    "\n",
    "# print(G181F102_value)\n",
    "college_df['G181F102'] = G181F102_value\n",
    "\n",
    "print(college_df['G181F102'].value_counts())"
   ]
  },
  {
   "cell_type": "code",
   "execution_count": 199,
   "id": "2df5400e",
   "metadata": {},
   "outputs": [
    {
     "name": "stdout",
     "output_type": "stream",
     "text": [
      "0.0    11051\n",
      "1.0     5679\n",
      "2.0     1161\n",
      "3.0      211\n",
      "4.0       47\n",
      "5.0       10\n",
      "6.0        3\n",
      "8.0        1\n",
      "Name: G181F102, dtype: int64\n"
     ]
    },
    {
     "name": "stderr",
     "output_type": "stream",
     "text": [
      "<ipython-input-199-e1b720b07aea>:15: SettingWithCopyWarning: \n",
      "A value is trying to be set on a copy of a slice from a DataFrame.\n",
      "Try using .loc[row_indexer,col_indexer] = value instead\n",
      "\n",
      "See the caveats in the documentation: https://pandas.pydata.org/pandas-docs/stable/user_guide/indexing.html#returning-a-view-versus-a-copy\n",
      "  college_df['G181F102'] = G181F102_value\n"
     ]
    }
   ],
   "source": [
    "# 두 번째 휴학 경험이 군대 경험이면 휴학 횟수 -1\n",
    "\n",
    "G181F102_value = []\n",
    "\n",
    "\n",
    "\n",
    "for idx , val in enumerate(college_df['G181F102'].values):\n",
    "    if college_df['G181F108'][idx] == 4:\n",
    "        val -= 1\n",
    "        G181F102_value.append(val)\n",
    "    else :\n",
    "        G181F102_value.append(val)\n",
    "\n",
    "# print(G181F102_value)\n",
    "college_df['G181F102'] = G181F102_value\n",
    "\n",
    "print(college_df['G181F102'].value_counts())"
   ]
  },
  {
   "cell_type": "code",
   "execution_count": 200,
   "id": "d9f0ecc3",
   "metadata": {},
   "outputs": [
    {
     "name": "stdout",
     "output_type": "stream",
     "text": [
      "0.0    11052\n",
      "1.0     5679\n",
      "2.0     1191\n",
      "3.0      184\n",
      "4.0       43\n",
      "5.0       10\n",
      "6.0        3\n",
      "8.0        1\n",
      "Name: G181F102, dtype: int64\n"
     ]
    },
    {
     "name": "stderr",
     "output_type": "stream",
     "text": [
      "<ipython-input-200-b5ed645446d0>:15: SettingWithCopyWarning: \n",
      "A value is trying to be set on a copy of a slice from a DataFrame.\n",
      "Try using .loc[row_indexer,col_indexer] = value instead\n",
      "\n",
      "See the caveats in the documentation: https://pandas.pydata.org/pandas-docs/stable/user_guide/indexing.html#returning-a-view-versus-a-copy\n",
      "  college_df['G181F102'] = G181F102_value\n"
     ]
    }
   ],
   "source": [
    "# 세 번째 휴학 경험이 군대 경험이면 휴학 횟수 -1\n",
    "\n",
    "G181F102_value = []\n",
    "\n",
    "\n",
    "\n",
    "for idx , val in enumerate(college_df['G181F102'].values):\n",
    "    if college_df['G181F112'][idx] == 4:\n",
    "        val -= 1\n",
    "        G181F102_value.append(val)\n",
    "    else :\n",
    "        G181F102_value.append(val)\n",
    "\n",
    "# print(G181F102_value)\n",
    "college_df['G181F102'] = G181F102_value\n",
    "\n",
    "print(college_df['G181F102'].value_counts())"
   ]
  },
  {
   "cell_type": "code",
   "execution_count": 201,
   "id": "3aa0f11a",
   "metadata": {},
   "outputs": [
    {
     "name": "stdout",
     "output_type": "stream",
     "text": [
      "0.0    11052\n",
      "1.0     5681\n",
      "2.0     1189\n",
      "3.0      188\n",
      "4.0       39\n",
      "5.0       10\n",
      "6.0        3\n",
      "8.0        1\n",
      "Name: G181F102, dtype: int64\n"
     ]
    },
    {
     "name": "stderr",
     "output_type": "stream",
     "text": [
      "<ipython-input-201-f31e650999e3>:15: SettingWithCopyWarning: \n",
      "A value is trying to be set on a copy of a slice from a DataFrame.\n",
      "Try using .loc[row_indexer,col_indexer] = value instead\n",
      "\n",
      "See the caveats in the documentation: https://pandas.pydata.org/pandas-docs/stable/user_guide/indexing.html#returning-a-view-versus-a-copy\n",
      "  college_df['G181F102'] = G181F102_value\n"
     ]
    }
   ],
   "source": [
    "# 네 번째 휴학 경험이 군대 경험이면 휴학 횟수 -1\n",
    "\n",
    "G181F102_value = []\n",
    "\n",
    "\n",
    "\n",
    "for idx , val in enumerate(college_df['G181F102'].values):\n",
    "    if college_df['G181F116'][idx] == 4:\n",
    "        val -= 1\n",
    "        G181F102_value.append(val)\n",
    "    else :\n",
    "        G181F102_value.append(val)\n",
    "\n",
    "# print(G181F102_value)\n",
    "college_df['G181F102'] = G181F102_value\n",
    "\n",
    "print(college_df['G181F102'].value_counts())"
   ]
  },
  {
   "cell_type": "code",
   "execution_count": 202,
   "id": "16cd2251",
   "metadata": {},
   "outputs": [
    {
     "name": "stdout",
     "output_type": "stream",
     "text": [
      "0.0    11052\n",
      "1.0     5681\n",
      "2.0     1189\n",
      "3.0      188\n",
      "4.0       39\n",
      "5.0       10\n",
      "6.0        3\n",
      "8.0        1\n",
      "Name: G181F102, dtype: int64\n"
     ]
    },
    {
     "name": "stderr",
     "output_type": "stream",
     "text": [
      "<ipython-input-202-8ca20d45c426>:15: SettingWithCopyWarning: \n",
      "A value is trying to be set on a copy of a slice from a DataFrame.\n",
      "Try using .loc[row_indexer,col_indexer] = value instead\n",
      "\n",
      "See the caveats in the documentation: https://pandas.pydata.org/pandas-docs/stable/user_guide/indexing.html#returning-a-view-versus-a-copy\n",
      "  college_df['G181F102'] = G181F102_value\n"
     ]
    }
   ],
   "source": [
    "# 다섯 번째 휴학 경험이 군대 경험이면 휴학 횟수 -1\n",
    "\n",
    "G181F102_value = []\n",
    "\n",
    "\n",
    "\n",
    "for idx , val in enumerate(college_df['G181F102'].values):\n",
    "    if college_df['G181F120'][idx] == 4:\n",
    "        val -= 1\n",
    "        G181F102_value.append(val)\n",
    "    else :\n",
    "        G181F102_value.append(val)\n",
    "\n",
    "# print(G181F102_value)\n",
    "college_df['G181F102'] = G181F102_value\n",
    "\n",
    "print(college_df['G181F102'].value_counts())"
   ]
  },
  {
   "cell_type": "code",
   "execution_count": 203,
   "id": "ff65c13f",
   "metadata": {},
   "outputs": [
    {
     "name": "stderr",
     "output_type": "stream",
     "text": [
      "C:\\Users\\hspar\\anaconda3\\lib\\site-packages\\pandas\\core\\frame.py:4441: SettingWithCopyWarning: \n",
      "A value is trying to be set on a copy of a slice from a DataFrame\n",
      "\n",
      "See the caveats in the documentation: https://pandas.pydata.org/pandas-docs/stable/user_guide/indexing.html#returning-a-view-versus-a-copy\n",
      "  return super().rename(\n",
      "C:\\Users\\hspar\\anaconda3\\lib\\site-packages\\pandas\\core\\frame.py:4308: SettingWithCopyWarning: \n",
      "A value is trying to be set on a copy of a slice from a DataFrame\n",
      "\n",
      "See the caveats in the documentation: https://pandas.pydata.org/pandas-docs/stable/user_guide/indexing.html#returning-a-view-versus-a-copy\n",
      "  return super().drop(\n"
     ]
    },
    {
     "data": {
      "text/plain": [
       "Index(['대학 입학 구분', '학자금대출 금액', 'G181F101', '휴학 횟수', 'G181F103', 'G181G001',\n",
       "       'G181G014', 'G181G019', 'G181G033', 'G181G038',\n",
       "       '진로 선택 및 취업준비 프로그램 참여 횟수', 'GPA'],\n",
       "      dtype='object')"
      ]
     },
     "execution_count": 203,
     "metadata": {},
     "output_type": "execute_result"
    }
   ],
   "source": [
    "# 휴학 횟수 정리\n",
    "college_df.rename(columns={'G181F102' : '휴학 횟수'} , inplace=True)\n",
    "\n",
    "college_df.drop(columns=['G181F104' , 'G181F108' , 'G181F112' , 'G181F116' , 'G181F120'] , inplace=True)\n",
    "\n",
    "college_df.columns"
   ]
  },
  {
   "cell_type": "code",
   "execution_count": 204,
   "id": "c6dd261d",
   "metadata": {},
   "outputs": [
    {
     "name": "stderr",
     "output_type": "stream",
     "text": [
      "C:\\Users\\hspar\\anaconda3\\lib\\site-packages\\pandas\\core\\frame.py:4308: SettingWithCopyWarning: \n",
      "A value is trying to be set on a copy of a slice from a DataFrame\n",
      "\n",
      "See the caveats in the documentation: https://pandas.pydata.org/pandas-docs/stable/user_guide/indexing.html#returning-a-view-versus-a-copy\n",
      "  return super().drop(\n"
     ]
    },
    {
     "data": {
      "text/plain": [
       "Index(['대학 입학 구분', '학자금대출 금액', '휴학 횟수', 'G181G001', 'G181G014', 'G181G019',\n",
       "       'G181G033', 'G181G038', '진로 선택 및 취업준비 프로그램 참여 횟수', 'GPA'],\n",
       "      dtype='object')"
      ]
     },
     "execution_count": 204,
     "metadata": {},
     "output_type": "execute_result"
    }
   ],
   "source": [
    "college_df.drop(columns=['G181F101' , 'G181F103'] , inplace=True)\n",
    "\n",
    "# 휴학 경험 유무 / 휴학 학기 삭제\n",
    "\n",
    "college_df.columns"
   ]
  },
  {
   "cell_type": "code",
   "execution_count": 224,
   "id": "e8efaebf",
   "metadata": {},
   "outputs": [
    {
     "name": "stdout",
     "output_type": "stream",
     "text": [
      "2    15361\n",
      "1     2802\n",
      "Name: G181G001, dtype: int64\n",
      "0\n"
     ]
    }
   ],
   "source": [
    "# 대학원 경험 확인\n",
    "\n",
    "print(college_df['G181G001'].value_counts())\n",
    "print(college_df['G181G001'].isnull().sum())\n",
    "# 결측값은 없다\n",
    "\n"
   ]
  },
  {
   "cell_type": "code",
   "execution_count": 226,
   "id": "7b6c0546",
   "metadata": {},
   "outputs": [
    {
     "data": {
      "text/plain": [
       "0.0    16022\n",
       "1.0     1874\n",
       "3.0      251\n",
       "4.0       14\n",
       "2.0        2\n",
       "Name: G181G014, dtype: int64"
      ]
     },
     "execution_count": 226,
     "metadata": {},
     "output_type": "execute_result"
    }
   ],
   "source": [
    "college_df['G181G014'].value_counts()"
   ]
  },
  {
   "cell_type": "code",
   "execution_count": 230,
   "id": "ce76bf3a",
   "metadata": {},
   "outputs": [
    {
     "name": "stdout",
     "output_type": "stream",
     "text": [
      "G181G014  G181G019\n",
      "1.0       1.0         1683\n",
      "0.0       1.0          513\n",
      "3.0       1.0          244\n",
      "1.0       2.0          191\n",
      "0.0       2.0          148\n",
      "4.0       1.0            9\n",
      "3.0       2.0            7\n",
      "4.0       2.0            5\n",
      "2.0       1.0            2\n",
      "dtype: int64\n",
      "G181G014  G181G019  G181G033  G181G038\n",
      "1.0       2.0       2.0       1.0         17\n",
      "0.0       2.0       1.0       1.0         10\n",
      "1.0       2.0       1.0       1.0          7\n",
      "0.0       2.0       1.0       2.0          1\n",
      "1.0       1.0       1.0       2.0          1\n",
      "          2.0       1.0       2.0          1\n",
      "                    3.0       1.0          1\n",
      "3.0       2.0       1.0       1.0          1\n",
      "                    3.0       1.0          1\n",
      "dtype: int64\n"
     ]
    },
    {
     "name": "stderr",
     "output_type": "stream",
     "text": [
      "<ipython-input-230-11ac56904475>:8: SettingWithCopyWarning: \n",
      "A value is trying to be set on a copy of a slice from a DataFrame.\n",
      "Try using .loc[row_indexer,col_indexer] = value instead\n",
      "\n",
      "See the caveats in the documentation: https://pandas.pydata.org/pandas-docs/stable/user_guide/indexing.html#returning-a-view-versus-a-copy\n",
      "  college_df['석사/박사 재학여부'] = None\n",
      "<ipython-input-230-11ac56904475>:27: SettingWithCopyWarning: \n",
      "A value is trying to be set on a copy of a slice from a DataFrame\n",
      "\n",
      "See the caveats in the documentation: https://pandas.pydata.org/pandas-docs/stable/user_guide/indexing.html#returning-a-view-versus-a-copy\n",
      "  college_df['석사/박사 재학여부'][idx] = 0\n",
      "<ipython-input-230-11ac56904475>:17: SettingWithCopyWarning: \n",
      "A value is trying to be set on a copy of a slice from a DataFrame\n",
      "\n",
      "See the caveats in the documentation: https://pandas.pydata.org/pandas-docs/stable/user_guide/indexing.html#returning-a-view-versus-a-copy\n",
      "  college_df['석사/박사 재학여부'][idx] = 1\n",
      "<ipython-input-230-11ac56904475>:19: SettingWithCopyWarning: \n",
      "A value is trying to be set on a copy of a slice from a DataFrame\n",
      "\n",
      "See the caveats in the documentation: https://pandas.pydata.org/pandas-docs/stable/user_guide/indexing.html#returning-a-view-versus-a-copy\n",
      "  college_df['석사/박사 재학여부'][idx] = 4\n",
      "<ipython-input-230-11ac56904475>:21: SettingWithCopyWarning: \n",
      "A value is trying to be set on a copy of a slice from a DataFrame\n",
      "\n",
      "See the caveats in the documentation: https://pandas.pydata.org/pandas-docs/stable/user_guide/indexing.html#returning-a-view-versus-a-copy\n",
      "  college_df['석사/박사 재학여부'][idx] = 2\n",
      "<ipython-input-230-11ac56904475>:23: SettingWithCopyWarning: \n",
      "A value is trying to be set on a copy of a slice from a DataFrame\n",
      "\n",
      "See the caveats in the documentation: https://pandas.pydata.org/pandas-docs/stable/user_guide/indexing.html#returning-a-view-versus-a-copy\n",
      "  college_df['석사/박사 재학여부'][idx] = 5\n"
     ]
    },
    {
     "data": {
      "text/plain": [
       "0    16038\n",
       "1     1683\n",
       "2      244\n",
       "4      191\n",
       "5        7\n",
       "Name: 석사/박사 재학여부, dtype: int64"
      ]
     },
     "execution_count": 230,
     "metadata": {},
     "output_type": "execute_result"
    }
   ],
   "source": [
    "print(college_df[['G181G014' , 'G181G019']].value_counts())\n",
    "\n",
    "# G181G014\n",
    "# 1: 석사 , 2:박사 , 3:석박사\n",
    "# 1 : 재학중 , 2: 졸업\n",
    "# 1 -> 1 : 석사 재학중\n",
    "\n",
    "college_df['석사/박사 재학여부'] = None\n",
    "# 1: 석사 재학중 , 2 : 석박사 통합 재학중, 3 : 박사 재학중 , 4: 석사 졸업 , 5: 석박사 통합 졸업 , 0: 경험 없음\n",
    "\n",
    "\n",
    "print(college_df[['G181G014' , 'G181G019' , 'G181G033' , 'G181G038']].value_counts())\n",
    "\n",
    "\n",
    "for idx , val in enumerate(college_df['G181G014'].values):\n",
    "    if val == 1 and college_df['G181G019'][idx] == 1:\n",
    "        college_df['석사/박사 재학여부'][idx] = 1\n",
    "    elif val == 1 and college_df['G181G019'][idx] == 2:\n",
    "        college_df['석사/박사 재학여부'][idx] = 4\n",
    "    elif val == 3 and college_df['G181G019'][idx] == 1:\n",
    "        college_df['석사/박사 재학여부'][idx] = 2\n",
    "    elif val == 3 and college_df['G181G019'][idx] == 2:\n",
    "        college_df['석사/박사 재학여부'][idx] = 5   \n",
    "    elif val == 1 and college_df['G181G019'][idx] == 2 and college_df['G181G033'][idx] == 2 and college_df['G181G038'][idx]==1:\n",
    "        college_df['석사/박사 재학여부'][idx] = 3\n",
    "    else : \n",
    "        college_df['석사/박사 재학여부'][idx] = 0\n",
    "\n",
    "        \n",
    "college_df['석사/박사 재학여부'].value_counts()"
   ]
  },
  {
   "cell_type": "code",
   "execution_count": 232,
   "id": "e74de89a",
   "metadata": {},
   "outputs": [
    {
     "name": "stderr",
     "output_type": "stream",
     "text": [
      "<ipython-input-232-3a96efbe99a3>:3: SettingWithCopyWarning: \n",
      "A value is trying to be set on a copy of a slice from a DataFrame\n",
      "\n",
      "See the caveats in the documentation: https://pandas.pydata.org/pandas-docs/stable/user_guide/indexing.html#returning-a-view-versus-a-copy\n",
      "  college_df['석사/박사 재학여부'][idx] = 3\n"
     ]
    },
    {
     "data": {
      "text/plain": [
       "0    16038\n",
       "1     1683\n",
       "2      244\n",
       "4      174\n",
       "3       17\n",
       "5        7\n",
       "Name: 석사/박사 재학여부, dtype: int64"
      ]
     },
     "execution_count": 232,
     "metadata": {},
     "output_type": "execute_result"
    }
   ],
   "source": [
    "for idx , val in enumerate(college_df['G181G014'].values):\n",
    "    if val == 1 and college_df['G181G019'][idx] == 2 and college_df['G181G033'][idx] == 2 and college_df['G181G038'][idx]==1:\n",
    "        college_df['석사/박사 재학여부'][idx] = 3\n",
    "\n",
    "college_df['석사/박사 재학여부'].value_counts()"
   ]
  },
  {
   "cell_type": "code",
   "execution_count": 234,
   "id": "138de917",
   "metadata": {},
   "outputs": [
    {
     "name": "stderr",
     "output_type": "stream",
     "text": [
      "C:\\Users\\hspar\\anaconda3\\lib\\site-packages\\pandas\\core\\frame.py:4308: SettingWithCopyWarning: \n",
      "A value is trying to be set on a copy of a slice from a DataFrame\n",
      "\n",
      "See the caveats in the documentation: https://pandas.pydata.org/pandas-docs/stable/user_guide/indexing.html#returning-a-view-versus-a-copy\n",
      "  return super().drop(\n"
     ]
    }
   ],
   "source": [
    "college_df.drop(columns=['G181G001' , 'G181G014' , 'G181G019' , 'G181G033' , 'G181G038'] , inplace=True)"
   ]
  },
  {
   "cell_type": "code",
   "execution_count": 238,
   "id": "90880108",
   "metadata": {},
   "outputs": [
    {
     "data": {
      "text/plain": [
       "Index(['대학 입학 구분', '학자금대출 금액', '휴학 횟수', '진로 선택 및 취업준비 프로그램 참여 횟수', 'GPA',\n",
       "       '석사/박사 재학여부'],\n",
       "      dtype='object')"
      ]
     },
     "execution_count": 238,
     "metadata": {},
     "output_type": "execute_result"
    }
   ],
   "source": [
    "college_df.columns"
   ]
  },
  {
   "cell_type": "code",
   "execution_count": 241,
   "id": "5277c9b0",
   "metadata": {},
   "outputs": [
    {
     "name": "stderr",
     "output_type": "stream",
     "text": [
      "<ipython-input-241-b422ae372a65>:1: SettingWithCopyWarning: \n",
      "A value is trying to be set on a copy of a slice from a DataFrame.\n",
      "Try using .loc[row_indexer,col_indexer] = value instead\n",
      "\n",
      "See the caveats in the documentation: https://pandas.pydata.org/pandas-docs/stable/user_guide/indexing.html#returning-a-view-versus-a-copy\n",
      "  college_df['석사/박사 재학여부'] = college_df['석사/박사 재학여부'].astype(float)\n"
     ]
    }
   ],
   "source": [
    "college_df['석사/박사 재학여부'] = college_df['석사/박사 재학여부'].astype(float)"
   ]
  },
  {
   "cell_type": "code",
   "execution_count": 242,
   "id": "69917c46",
   "metadata": {},
   "outputs": [
    {
     "name": "stdout",
     "output_type": "stream",
     "text": [
      "<class 'pandas.core.frame.DataFrame'>\n",
      "RangeIndex: 18163 entries, 0 to 18162\n",
      "Data columns (total 6 columns):\n",
      " #   Column                   Non-Null Count  Dtype  \n",
      "---  ------                   --------------  -----  \n",
      " 0   대학 입학 구분                 18163 non-null  int64  \n",
      " 1   학자금대출 금액                 18163 non-null  float64\n",
      " 2   휴학 횟수                    18163 non-null  float64\n",
      " 3   진로 선택 및 취업준비 프로그램 참여 횟수  18163 non-null  int64  \n",
      " 4   GPA                      18163 non-null  float64\n",
      " 5   석사/박사 재학여부               18163 non-null  float64\n",
      "dtypes: float64(4), int64(2)\n",
      "memory usage: 851.5 KB\n"
     ]
    }
   ],
   "source": [
    "college_df.info()"
   ]
  },
  {
   "cell_type": "code",
   "execution_count": 244,
   "id": "9edfd220",
   "metadata": {},
   "outputs": [
    {
     "data": {
      "text/html": [
       "<div>\n",
       "<style scoped>\n",
       "    .dataframe tbody tr th:only-of-type {\n",
       "        vertical-align: middle;\n",
       "    }\n",
       "\n",
       "    .dataframe tbody tr th {\n",
       "        vertical-align: top;\n",
       "    }\n",
       "\n",
       "    .dataframe thead th {\n",
       "        text-align: right;\n",
       "    }\n",
       "</style>\n",
       "<table border=\"1\" class=\"dataframe\">\n",
       "  <thead>\n",
       "    <tr style=\"text-align: right;\">\n",
       "      <th></th>\n",
       "      <th>대학 입학 구분</th>\n",
       "      <th>학자금대출 금액</th>\n",
       "      <th>휴학 횟수</th>\n",
       "      <th>진로 선택 및 취업준비 프로그램 참여 횟수</th>\n",
       "      <th>GPA</th>\n",
       "      <th>석사/박사 재학여부</th>\n",
       "    </tr>\n",
       "  </thead>\n",
       "  <tbody>\n",
       "    <tr>\n",
       "      <th>count</th>\n",
       "      <td>18163.000000</td>\n",
       "      <td>18163.000000</td>\n",
       "      <td>18163.000000</td>\n",
       "      <td>18163.000000</td>\n",
       "      <td>18163.000000</td>\n",
       "      <td>18163.000000</td>\n",
       "    </tr>\n",
       "    <tr>\n",
       "      <th>mean</th>\n",
       "      <td>1.049992</td>\n",
       "      <td>285.103342</td>\n",
       "      <td>0.487530</td>\n",
       "      <td>2.307769</td>\n",
       "      <td>80.082688</td>\n",
       "      <td>0.162583</td>\n",
       "    </tr>\n",
       "    <tr>\n",
       "      <th>std</th>\n",
       "      <td>0.217934</td>\n",
       "      <td>682.622865</td>\n",
       "      <td>0.698368</td>\n",
       "      <td>2.085967</td>\n",
       "      <td>9.620440</td>\n",
       "      <td>0.539738</td>\n",
       "    </tr>\n",
       "    <tr>\n",
       "      <th>min</th>\n",
       "      <td>1.000000</td>\n",
       "      <td>-1.000000</td>\n",
       "      <td>0.000000</td>\n",
       "      <td>0.000000</td>\n",
       "      <td>22.220000</td>\n",
       "      <td>0.000000</td>\n",
       "    </tr>\n",
       "    <tr>\n",
       "      <th>25%</th>\n",
       "      <td>1.000000</td>\n",
       "      <td>0.000000</td>\n",
       "      <td>0.000000</td>\n",
       "      <td>0.000000</td>\n",
       "      <td>73.330000</td>\n",
       "      <td>0.000000</td>\n",
       "    </tr>\n",
       "    <tr>\n",
       "      <th>50%</th>\n",
       "      <td>1.000000</td>\n",
       "      <td>0.000000</td>\n",
       "      <td>0.000000</td>\n",
       "      <td>2.000000</td>\n",
       "      <td>82.220000</td>\n",
       "      <td>0.000000</td>\n",
       "    </tr>\n",
       "    <tr>\n",
       "      <th>75%</th>\n",
       "      <td>1.000000</td>\n",
       "      <td>150.000000</td>\n",
       "      <td>1.000000</td>\n",
       "      <td>4.000000</td>\n",
       "      <td>86.670000</td>\n",
       "      <td>0.000000</td>\n",
       "    </tr>\n",
       "    <tr>\n",
       "      <th>max</th>\n",
       "      <td>2.000000</td>\n",
       "      <td>18231.000000</td>\n",
       "      <td>8.000000</td>\n",
       "      <td>9.000000</td>\n",
       "      <td>100.000000</td>\n",
       "      <td>5.000000</td>\n",
       "    </tr>\n",
       "  </tbody>\n",
       "</table>\n",
       "</div>"
      ],
      "text/plain": [
       "           대학 입학 구분      학자금대출 금액         휴학 횟수  진로 선택 및 취업준비 프로그램 참여 횟수           GPA    석사/박사 재학여부\n",
       "count  18163.000000  18163.000000  18163.000000             18163.000000  18163.000000  18163.000000\n",
       "mean       1.049992    285.103342      0.487530                 2.307769     80.082688      0.162583\n",
       "std        0.217934    682.622865      0.698368                 2.085967      9.620440      0.539738\n",
       "min        1.000000     -1.000000      0.000000                 0.000000     22.220000      0.000000\n",
       "25%        1.000000      0.000000      0.000000                 0.000000     73.330000      0.000000\n",
       "50%        1.000000      0.000000      0.000000                 2.000000     82.220000      0.000000\n",
       "75%        1.000000    150.000000      1.000000                 4.000000     86.670000      0.000000\n",
       "max        2.000000  18231.000000      8.000000                 9.000000    100.000000      5.000000"
      ]
     },
     "execution_count": 244,
     "metadata": {},
     "output_type": "execute_result"
    }
   ],
   "source": [
    "college_df.describe()"
   ]
  },
  {
   "cell_type": "code",
   "execution_count": 248,
   "id": "f951a609",
   "metadata": {},
   "outputs": [
    {
     "data": {
      "text/html": [
       "<div>\n",
       "<style scoped>\n",
       "    .dataframe tbody tr th:only-of-type {\n",
       "        vertical-align: middle;\n",
       "    }\n",
       "\n",
       "    .dataframe tbody tr th {\n",
       "        vertical-align: top;\n",
       "    }\n",
       "\n",
       "    .dataframe thead th {\n",
       "        text-align: right;\n",
       "    }\n",
       "</style>\n",
       "<table border=\"1\" class=\"dataframe\">\n",
       "  <thead>\n",
       "    <tr style=\"text-align: right;\">\n",
       "      <th></th>\n",
       "      <th>대학 입학 구분</th>\n",
       "      <th>학자금대출 금액</th>\n",
       "      <th>휴학 횟수</th>\n",
       "      <th>진로 선택 및 취업준비 프로그램 참여 횟수</th>\n",
       "      <th>GPA</th>\n",
       "      <th>석사/박사 재학여부</th>\n",
       "    </tr>\n",
       "  </thead>\n",
       "  <tbody>\n",
       "    <tr>\n",
       "      <th>count</th>\n",
       "      <td>18163.000000</td>\n",
       "      <td>18163.000000</td>\n",
       "      <td>18163.000000</td>\n",
       "      <td>18163.000000</td>\n",
       "      <td>18163.000000</td>\n",
       "      <td>18163.000000</td>\n",
       "    </tr>\n",
       "    <tr>\n",
       "      <th>mean</th>\n",
       "      <td>1.049992</td>\n",
       "      <td>285.103727</td>\n",
       "      <td>0.487530</td>\n",
       "      <td>2.307769</td>\n",
       "      <td>80.082688</td>\n",
       "      <td>0.162583</td>\n",
       "    </tr>\n",
       "    <tr>\n",
       "      <th>std</th>\n",
       "      <td>0.217934</td>\n",
       "      <td>682.622704</td>\n",
       "      <td>0.698368</td>\n",
       "      <td>2.085967</td>\n",
       "      <td>9.620440</td>\n",
       "      <td>0.539738</td>\n",
       "    </tr>\n",
       "    <tr>\n",
       "      <th>min</th>\n",
       "      <td>1.000000</td>\n",
       "      <td>0.000000</td>\n",
       "      <td>0.000000</td>\n",
       "      <td>0.000000</td>\n",
       "      <td>22.220000</td>\n",
       "      <td>0.000000</td>\n",
       "    </tr>\n",
       "    <tr>\n",
       "      <th>25%</th>\n",
       "      <td>1.000000</td>\n",
       "      <td>0.000000</td>\n",
       "      <td>0.000000</td>\n",
       "      <td>0.000000</td>\n",
       "      <td>73.330000</td>\n",
       "      <td>0.000000</td>\n",
       "    </tr>\n",
       "    <tr>\n",
       "      <th>50%</th>\n",
       "      <td>1.000000</td>\n",
       "      <td>0.000000</td>\n",
       "      <td>0.000000</td>\n",
       "      <td>2.000000</td>\n",
       "      <td>82.220000</td>\n",
       "      <td>0.000000</td>\n",
       "    </tr>\n",
       "    <tr>\n",
       "      <th>75%</th>\n",
       "      <td>1.000000</td>\n",
       "      <td>150.000000</td>\n",
       "      <td>1.000000</td>\n",
       "      <td>4.000000</td>\n",
       "      <td>86.670000</td>\n",
       "      <td>0.000000</td>\n",
       "    </tr>\n",
       "    <tr>\n",
       "      <th>max</th>\n",
       "      <td>2.000000</td>\n",
       "      <td>18231.000000</td>\n",
       "      <td>8.000000</td>\n",
       "      <td>9.000000</td>\n",
       "      <td>100.000000</td>\n",
       "      <td>5.000000</td>\n",
       "    </tr>\n",
       "  </tbody>\n",
       "</table>\n",
       "</div>"
      ],
      "text/plain": [
       "           대학 입학 구분      학자금대출 금액         휴학 횟수  진로 선택 및 취업준비 프로그램 참여 횟수           GPA    석사/박사 재학여부\n",
       "count  18163.000000  18163.000000  18163.000000             18163.000000  18163.000000  18163.000000\n",
       "mean       1.049992    285.103727      0.487530                 2.307769     80.082688      0.162583\n",
       "std        0.217934    682.622704      0.698368                 2.085967      9.620440      0.539738\n",
       "min        1.000000      0.000000      0.000000                 0.000000     22.220000      0.000000\n",
       "25%        1.000000      0.000000      0.000000                 0.000000     73.330000      0.000000\n",
       "50%        1.000000      0.000000      0.000000                 2.000000     82.220000      0.000000\n",
       "75%        1.000000    150.000000      1.000000                 4.000000     86.670000      0.000000\n",
       "max        2.000000  18231.000000      8.000000                 9.000000    100.000000      5.000000"
      ]
     },
     "execution_count": 248,
     "metadata": {},
     "output_type": "execute_result"
    }
   ],
   "source": [
    "for idx , val in enumerate(college_df['학자금대출 금액']):\n",
    "    if val < 0 :\n",
    "        college_df['학자금대출 금액'][idx] = 0\n",
    "        \n",
    "college_df.describe()    "
   ]
  },
  {
   "cell_type": "code",
   "execution_count": 251,
   "id": "2879e50b",
   "metadata": {},
   "outputs": [],
   "source": [
    "college_df.to_csv('졸업대학 특성.csv' , index=False , encoding='utf-8-sig')"
   ]
  }
 ],
 "metadata": {
  "kernelspec": {
   "display_name": "Python 3",
   "language": "python",
   "name": "python3"
  },
  "language_info": {
   "codemirror_mode": {
    "name": "ipython",
    "version": 3
   },
   "file_extension": ".py",
   "mimetype": "text/x-python",
   "name": "python",
   "nbconvert_exporter": "python",
   "pygments_lexer": "ipython3",
   "version": "3.8.8"
  }
 },
 "nbformat": 4,
 "nbformat_minor": 5
}
